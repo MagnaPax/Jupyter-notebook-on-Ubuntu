{
 "cells": [
  {
   "cell_type": "code",
   "execution_count": null,
   "metadata": {},
   "outputs": [],
   "source": [
    "#!pip install cx_Oracle"
   ]
  },
  {
   "cell_type": "code",
   "execution_count": 1,
   "metadata": {},
   "outputs": [],
   "source": [
    "import cx_Oracle as ora"
   ]
  },
  {
   "cell_type": "code",
   "execution_count": 2,
   "metadata": {},
   "outputs": [
    {
     "data": {
      "text/plain": [
       "'11.2.0.1.0'"
      ]
     },
     "execution_count": 2,
     "metadata": {},
     "output_type": "execute_result"
    }
   ],
   "source": [
    "conn = ora.connect(\"kosmorpa/test00@192.168.0.68:1521/orcl\")\n",
    "conn.version"
   ]
  },
  {
   "cell_type": "code",
   "execution_count": null,
   "metadata": {},
   "outputs": [],
   "source": [
    "# SQL Developer에서 작성 후 실행하기\n",
    "'''\n",
    "create table board2(\n",
    "    no number constraint board_no_pk primary key,\n",
    "    pwd varchar2(10),\n",
    "    writer varchar2(34),\n",
    "    subject varchar2(100),\n",
    "    content varchar2(400),\n",
    "    regdate date default sysdate\n",
    ");\n",
    "\n",
    "create sequence board2_seq\n",
    "increment by 1\n",
    "start with 1;\n",
    "\n",
    "commit;\n",
    "'''"
   ]
  },
  {
   "cell_type": "code",
   "execution_count": 3,
   "metadata": {},
   "outputs": [
    {
     "name": "stdout",
     "output_type": "stream",
     "text": [
      "<cx_Oracle.Cursor on <cx_Oracle.Connection to kosmorpa@192.168.0.68:1521/orcl>>\n"
     ]
    }
   ],
   "source": [
    "# Oracle DB 접속한 객체의 주소값 cursor()\n",
    "cursor = conn.cursor()\n",
    "print(cursor)"
   ]
  },
  {
   "cell_type": "code",
   "execution_count": null,
   "metadata": {
    "scrolled": true
   },
   "outputs": [],
   "source": [
    "# 입력처리\n",
    "writerv = input(\"작성자 :\")\n",
    "pwdv = input(\"비밀번호를 입력 :\")\n",
    "subjectv = input(\"제목 :\")\n",
    "contentv = input(\"내용 :\")\n",
    "print(\"\\n\")\n",
    "print(writerv)\n",
    "print(pwdv)\n",
    "print(subjectv)\n",
    "print(contentv)"
   ]
  },
  {
   "cell_type": "code",
   "execution_count": null,
   "metadata": {},
   "outputs": [],
   "source": [
    "# SQL 문 작성\n",
    "sql_insert='insert into board2 values(board2_seq.nextVal,:pwd,:writer,:subject,:content,sysdate)'\n",
    "#print(sql_insert)\n",
    "# 입력받은 값과 sql 바인딩 처리\n",
    "# execute(sql,bind)\n",
    "cursor.execute(sql_insert,pwd=pwdv,writer=writerv,subject=subjectv,content=contentv)\n",
    "cursor.close()\n",
    "conn.commit()\n",
    "# 오라클과 연결 종료\n",
    "conn.close()"
   ]
  },
  {
   "cell_type": "code",
   "execution_count": null,
   "metadata": {},
   "outputs": [],
   "source": [
    "conn = ora.connect(\"kosmorpa/test00@192.168.0.68:1521/orcl\")\n",
    "conn.version"
   ]
  },
  {
   "cell_type": "code",
   "execution_count": null,
   "metadata": {},
   "outputs": [],
   "source": [
    "# fetchall()\n",
    "cursor = conn.cursor()\n",
    "#print(cursor)\n",
    "sql_select = 'select no,writer,subject,content,regdate from board2 order by 1 desc'\n",
    "cursor.execute(sql_select)\n",
    "print(cursor.fetchall())\n",
    "print(type(cursor.fetchall()))\n",
    "cursor.close()\n",
    "conn.close()"
   ]
  },
  {
   "cell_type": "code",
   "execution_count": null,
   "metadata": {},
   "outputs": [],
   "source": [
    "conn = ora.connect(\"kosmorpa/test00@192.168.0.68:1521/orcl\")\n",
    "conn.version"
   ]
  },
  {
   "cell_type": "code",
   "execution_count": 4,
   "metadata": {},
   "outputs": [
    {
     "name": "stdout",
     "output_type": "stream",
     "text": [
      "상세보기 값 :2\n",
      "(2, '김길동', '하이', '내용', '2020-09-21')\n"
     ]
    }
   ],
   "source": [
    "# findone() : mybatis에서 select_one()\n",
    "# Flask 웹 서비스일 경우 링크를 통해서 파라미터가 전달\n",
    "nov = input(\"상세보기 값 :\")\n",
    "sql_no = \"select no,writer,subject,content, to_char(regdate, 'yyyy-mm-dd') \\\n",
    "regdate from board2 where no=:no\"\n",
    "cursor = conn.cursor()\n",
    "#print(cursor)\n",
    "cursor.execute(sql_no,no=nov)\n",
    "print(cursor.fetchone())\n",
    "cursor.close()"
   ]
  },
  {
   "cell_type": "code",
   "execution_count": 5,
   "metadata": {},
   "outputs": [
    {
     "name": "stdout",
     "output_type": "stream",
     "text": [
      "<cx_Oracle.Connection to kosmorpa@192.168.0.68:1521/orcl>\n"
     ]
    }
   ],
   "source": [
    "import cx_Oracle as ora\n",
    "\n",
    "def connections():\n",
    "    try:\n",
    "        conn = ora.connect(\"kosmorpa/test00@192.168.0.68:1521/orcl\")\n",
    "    except Exception as e:\n",
    "        conn = \"예외발생\"\n",
    "        print(e)\n",
    "        return\n",
    "    return conn\n",
    "\n",
    "def test():\n",
    "    print(connections())\n",
    "    \n",
    "test()"
   ]
  },
  {
   "cell_type": "code",
   "execution_count": 17,
   "metadata": {},
   "outputs": [
    {
     "name": "stdout",
     "output_type": "stream",
     "text": [
      "<cx_Oracle.Connection to kosmorpa@192.168.0.68:1521/orcl>\n",
      "(6, '남주', '벚꽃이 떨어지는 속도', datetime.datetime(2020, 9, 21, 11, 44))\n",
      "(5, '장첸', '그런것까지 알아야 되니?', datetime.datetime(2020, 9, 21, 11, 44, 6))\n",
      "(4, '수양대군', '내 몸속에 일본놈들의 총알이 여섯 개나 박혀 있습니다', datetime.datetime(2020, 9, 21, 11, 43, 7))\n",
      "(3, '둘리', '호잇호잇!!', datetime.datetime(2020, 9, 21, 11, 10, 50))\n",
      "(2, '김길동', '내용', datetime.datetime(2020, 9, 21, 10, 49, 53))\n"
     ]
    }
   ],
   "source": [
    "# 연습문제) 최근 글 5개만 출력하시오.\n",
    "def examSelect():\n",
    "    conn = connections()\n",
    "    print(conn)\n",
    "    sql_select = 'select no,writer,content,regdate from \\\n",
    "    (select rownum,no,writer,content,regdate from \\\n",
    "    (select * from board2 order by 1 desc) where rownum <= 5)'\n",
    "    cursor = conn.cursor()\n",
    "    cursor.execute(sql_select)\n",
    "    rs = cursor.fetchall()\n",
    "    #print(cursor.fetchall())\n",
    "    #print(type(cursor.fetchall()))\n",
    "    cursor.close()\n",
    "    conn.close()\n",
    "    return rs\n",
    "\n",
    "def printoutvalues():\n",
    "    sql_recent = \"select * from board2 where rownum <=5 order by regdate desc;\"\n",
    "    cursor = conn.cursor()\n",
    "    print(sql_recent)\n",
    "    #cursor.execute(sql_recent)\n",
    "    #print(cursor.fetchone())\n",
    "    \n",
    "selectlist5 = examSelect()\n",
    "for e in selectlist5:\n",
    "    print(e)"
   ]
  },
  {
   "cell_type": "code",
   "execution_count": 16,
   "metadata": {},
   "outputs": [
    {
     "name": "stdout",
     "output_type": "stream",
     "text": [
      "fetchmany 5\n",
      "[(6, '11', '남주', '초속 5cm', '벚꽃이 떨어지는 속도', datetime.datetime(2020, 9, 21, 11, 44)), (5, '11', '장첸', '돈 받으러 왔는데', '그런것까지 알아야 되니?', datetime.datetime(2020, 9, 21, 11, 44, 6)), (4, '11', '수양대군', '내가 왕이 될 상인가', '내 몸속에 일본놈들의 총알이 여섯 개나 박혀 있습니다', datetime.datetime(2020, 9, 21, 11, 43, 7)), (3, '11', '둘리', '호잇!', '호잇호잇!!', datetime.datetime(2020, 9, 21, 11, 10, 50)), (2, '11', '김길동', '하이', '내용', datetime.datetime(2020, 9, 21, 10, 49, 53))]\n"
     ]
    }
   ],
   "source": [
    "def myFetchmany():\n",
    "    conn = connections()\n",
    "    cursor = conn.cursor()\n",
    "    sql_select = 'select * from board2 order by 1 desc'\n",
    "    cursor.execute(sql_select)\n",
    "    numRows = 5\n",
    "    res = cursor.fetchmany(numRows = numRows)\n",
    "    print('fetchmany {}'.format(numRows))\n",
    "    cursor.close()\n",
    "    conn.close()\n",
    "    return res\n",
    "\n",
    "print(myFetchmany())"
   ]
  },
  {
   "cell_type": "code",
   "execution_count": 19,
   "metadata": {},
   "outputs": [
    {
     "ename": "SyntaxError",
     "evalue": "invalid syntax (<ipython-input-19-aa052565b33d>, line 9)",
     "output_type": "error",
     "traceback": [
      "\u001b[0;36m  File \u001b[0;32m\"<ipython-input-19-aa052565b33d>\"\u001b[0;36m, line \u001b[0;32m9\u001b[0m\n\u001b[0;31m    except Exception as e:\u001b[0m\n\u001b[0m         ^\u001b[0m\n\u001b[0;31mSyntaxError\u001b[0m\u001b[0;31m:\u001b[0m invalid syntax\n"
     ]
    }
   ],
   "source": [
    "# 삭제 - insert,delete,update\n",
    "def boardDel(num):\n",
    "    conn = connections()\n",
    "    cursor = conn.cursor()\n",
    "    sql_delete = 'delete from board2 where no = :no'\n",
    "    try:\n",
    "        cursor.execute(sql_delete, no=num)\n",
    "        conn.commit()\n",
    "        except Exception as e:\n",
    "            print(e)\n",
    "        finally:\n",
    "            conn.close()\n",
    "            \n",
    "num = input('삭제번호:')\n",
    "boardDel(num)\n",
    "examSelect()"
   ]
  },
  {
   "cell_type": "code",
   "execution_count": null,
   "metadata": {},
   "outputs": [],
   "source": []
  }
 ],
 "metadata": {
  "kernelspec": {
   "display_name": "Python 3",
   "language": "python",
   "name": "python3"
  },
  "language_info": {
   "codemirror_mode": {
    "name": "ipython",
    "version": 3
   },
   "file_extension": ".py",
   "mimetype": "text/x-python",
   "name": "python",
   "nbconvert_exporter": "python",
   "pygments_lexer": "ipython3",
   "version": "3.7.3"
  }
 },
 "nbformat": 4,
 "nbformat_minor": 2
}
