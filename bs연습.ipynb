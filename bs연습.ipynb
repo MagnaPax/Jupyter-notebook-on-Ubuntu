{
 "cells": [
  {
   "cell_type": "code",
   "execution_count": 4,
   "metadata": {},
   "outputs": [
    {
     "name": "stdout",
     "output_type": "stream",
     "text": [
      "Requirement already satisfied: bs4 in /home/kosmo1/anaconda3/lib/python3.7/site-packages (0.0.1)\n",
      "Requirement already satisfied: beautifulsoup4 in /home/kosmo1/anaconda3/lib/python3.7/site-packages (from bs4) (4.7.1)\n",
      "Requirement already satisfied: soupsieve>=1.2 in /home/kosmo1/anaconda3/lib/python3.7/site-packages (from beautifulsoup4->bs4) (1.8)\n",
      "Note: you may need to restart the kernel to use updated packages.\n"
     ]
    }
   ],
   "source": [
    "pip install bs4"
   ]
  },
  {
   "cell_type": "code",
   "execution_count": 6,
   "metadata": {},
   "outputs": [
    {
     "name": "stdout",
     "output_type": "stream",
     "text": [
      "Requirement already satisfied: requests in /home/kosmo1/anaconda3/lib/python3.7/site-packages (2.22.0)\n",
      "Requirement already satisfied: urllib3!=1.25.0,!=1.25.1,<1.26,>=1.21.1 in /home/kosmo1/anaconda3/lib/python3.7/site-packages (from requests) (1.24.2)\n",
      "Requirement already satisfied: idna<2.9,>=2.5 in /home/kosmo1/anaconda3/lib/python3.7/site-packages (from requests) (2.8)\n",
      "Requirement already satisfied: certifi>=2017.4.17 in /home/kosmo1/anaconda3/lib/python3.7/site-packages (from requests) (2019.6.16)\n",
      "Requirement already satisfied: chardet<3.1.0,>=3.0.2 in /home/kosmo1/anaconda3/lib/python3.7/site-packages (from requests) (3.0.4)\n"
     ]
    }
   ],
   "source": [
    "!pip install requests"
   ]
  },
  {
   "cell_type": "code",
   "execution_count": 7,
   "metadata": {},
   "outputs": [
    {
     "name": "stdout",
     "output_type": "stream",
     "text": [
      "Requirement already satisfied: lxml in /home/kosmo1/anaconda3/lib/python3.7/site-packages (4.3.4)\n"
     ]
    }
   ],
   "source": [
    "!pip install lxml"
   ]
  },
  {
   "cell_type": "code",
   "execution_count": 8,
   "metadata": {},
   "outputs": [
    {
     "name": "stdout",
     "output_type": "stream",
     "text": [
      "Requirement already satisfied: beautifulsoup4 in /home/kosmo1/anaconda3/lib/python3.7/site-packages (4.7.1)\n",
      "Requirement already satisfied: soupsieve>=1.2 in /home/kosmo1/anaconda3/lib/python3.7/site-packages (from beautifulsoup4) (1.8)\n"
     ]
    }
   ],
   "source": [
    "!pip install beautifulsoup4"
   ]
  },
  {
   "cell_type": "code",
   "execution_count": 9,
   "metadata": {},
   "outputs": [],
   "source": [
    "import requests\n",
    "import bs4"
   ]
  },
  {
   "cell_type": "code",
   "execution_count": 10,
   "metadata": {},
   "outputs": [
    {
     "data": {
      "text/plain": [
       "'2.22.0'"
      ]
     },
     "execution_count": 10,
     "metadata": {},
     "output_type": "execute_result"
    }
   ],
   "source": [
    "requests.__version__"
   ]
  },
  {
   "cell_type": "code",
   "execution_count": 11,
   "metadata": {},
   "outputs": [
    {
     "data": {
      "text/plain": [
       "'4.7.1'"
      ]
     },
     "execution_count": 11,
     "metadata": {},
     "output_type": "execute_result"
    }
   ],
   "source": [
    "bs4.__version__"
   ]
  },
  {
   "cell_type": "code",
   "execution_count": 12,
   "metadata": {},
   "outputs": [
    {
     "data": {
      "text/plain": [
       "<Response [200]>"
      ]
     },
     "execution_count": 12,
     "metadata": {},
     "output_type": "execute_result"
    }
   ],
   "source": [
    "html = requests.get('https://movie.naver.com/movie/bi/mi/pointWriteFormList.nhn?code=188909&type=after&isActualPointWriteExecute=false&isMileageSubscriptionAlready=false&isMileageSubscriptionReject=false&page=2')\n",
    "html"
   ]
  },
  {
   "cell_type": "code",
   "execution_count": 13,
   "metadata": {
    "collapsed": true,
    "jupyter": {
     "outputs_hidden": true
    }
   },
   "outputs": [
    {
     "data": {
      "text/plain": [
       "'\\r\\n\\r\\n\\r\\n\\r\\n<!DOCTYPE html>\\r\\n<html lang=\"ko\">\\r\\n<head>\\r\\n<meta charset=\"utf-8\">\\r\\n<meta http-equiv=\"X-UA-Compatible\" content=\"IE=edge\">\\r\\n<title>네이버 영화</title>\\r\\n\\n\\n\\n\\t\\n\\t\\n\\t\\n\\t\\n\\t\\t<link rel=\"shortcut icon\" href=\"https://ssl.pstatic.net/static/m/movie/icons/naver_movie_favicon.ico\" type=\"image/x-icon\">\\n\\t\\t\\t\\n\\n\\r\\n\\n<link rel=\"stylesheet\" type=\"text/css\" href=\"/css/common.css?20200806170632\" />\\r\\n\\n<link rel=\"stylesheet\" type=\"text/css\" href=\"/css/movie_tablet.css?20200806170632\" />\\n<link rel=\"stylesheet\" type=\"text/css\" href=\"/css/movie_end.css?20200806170632\" />\\r\\n\\r\\n\\n\\n\\n<script type=\"text/javascript\" src=\"/js/deploy/movie.all.js?20200806170632\"></script>\\n\\n\\n\\r\\n</head>\\r\\n<body>\\r\\n\\t<!-- content -->\\r\\n<input type=\"hidden\" name=\"movieCode\" id=\"movieCode\" value=\"188909\"/>\\r\\n<input type=\"hidden\" name=\"onlyActualPointYn\" id=\"onlyActualPointYn\" value=\"N\"/>\\r\\n<input type=\"hidden\" name=\"includeSpoilerYn\" id=\"includeSpoilerYn\" value=\"N\"/>\\r\\n<input type=\"hidden\" name=\"order\" id=\"order\" value=\"sympathyScore\"/>\\r\\n<input type=\"hidden\" name=\"page\" id=\"page\" value=\"2\"/>\\r\\n<div class=\"ifr_area basic_ifr\">\\r\\n\\t<div class=\"input_netizen \">\\r\\n\\t\\t\\r\\n\\t\\t\\t\\r\\n\\t\\t\\t\\r\\n\\t\\t\\t\\r\\n\\t\\t\\r\\n\\t\\t\\t\\t<!-- [D] 관람객 평점 작성 완료 -->\\r\\n                <div id=\"actualPointWriteExecuteLayer\" class=\"ly_viewer\" style=\"display:none\">\\r\\n                        <h4>관람객 평점 작성 완료 안내</h4>\\r\\n                        <p>관람객 평점이 등록되었습니다.<br><em>네이버페이 포인트 500원</em>이 적립되었습니다.<br><em>7일 이후</em> 확인 가능합니다.</p>\\r\\n                        <p>(평점 삭제시, 적립된 포인트는 회수됩니다.)</p>\\r\\n                        <div class=\"btn\">\\r\\n                                <a href=\"#\" id=\"actualPointWriteExecuteLayerOkButton\" class=\"ok\">확인</a>\\r\\n                                <a href=\"#\" id=\"actualPointWriteExecuteLayerCloseButton\" class=\"close\" title=\"닫기\">관람객 평점 작성 완료 안내 레이어 닫기</a>\\r\\n                        </div>\\r\\n                </div>\\r\\n                <!-- //관람객 평점 작성 완료 -->\\r\\n                \\r\\n                <!-- [D] 관람객 평점 작성 완료2 -->\\r\\n                <div id=\"pointWriteExecuteLayer\" class=\"ly_viewer\" style=\"display:none\">\\r\\n                        <h4>관람객 평점 작성 완료 안내</h4>\\r\\n                        <p class=\"msg1\">관람객 평점이 등록되었습니다.</p>\\r\\n                        <div class=\"btn\">\\r\\n                                <a href=\"#\" id=\"pointWriteExecuteLayerOkButton\" class=\"ok\">확인</a>\\r\\n                                <a href=\"#\" id=\"pointWriteExecuteLayerCloseButton\" class=\"close\" title=\"닫기\">관람객 평점 작성 완료 안내 레이어 닫기</a>\\r\\n                        </div>\\r\\n                </div>\\r\\n                <!-- //관람객 평점 작성 완료2 -->\\r\\n\\t\\t\\t\\t\\r\\n\\t\\t\\t\\t<div class=\"score_total\">\\r\\n\\t\\t\\t\\t\\t<strong class=\"total\">관람객 평점 <em>17,432</em>건<button id=\"open-form-btn\" class=\"btn_review\">내 평점 등록</button></strong>\\r\\n\\t\\t\\t\\t</div>\\r\\n\\t\\t\\t\\t\\r\\n\\t\\t\\t\\t<div id=\"orderCheckbox\" class=\"top_behavior\">\\r\\n\\t\\t\\t\\t\\t<ul class=\"sorting_list\">\\r\\n\\t\\t\\t\\t\\t\\t<li class=\\'on\\'><a href=\"#\" onclick=\"parent.clickcr(this, \\'ara.bysym\\', \\'\\', \\'\\', event); dislplayOrder(\\'sympathyScore\\');\">공감순</a></li>\\r\\n\\t\\t\\t\\t\\t\\t<li><a href=\"#\" onclick=\"parent.clickcr(this, \\'ara.byrct\\', \\'\\', \\'\\', event); dislplayOrder(\\'newest\\');\">최신순</a></li>\\r\\n\\t\\t\\t\\t\\t\\t\\r\\n\\t\\t\\t\\t\\t\\t\\t<li><a href=\"#\" onclick=\"parent.clickcr(this, \\'ara.high\\', \\'\\', \\'\\', event); dislplayOrder(\\'highest\\');\">평점 높은 순</a></li>\\r\\n\\t\\t\\t\\t\\t\\t\\t<li><a href=\"#\" onclick=\"parent.clickcr(this, \\'ara.low\\', \\'\\', \\'\\', event); dislplayOrder(\\'lowest\\');\">평점 낮은 순</a></li>\\r\\n\\t\\t\\t\\t\\t\\t\\r\\n\\t\\t\\t\\t\\t</ul>\\r\\n\\t\\t\\t\\t\\t\\r\\n\\t\\t\\t\\t\\t\\t<ul class=\"quarter_mode\">\\r\\n\\t\\t\\t\\t\\t\\t\\t<li>\\r\\n\\t\\t\\t\\t\\t\\t\\t\\t<input type=\"checkbox\" id=\"spoilerYnCheckBox\" name=\"spilerViewer\" class=\"blind \" title=\"스포일러 보기\" onclick=\"parent.clickcr(this,\\'\\',\\'\\',\\'\\',event); return false;\"  />\\r\\n\\t\\t\\t\\t\\t\\t\\t\\t<label for=\"spoilerYnCheckBox\" id=\"spoilerYnLable\" class=\"label_viewer\">스포일러 보기</label>\\r\\n\\t\\t\\t\\t\\t\\t\\t</li>\\r\\n\\t\\t\\t\\t\\t\\t\\t<li>\\r\\n\\t\\t\\t\\t\\t\\t\\t\\t<input type=\"checkbox\" id=\"actualYnCheckBox\" name=\"viewer\" title=\"관람객 평점만 보기\" class=\"blind \"onclick=\"parent.clickcr(this,\\'ura.mgs\\',\\'\\',\\'\\',event); return false;\"  />\\r\\n\\t\\t\\t\\t\\t\\t\\t\\t<label for=\"actualYnCheckBox\" id=\"actualYnLable\" class=\"label_viewer\">관람객 평점만 보기</label>\\r\\n\\t\\t\\t\\t\\t\\t\\t\\t<a href=\"#\" id=\"actualPointHelpButton\" class=\"help _actualPointHelp\" title=\"도움말\">관람객 평점만 보기 도움말</a>\\r\\n\\t\\t\\t\\t\\t\\t\\t\\t<div id=\"actualPointHelp\" class=\"ly_help _actualPointHelp\" style=\"display:none\">\\r\\n\\t\\t\\t\\t\\t\\t\\t\\t\\t<h5>관람객평점만 보기 안내 레이어</h5>\\r\\n\\t\\t\\t\\t\\t\\t\\t\\t\\t<div class=\"ly_cont _actualPointHelp\">\\r\\n\\t\\t\\t\\t\\t\\t\\t\\t\\t\\t<p>네이버 영화에서 예매하신 고객님들이<br> 영화 관람 후 등록해주신 평점입니다.</p>\\r\\n\\t\\t\\t\\t\\t\\t\\t\\t\\t</div>\\r\\n\\t\\t\\t\\t\\t\\t\\t\\t\\t<button type=\"button\" id=\"actualPointHelpCloseButton\" class=\"btn_close _actualPointHelp\" title=\"닫기\"><span class=\"blind\">관람객 평점만 보기 안내 레이어 닫기</span></button>\\r\\n\\t\\t\\t\\t\\t\\t\\t\\t\\t<span class=\"arr _actualPointHelp\"></span>\\r\\n                                </div>\\r\\n\\t\\t\\t\\t\\t\\t\\t</li>\\r\\n\\t\\t\\t\\t\\t\\t</ul>\\r\\n\\t\\t\\t\\t\\t\\r\\n\\t\\t\\t\\t</div>\\r\\n\\t\\t\\r\\n\\t\\t\\t\\t\\r\\n\\t\\t\\t\\t\\r\\n\\t\\t\\t\\t\\t\\r\\n\\t\\t\\t\\t\\t\\r\\n\\t\\t\\t\\t\\t\\t<div class=\"score_result\">\\r\\n\\t\\t\\t\\t\\t\\t\\t<ul>\\r\\n\\t\\t\\t\\t\\t\\t\\t\\t\\r\\n\\t\\t\\t\\t\\t\\t\\t\\t\\r\\n\\t\\t\\t\\t\\t\\t\\t\\t\\r\\n\\t\\t\\t\\t\\t\\t\\t\\t\\t\\r\\n\\t\\t\\t\\t\\t\\t\\t\\t\\r\\n\\t\\t\\t\\t\\t\\t\\t\\t\\r\\n\\t\\t\\t\\t\\t\\t\\t\\t\\t\\r\\n\\t\\t\\t\\t\\t\\t\\t\\t\\t\\t\\r\\n\\t\\t\\t\\t\\t\\t\\t\\t\\t\\t\\r\\n\\t\\t\\t\\t\\t\\t\\t\\t\\t\\t<li>\\r\\n\\t\\t\\t\\t\\t\\t\\t\\t\\t\\t\\t<div class=\"star_score\">\\r\\n\\t\\t\\t\\t\\t\\t\\t\\t\\t\\t\\t\\t\\r\\n\\t\\t\\t\\t\\t\\t\\t\\t\\t\\t\\t\\t\\t<span class=\"st_off\"><span class=\"st_on\" style=\"width:10.0%\"></span></span><em>1</em>\\r\\n\\t\\t\\t\\t\\t\\t\\t\\t\\t\\t\\t\\t\\r\\n\\t\\t\\t\\t\\t\\t\\t\\t\\t\\t\\t</div>\\r\\n\\t\\t\\t\\t\\t\\t\\t\\t\\t\\t\\t<div class=\"score_reple\">\\r\\n\\t\\t\\t\\t\\t\\t\\t\\t\\t\\t\\t\\t<p>\\r\\n\\t\\t\\t\\t\\t\\t\\t\\t\\t\\t\\t\\t\\t\\r\\n\\t\\t\\t\\t\\t\\t\\t\\t\\t\\t\\t\\t\\t<!-- 스포일러 컨텐츠로 처리되는지 여부 -->\\r\\n\\t\\t\\t\\t\\t\\t\\t\\t\\t\\t\\t\\t\\t\\r\\n\\t\\t\\t\\t\\t\\t\\t\\t\\t\\t\\t\\t\\t\\r\\n\\t\\t\\t\\t\\t\\t\\t\\t\\t\\t\\t\\t\\t\\r\\n\\t\\t\\t\\t\\t\\t\\t\\t\\t\\t\\t\\t\\t<span id=\"_filtered_ment_0\">\\r\\n\\t\\t\\t\\t\\t\\t\\t\\t\\t\\t\\t\\t\\t\\t\\r\\n\\t\\t\\t\\t\\t\\t\\t\\t\\t\\t\\t\\t\\t\\t\\t\\r\\n\\t\\t\\t\\t\\t\\t\\t\\t\\t\\t\\t\\t\\t\\t\\t\\r\\n\\t\\t\\t\\t\\t\\t\\t\\t\\t\\t\\t\\t\\t\\t\\t\\t어떻게 이런 영화를 만들었는ㅈ진짜 재미없음 돈아까움영화 보는중에 졸다가 폰들어 글쓰고 있음반도나 볼껄.. 반도는 스릴이라도 있을꺼같은데 이건뭐 말같지도 않은 전개네이버평점 알바 풀지마라 \\r\\n\\t\\t\\t\\t\\t\\t\\t\\t\\t\\t\\t\\t\\t\\t\\t\\r\\n\\t\\t\\t\\t\\t\\t\\t\\t\\t\\t\\t\\t\\t\\t\\r\\n\\t\\t\\t\\t\\t\\t\\t\\t\\t\\t\\t\\t\\t\\t\\r\\n\\t\\t\\t\\t\\t\\t\\t\\t\\t\\t\\t\\t\\t</span>\\r\\n\\t\\t\\t\\t\\t\\t\\t\\t\\t\\t\\t\\t</p>\\r\\n\\t\\t\\t\\t\\t\\t\\t\\t\\t\\t\\t\\t<dl>\\r\\n\\t\\t\\t\\t\\t\\t\\t\\t\\t\\t\\t\\t\\t<dt>\\r\\n\\t\\t\\t\\t\\t\\t\\t\\t\\t\\t\\t\\t\\t\\t<em>\\r\\n\\t\\t\\t\\t\\t\\t\\t\\t\\t\\t\\t\\t\\t\\t\\t<a href=\"#\" onclick=\"javascript:showPointListByNid(17006793, \\'after\\');parent.clickcr(this, \\'ara.uid\\', \\'\\', \\'\\', event); return false;\" target=\"_top\">\\r\\n\\t\\t\\t\\t\\t\\t\\t\\t\\t\\t\\t\\t\\t\\t\\t\\t<span>yong****</span>\\r\\n\\t\\t\\t\\t\\t\\t\\t\\t\\t\\t\\t\\t\\t\\t\\t</a>\\r\\n\\t\\t\\t\\t\\t\\t\\t\\t\\t\\t\\t\\t\\t\\t</em>\\r\\n\\t\\t\\t\\t\\t\\t\\t\\t\\t\\t\\t\\t\\t\\t<em>2020.07.29 21:52</em>\\r\\n\\t\\t\\t\\t\\t\\t\\t\\t\\t\\t\\t\\t\\t</dt>\\r\\n\\t\\t\\t\\t\\t\\t\\t\\t\\t\\t\\t\\t\\t<dd>\\r\\n\\t\\t\\t\\t\\t\\t\\t\\t\\t\\t\\t\\t\\t\\t\\r\\n\\t\\t\\t\\t\\t\\t\\t\\t\\t\\t\\t\\t\\t\\t\\t\\r\\n\\t\\t\\t\\t\\t\\t\\t\\t\\t\\t\\t\\t\\t\\t\\t\\r\\n\\t\\t\\t\\t\\t\\t\\t\\t\\t\\t\\t\\t\\t\\t\\t\\t<a href=\"#\" onclick=\"parent.clickcr(this, \\'ara.report\\', \\'\\', \\'\\', event); common.report(\\'false\\',\\'yong****\\', \\'6HsMgh3Lf1oY6e2Rz5K9LLnnWQVrFAErqiL45j6R7gI=\\', \\'어떻게 이런 영화를 만들었는ㅈ진짜 재미없음 돈아까움영화 보는중에 졸다가 폰들어 글쓰고 있음반도나 볼껄.. 반도는 스릴이라도 있을꺼같은데 이건뭐 말같지도 않은 전개네이버평점 알바 풀지마라 \\', \\'17006793\\', \\'point_after\\', false);return false;\" class=\"go_report2\"><em>신고</em></a>\\r\\n\\t\\t\\t\\t\\t\\t\\t\\t\\t\\t\\t\\t\\t\\t\\t\\r\\n\\t\\t\\t\\t\\t\\t\\t\\t\\t\\t\\t\\t\\t\\t\\r\\n\\t\\t\\t\\t\\t\\t\\t\\t\\t\\t\\t\\t\\t</dd>\\r\\n\\t\\t\\t\\t\\t\\t\\t\\t\\t\\t\\t\\t</dl>\\r\\n\\t\\t\\t\\t\\t\\t\\t\\t\\t\\t\\t</div>\\r\\n\\t\\t\\t\\t\\t\\t\\t\\t\\t\\t\\t<div class=\"btn_area\">\\r\\n\\t\\t\\t\\t\\t\\t\\t\\t\\t\\t\\t\\t<a class=\"_sympathyButton\" href=\"#\" onclick=\"parent.clickcr(this, \\'ara.sym\\', \\'\\', \\'\\', event);\">\\r\\n\\t\\t\\t\\t\\t\\t\\t\\t\\t\\t\\t\\t\\t<span class=\"ico_up\"></span>\\r\\n\\t\\t\\t\\t\\t\\t\\t\\t\\t\\t\\t\\t\\t<span class=\"blind\">공감</span>\\r\\n\\t\\t\\t\\t\\t\\t\\t\\t\\t\\t\\t\\t\\t<strong class=\"sympathy_17006793\">146</strong>\\r\\n\\t\\t\\t\\t\\t\\t\\t\\t\\t\\t\\t\\t</a>\\r\\n\\t\\t\\t\\t\\t\\t\\t\\t\\t\\t\\t\\t<a class=\"_notSympathyButton\" href=\"#\" onclick=\"parent.clickcr(this, \\'ara.opp\\', \\'\\', \\'\\', event);\">\\r\\n\\t\\t\\t\\t\\t\\t\\t\\t\\t\\t\\t\\t\\t<span class=\"ico_down\"></span>\\r\\n\\t\\t\\t\\t\\t\\t\\t\\t\\t\\t\\t\\t\\t<span class=\"blind\">비공감</span>\\r\\n\\t\\t\\t\\t\\t\\t\\t\\t\\t\\t\\t\\t\\t<strong class=\"notSympathy_17006793\">59</strong>\\r\\n\\t\\t\\t\\t\\t\\t\\t\\t\\t\\t\\t\\t</a>\\r\\n\\t\\t\\t\\t\\t\\t\\t\\t\\t\\t\\t</div>\\r\\n\\t\\t\\t\\t\\t\\t\\t\\t\\t\\t</li>\\r\\n\\t\\t\\t\\t\\t\\t\\t\\t\\t\\r\\n\\t\\t\\t\\t\\t\\t\\t\\t\\t\\t\\r\\n\\t\\t\\t\\t\\t\\t\\t\\t\\t\\t\\r\\n\\t\\t\\t\\t\\t\\t\\t\\t\\t\\t<li>\\r\\n\\t\\t\\t\\t\\t\\t\\t\\t\\t\\t\\t<div class=\"star_score\">\\r\\n\\t\\t\\t\\t\\t\\t\\t\\t\\t\\t\\t\\t\\r\\n\\t\\t\\t\\t\\t\\t\\t\\t\\t\\t\\t\\t\\t<span class=\"st_off\"><span class=\"st_on\" style=\"width:10.0%\"></span></span><em>1</em>\\r\\n\\t\\t\\t\\t\\t\\t\\t\\t\\t\\t\\t\\t\\r\\n\\t\\t\\t\\t\\t\\t\\t\\t\\t\\t\\t</div>\\r\\n\\t\\t\\t\\t\\t\\t\\t\\t\\t\\t\\t<div class=\"score_reple\">\\r\\n\\t\\t\\t\\t\\t\\t\\t\\t\\t\\t\\t\\t<p>\\r\\n\\t\\t\\t\\t\\t\\t\\t\\t\\t\\t\\t\\t\\t\\r\\n\\t\\t\\t\\t\\t\\t\\t\\t\\t\\t\\t\\t\\t<!-- 스포일러 컨텐츠로 처리되는지 여부 -->\\r\\n\\t\\t\\t\\t\\t\\t\\t\\t\\t\\t\\t\\t\\t\\r\\n\\t\\t\\t\\t\\t\\t\\t\\t\\t\\t\\t\\t\\t\\r\\n\\t\\t\\t\\t\\t\\t\\t\\t\\t\\t\\t\\t\\t\\r\\n\\t\\t\\t\\t\\t\\t\\t\\t\\t\\t\\t\\t\\t<span id=\"_filtered_ment_1\">\\r\\n\\t\\t\\t\\t\\t\\t\\t\\t\\t\\t\\t\\t\\t\\t\\r\\n\\t\\t\\t\\t\\t\\t\\t\\t\\t\\t\\t\\t\\t\\t\\t\\r\\n\\t\\t\\t\\t\\t\\t\\t\\t\\t\\t\\t\\t\\t\\t\\t\\t<span id=\"_unfold_ment1\" class=\"_unfold_ment\">\\r\\n\\t\\t\\t\\t\\t\\t\\t\\t\\t\\t\\t\\t\\t\\t\\t\\t\\t<a href=\"javascript:void(0);\" data-src=\"이야..영화를 이렇게 못만드나..마지막부분에 신정근배우 활약하는 부분 외에는 진짜 지루했다.3국 대통령들을 배의 한곳에 모아놓고 개그를 치고있고..미국대통령을 무슨 푼수때기로 만들어놓았네ㅋㅋㅋ염정아가 정우성한테 한숨쉬지말라고 엉덩이 때리는 장면이 가장 기억에 남는다 \" onclick=\"unfoldPointMent(this);\">\\r\\n\\t\\t\\t\\t\\t\\t\\t\\t\\t\\t\\t\\t\\t\\t\\t\\t\\t\\t이야..영화를 이렇게 못만드나..마지막부분에 신정근배우 활약하는 부분 외에는 진짜 지루했다.3국 대통령들을 배의 한곳에 모아놓고 개그를 치고있고..미국대통령을 무슨 푼수때기로 만들어놓았네ㅋㅋㅋ염정아가 정우성한테 한숨...\\r\\n\\t\\t\\t\\t\\t\\t\\t\\t\\t\\t\\t\\t\\t\\t\\t\\t\\t</a>\\r\\n\\t\\t\\t\\t\\t\\t\\t\\t\\t\\t\\t\\t\\t\\t\\t\\t</span>\\r\\n\\t\\t\\t\\t\\t\\t\\t\\t\\t\\t\\t\\t\\t\\t\\t\\r\\n\\t\\t\\t\\t\\t\\t\\t\\t\\t\\t\\t\\t\\t\\t\\t\\r\\n\\t\\t\\t\\t\\t\\t\\t\\t\\t\\t\\t\\t\\t\\t\\r\\n\\t\\t\\t\\t\\t\\t\\t\\t\\t\\t\\t\\t\\t\\t\\r\\n\\t\\t\\t\\t\\t\\t\\t\\t\\t\\t\\t\\t\\t</span>\\r\\n\\t\\t\\t\\t\\t\\t\\t\\t\\t\\t\\t\\t</p>\\r\\n\\t\\t\\t\\t\\t\\t\\t\\t\\t\\t\\t\\t<dl>\\r\\n\\t\\t\\t\\t\\t\\t\\t\\t\\t\\t\\t\\t\\t<dt>\\r\\n\\t\\t\\t\\t\\t\\t\\t\\t\\t\\t\\t\\t\\t\\t<em>\\r\\n\\t\\t\\t\\t\\t\\t\\t\\t\\t\\t\\t\\t\\t\\t\\t<a href=\"#\" onclick=\"javascript:showPointListByNid(17005456, \\'after\\');parent.clickcr(this, \\'ara.uid\\', \\'\\', \\'\\', event); return false;\" target=\"_top\">\\r\\n\\t\\t\\t\\t\\t\\t\\t\\t\\t\\t\\t\\t\\t\\t\\t\\t<span>zzxx****</span>\\r\\n\\t\\t\\t\\t\\t\\t\\t\\t\\t\\t\\t\\t\\t\\t\\t</a>\\r\\n\\t\\t\\t\\t\\t\\t\\t\\t\\t\\t\\t\\t\\t\\t</em>\\r\\n\\t\\t\\t\\t\\t\\t\\t\\t\\t\\t\\t\\t\\t\\t<em>2020.07.29 16:01</em>\\r\\n\\t\\t\\t\\t\\t\\t\\t\\t\\t\\t\\t\\t\\t</dt>\\r\\n\\t\\t\\t\\t\\t\\t\\t\\t\\t\\t\\t\\t\\t<dd>\\r\\n\\t\\t\\t\\t\\t\\t\\t\\t\\t\\t\\t\\t\\t\\t\\r\\n\\t\\t\\t\\t\\t\\t\\t\\t\\t\\t\\t\\t\\t\\t\\t\\r\\n\\t\\t\\t\\t\\t\\t\\t\\t\\t\\t\\t\\t\\t\\t\\t\\r\\n\\t\\t\\t\\t\\t\\t\\t\\t\\t\\t\\t\\t\\t\\t\\t\\t<a href=\"#\" onclick=\"parent.clickcr(this, \\'ara.report\\', \\'\\', \\'\\', event); common.report(\\'false\\',\\'zzxx****\\', \\'Gg43pQLnmLLk3R/eDaa/+CclFr7wOtcHs5gWpdbgK5U=\\', \\'이야..영화를 이렇게 못만드나..마지막부분에 신정근배우 활약하는 부분 외에는 진짜 지루했다.3국 대통령들을 배의 한곳에 모아놓고 개그를 치고있고..미국대통령을 무슨 푼수때기로 만들어놓았네ㅋㅋㅋ염정아가 정우성한테 한숨쉬지말라고 엉덩이 때리는 장면이 가장 기억에 남는다 \\', \\'17005456\\', \\'point_after\\', false);return false;\" class=\"go_report2\"><em>신고</em></a>\\r\\n\\t\\t\\t\\t\\t\\t\\t\\t\\t\\t\\t\\t\\t\\t\\t\\r\\n\\t\\t\\t\\t\\t\\t\\t\\t\\t\\t\\t\\t\\t\\t\\r\\n\\t\\t\\t\\t\\t\\t\\t\\t\\t\\t\\t\\t\\t</dd>\\r\\n\\t\\t\\t\\t\\t\\t\\t\\t\\t\\t\\t\\t</dl>\\r\\n\\t\\t\\t\\t\\t\\t\\t\\t\\t\\t\\t</div>\\r\\n\\t\\t\\t\\t\\t\\t\\t\\t\\t\\t\\t<div class=\"btn_area\">\\r\\n\\t\\t\\t\\t\\t\\t\\t\\t\\t\\t\\t\\t<a class=\"_sympathyButton\" href=\"#\" onclick=\"parent.clickcr(this, \\'ara.sym\\', \\'\\', \\'\\', event);\">\\r\\n\\t\\t\\t\\t\\t\\t\\t\\t\\t\\t\\t\\t\\t<span class=\"ico_up\"></span>\\r\\n\\t\\t\\t\\t\\t\\t\\t\\t\\t\\t\\t\\t\\t<span class=\"blind\">공감</span>\\r\\n\\t\\t\\t\\t\\t\\t\\t\\t\\t\\t\\t\\t\\t<strong class=\"sympathy_17005456\">155</strong>\\r\\n\\t\\t\\t\\t\\t\\t\\t\\t\\t\\t\\t\\t</a>\\r\\n\\t\\t\\t\\t\\t\\t\\t\\t\\t\\t\\t\\t<a class=\"_notSympathyButton\" href=\"#\" onclick=\"parent.clickcr(this, \\'ara.opp\\', \\'\\', \\'\\', event);\">\\r\\n\\t\\t\\t\\t\\t\\t\\t\\t\\t\\t\\t\\t\\t<span class=\"ico_down\"></span>\\r\\n\\t\\t\\t\\t\\t\\t\\t\\t\\t\\t\\t\\t\\t<span class=\"blind\">비공감</span>\\r\\n\\t\\t\\t\\t\\t\\t\\t\\t\\t\\t\\t\\t\\t<strong class=\"notSympathy_17005456\">72</strong>\\r\\n\\t\\t\\t\\t\\t\\t\\t\\t\\t\\t\\t\\t</a>\\r\\n\\t\\t\\t\\t\\t\\t\\t\\t\\t\\t\\t</div>\\r\\n\\t\\t\\t\\t\\t\\t\\t\\t\\t\\t</li>\\r\\n\\t\\t\\t\\t\\t\\t\\t\\t\\t\\r\\n\\t\\t\\t\\t\\t\\t\\t\\t\\t\\t\\r\\n\\t\\t\\t\\t\\t\\t\\t\\t\\t\\t\\r\\n\\t\\t\\t\\t\\t\\t\\t\\t\\t\\t<li>\\r\\n\\t\\t\\t\\t\\t\\t\\t\\t\\t\\t\\t<div class=\"star_score\">\\r\\n\\t\\t\\t\\t\\t\\t\\t\\t\\t\\t\\t\\t\\r\\n\\t\\t\\t\\t\\t\\t\\t\\t\\t\\t\\t\\t\\t<span class=\"st_off\"><span class=\"st_on\" style=\"width:60.0%\"></span></span><em>6</em>\\r\\n\\t\\t\\t\\t\\t\\t\\t\\t\\t\\t\\t\\t\\r\\n\\t\\t\\t\\t\\t\\t\\t\\t\\t\\t\\t</div>\\r\\n\\t\\t\\t\\t\\t\\t\\t\\t\\t\\t\\t<div class=\"score_reple\">\\r\\n\\t\\t\\t\\t\\t\\t\\t\\t\\t\\t\\t\\t<p>\\r\\n\\t\\t\\t\\t\\t\\t\\t\\t\\t\\t\\t\\t\\t<span class=\"ico_viewer\">관람객</span>\\r\\n\\t\\t\\t\\t\\t\\t\\t\\t\\t\\t\\t\\t\\t<!-- 스포일러 컨텐츠로 처리되는지 여부 -->\\r\\n\\t\\t\\t\\t\\t\\t\\t\\t\\t\\t\\t\\t\\t\\r\\n\\t\\t\\t\\t\\t\\t\\t\\t\\t\\t\\t\\t\\t\\r\\n\\t\\t\\t\\t\\t\\t\\t\\t\\t\\t\\t\\t\\t\\r\\n\\t\\t\\t\\t\\t\\t\\t\\t\\t\\t\\t\\t\\t<span id=\"_filtered_ment_2\">\\r\\n\\t\\t\\t\\t\\t\\t\\t\\t\\t\\t\\t\\t\\t\\t\\r\\n\\t\\t\\t\\t\\t\\t\\t\\t\\t\\t\\t\\t\\t\\t\\t\\r\\n\\t\\t\\t\\t\\t\\t\\t\\t\\t\\t\\t\\t\\t\\t\\t\\r\\n\\t\\t\\t\\t\\t\\t\\t\\t\\t\\t\\t\\t\\t\\t\\t\\t대한민국의 답답한 외교 현실을 영화 내내 표현하는거라면 상영시간 내내 답답함을 느꼈으니 잘 된 영화라고 해야 하나.. \\r\\n\\t\\t\\t\\t\\t\\t\\t\\t\\t\\t\\t\\t\\t\\t\\t\\r\\n\\t\\t\\t\\t\\t\\t\\t\\t\\t\\t\\t\\t\\t\\t\\r\\n\\t\\t\\t\\t\\t\\t\\t\\t\\t\\t\\t\\t\\t\\t\\r\\n\\t\\t\\t\\t\\t\\t\\t\\t\\t\\t\\t\\t\\t</span>\\r\\n\\t\\t\\t\\t\\t\\t\\t\\t\\t\\t\\t\\t</p>\\r\\n\\t\\t\\t\\t\\t\\t\\t\\t\\t\\t\\t\\t<dl>\\r\\n\\t\\t\\t\\t\\t\\t\\t\\t\\t\\t\\t\\t\\t<dt>\\r\\n\\t\\t\\t\\t\\t\\t\\t\\t\\t\\t\\t\\t\\t\\t<em>\\r\\n\\t\\t\\t\\t\\t\\t\\t\\t\\t\\t\\t\\t\\t\\t\\t<a href=\"#\" onclick=\"javascript:showPointListByNid(17054690, \\'after\\');parent.clickcr(this, \\'ara.uid\\', \\'\\', \\'\\', event); return false;\" target=\"_top\">\\r\\n\\t\\t\\t\\t\\t\\t\\t\\t\\t\\t\\t\\t\\t\\t\\t\\t<span>제4막(rsf7****)</span>\\r\\n\\t\\t\\t\\t\\t\\t\\t\\t\\t\\t\\t\\t\\t\\t\\t</a>\\r\\n\\t\\t\\t\\t\\t\\t\\t\\t\\t\\t\\t\\t\\t\\t</em>\\r\\n\\t\\t\\t\\t\\t\\t\\t\\t\\t\\t\\t\\t\\t\\t<em>2020.08.13 00:27</em>\\r\\n\\t\\t\\t\\t\\t\\t\\t\\t\\t\\t\\t\\t\\t</dt>\\r\\n\\t\\t\\t\\t\\t\\t\\t\\t\\t\\t\\t\\t\\t<dd>\\r\\n\\t\\t\\t\\t\\t\\t\\t\\t\\t\\t\\t\\t\\t\\t\\r\\n\\t\\t\\t\\t\\t\\t\\t\\t\\t\\t\\t\\t\\t\\t\\t\\r\\n\\t\\t\\t\\t\\t\\t\\t\\t\\t\\t\\t\\t\\t\\t\\t\\r\\n\\t\\t\\t\\t\\t\\t\\t\\t\\t\\t\\t\\t\\t\\t\\t\\t<a href=\"#\" onclick=\"parent.clickcr(this, \\'ara.report\\', \\'\\', \\'\\', event); common.report(\\'false\\',\\'rsf7****\\', \\'7FdJnEPW2oKtCYeQdscFiJBFsx7LbwXhjUs5eO5vGtc=\\', \\'대한민국의 답답한 외교 현실을 영화 내내 표현하는거라면 상영시간 내내 답답함을 느꼈으니 잘 된 영화라고 해야 하나.. \\', \\'17054690\\', \\'point_after\\', false);return false;\" class=\"go_report2\"><em>신고</em></a>\\r\\n\\t\\t\\t\\t\\t\\t\\t\\t\\t\\t\\t\\t\\t\\t\\t\\r\\n\\t\\t\\t\\t\\t\\t\\t\\t\\t\\t\\t\\t\\t\\t\\r\\n\\t\\t\\t\\t\\t\\t\\t\\t\\t\\t\\t\\t\\t</dd>\\r\\n\\t\\t\\t\\t\\t\\t\\t\\t\\t\\t\\t\\t</dl>\\r\\n\\t\\t\\t\\t\\t\\t\\t\\t\\t\\t\\t</div>\\r\\n\\t\\t\\t\\t\\t\\t\\t\\t\\t\\t\\t<div class=\"btn_area\">\\r\\n\\t\\t\\t\\t\\t\\t\\t\\t\\t\\t\\t\\t<a class=\"_sympathyButton\" href=\"#\" onclick=\"parent.clickcr(this, \\'ara.sym\\', \\'\\', \\'\\', event);\">\\r\\n\\t\\t\\t\\t\\t\\t\\t\\t\\t\\t\\t\\t\\t<span class=\"ico_up\"></span>\\r\\n\\t\\t\\t\\t\\t\\t\\t\\t\\t\\t\\t\\t\\t<span class=\"blind\">공감</span>\\r\\n\\t\\t\\t\\t\\t\\t\\t\\t\\t\\t\\t\\t\\t<strong class=\"sympathy_17054690\">153</strong>\\r\\n\\t\\t\\t\\t\\t\\t\\t\\t\\t\\t\\t\\t</a>\\r\\n\\t\\t\\t\\t\\t\\t\\t\\t\\t\\t\\t\\t<a class=\"_notSympathyButton\" href=\"#\" onclick=\"parent.clickcr(this, \\'ara.opp\\', \\'\\', \\'\\', event);\">\\r\\n\\t\\t\\t\\t\\t\\t\\t\\t\\t\\t\\t\\t\\t<span class=\"ico_down\"></span>\\r\\n\\t\\t\\t\\t\\t\\t\\t\\t\\t\\t\\t\\t\\t<span class=\"blind\">비공감</span>\\r\\n\\t\\t\\t\\t\\t\\t\\t\\t\\t\\t\\t\\t\\t<strong class=\"notSympathy_17054690\">72</strong>\\r\\n\\t\\t\\t\\t\\t\\t\\t\\t\\t\\t\\t\\t</a>\\r\\n\\t\\t\\t\\t\\t\\t\\t\\t\\t\\t\\t</div>\\r\\n\\t\\t\\t\\t\\t\\t\\t\\t\\t\\t</li>\\r\\n\\t\\t\\t\\t\\t\\t\\t\\t\\t\\r\\n\\t\\t\\t\\t\\t\\t\\t\\t\\t\\t\\r\\n\\t\\t\\t\\t\\t\\t\\t\\t\\t\\t\\r\\n\\t\\t\\t\\t\\t\\t\\t\\t\\t\\t<li>\\r\\n\\t\\t\\t\\t\\t\\t\\t\\t\\t\\t\\t<div class=\"star_score\">\\r\\n\\t\\t\\t\\t\\t\\t\\t\\t\\t\\t\\t\\t\\r\\n\\t\\t\\t\\t\\t\\t\\t\\t\\t\\t\\t\\t\\t<span class=\"st_off\"><span class=\"st_on\" style=\"width:10.0%\"></span></span><em>1</em>\\r\\n\\t\\t\\t\\t\\t\\t\\t\\t\\t\\t\\t\\t\\r\\n\\t\\t\\t\\t\\t\\t\\t\\t\\t\\t\\t</div>\\r\\n\\t\\t\\t\\t\\t\\t\\t\\t\\t\\t\\t<div class=\"score_reple\">\\r\\n\\t\\t\\t\\t\\t\\t\\t\\t\\t\\t\\t\\t<p>\\r\\n\\t\\t\\t\\t\\t\\t\\t\\t\\t\\t\\t\\t\\t<span class=\"ico_viewer\">관람객</span>\\r\\n\\t\\t\\t\\t\\t\\t\\t\\t\\t\\t\\t\\t\\t<!-- 스포일러 컨텐츠로 처리되는지 여부 -->\\r\\n\\t\\t\\t\\t\\t\\t\\t\\t\\t\\t\\t\\t\\t\\r\\n\\t\\t\\t\\t\\t\\t\\t\\t\\t\\t\\t\\t\\t\\r\\n\\t\\t\\t\\t\\t\\t\\t\\t\\t\\t\\t\\t\\t\\r\\n\\t\\t\\t\\t\\t\\t\\t\\t\\t\\t\\t\\t\\t<span id=\"_filtered_ment_3\">\\r\\n\\t\\t\\t\\t\\t\\t\\t\\t\\t\\t\\t\\t\\t\\t\\r\\n\\t\\t\\t\\t\\t\\t\\t\\t\\t\\t\\t\\t\\t\\t\\t\\r\\n\\t\\t\\t\\t\\t\\t\\t\\t\\t\\t\\t\\t\\t\\t\\t\\t<span id=\"_unfold_ment3\" class=\"_unfold_ment\">\\r\\n\\t\\t\\t\\t\\t\\t\\t\\t\\t\\t\\t\\t\\t\\t\\t\\t\\t<a href=\"javascript:void(0);\" data-src=\"한미 두 대통령이 북한에 있더라도 그렇게 쉽게 납치됨장르가 드라마 액션인데 액션은 잠수함액션이 대부분이상한 개그코드를 너무 많이 심어놓음통일을 강요하는 엔딩?아이 낳고 몇년만에 아내와 극장에 갔는데 기대이하였습니다. \" onclick=\"unfoldPointMent(this);\">\\r\\n\\t\\t\\t\\t\\t\\t\\t\\t\\t\\t\\t\\t\\t\\t\\t\\t\\t\\t한미 두 대통령이 북한에 있더라도 그렇게 쉽게 납치됨장르가 드라마 액션인데 액션은 잠수함액션이 대부분이상한 개그코드를 너무 많이 심어놓음통일을 강요하는 엔딩?아이 낳고 몇년만에 아내와 극장에 갔는데 기대이하였습니다....\\r\\n\\t\\t\\t\\t\\t\\t\\t\\t\\t\\t\\t\\t\\t\\t\\t\\t\\t</a>\\r\\n\\t\\t\\t\\t\\t\\t\\t\\t\\t\\t\\t\\t\\t\\t\\t\\t</span>\\r\\n\\t\\t\\t\\t\\t\\t\\t\\t\\t\\t\\t\\t\\t\\t\\t\\r\\n\\t\\t\\t\\t\\t\\t\\t\\t\\t\\t\\t\\t\\t\\t\\t\\r\\n\\t\\t\\t\\t\\t\\t\\t\\t\\t\\t\\t\\t\\t\\t\\r\\n\\t\\t\\t\\t\\t\\t\\t\\t\\t\\t\\t\\t\\t\\t\\r\\n\\t\\t\\t\\t\\t\\t\\t\\t\\t\\t\\t\\t\\t</span>\\r\\n\\t\\t\\t\\t\\t\\t\\t\\t\\t\\t\\t\\t</p>\\r\\n\\t\\t\\t\\t\\t\\t\\t\\t\\t\\t\\t\\t<dl>\\r\\n\\t\\t\\t\\t\\t\\t\\t\\t\\t\\t\\t\\t\\t<dt>\\r\\n\\t\\t\\t\\t\\t\\t\\t\\t\\t\\t\\t\\t\\t\\t<em>\\r\\n\\t\\t\\t\\t\\t\\t\\t\\t\\t\\t\\t\\t\\t\\t\\t<a href=\"#\" onclick=\"javascript:showPointListByNid(17052894, \\'after\\');parent.clickcr(this, \\'ara.uid\\', \\'\\', \\'\\', event); return false;\" target=\"_top\">\\r\\n\\t\\t\\t\\t\\t\\t\\t\\t\\t\\t\\t\\t\\t\\t\\t\\t<span>aka진군(ansg****)</span>\\r\\n\\t\\t\\t\\t\\t\\t\\t\\t\\t\\t\\t\\t\\t\\t\\t</a>\\r\\n\\t\\t\\t\\t\\t\\t\\t\\t\\t\\t\\t\\t\\t\\t</em>\\r\\n\\t\\t\\t\\t\\t\\t\\t\\t\\t\\t\\t\\t\\t\\t<em>2020.08.12 10:42</em>\\r\\n\\t\\t\\t\\t\\t\\t\\t\\t\\t\\t\\t\\t\\t</dt>\\r\\n\\t\\t\\t\\t\\t\\t\\t\\t\\t\\t\\t\\t\\t<dd>\\r\\n\\t\\t\\t\\t\\t\\t\\t\\t\\t\\t\\t\\t\\t\\t\\r\\n\\t\\t\\t\\t\\t\\t\\t\\t\\t\\t\\t\\t\\t\\t\\t\\r\\n\\t\\t\\t\\t\\t\\t\\t\\t\\t\\t\\t\\t\\t\\t\\t\\r\\n\\t\\t\\t\\t\\t\\t\\t\\t\\t\\t\\t\\t\\t\\t\\t\\t<a href=\"#\" onclick=\"parent.clickcr(this, \\'ara.report\\', \\'\\', \\'\\', event); common.report(\\'false\\',\\'ansg****\\', \\'TmdIOcfgLAmBM86TNtM8EyEFOYjJI2Mv+cL7HvlipuE=\\', \\'한미 두 대통령이 북한에 있더라도 그렇게 쉽게 납치됨장르가 드라마 액션인데 액션은 잠수함액션이 대부분이상한 개그코드를 너무 많이 심어놓음통일을 강요하는 엔딩?아이 낳고 몇년만에 아내와 극장에 갔는데 기대이하였습니다. \\', \\'17052894\\', \\'point_after\\', false);return false;\" class=\"go_report2\"><em>신고</em></a>\\r\\n\\t\\t\\t\\t\\t\\t\\t\\t\\t\\t\\t\\t\\t\\t\\t\\r\\n\\t\\t\\t\\t\\t\\t\\t\\t\\t\\t\\t\\t\\t\\t\\r\\n\\t\\t\\t\\t\\t\\t\\t\\t\\t\\t\\t\\t\\t</dd>\\r\\n\\t\\t\\t\\t\\t\\t\\t\\t\\t\\t\\t\\t</dl>\\r\\n\\t\\t\\t\\t\\t\\t\\t\\t\\t\\t\\t</div>\\r\\n\\t\\t\\t\\t\\t\\t\\t\\t\\t\\t\\t<div class=\"btn_area\">\\r\\n\\t\\t\\t\\t\\t\\t\\t\\t\\t\\t\\t\\t<a class=\"_sympathyButton\" href=\"#\" onclick=\"parent.clickcr(this, \\'ara.sym\\', \\'\\', \\'\\', event);\">\\r\\n\\t\\t\\t\\t\\t\\t\\t\\t\\t\\t\\t\\t\\t<span class=\"ico_up\"></span>\\r\\n\\t\\t\\t\\t\\t\\t\\t\\t\\t\\t\\t\\t\\t<span class=\"blind\">공감</span>\\r\\n\\t\\t\\t\\t\\t\\t\\t\\t\\t\\t\\t\\t\\t<strong class=\"sympathy_17052894\">195</strong>\\r\\n\\t\\t\\t\\t\\t\\t\\t\\t\\t\\t\\t\\t</a>\\r\\n\\t\\t\\t\\t\\t\\t\\t\\t\\t\\t\\t\\t<a class=\"_notSympathyButton\" href=\"#\" onclick=\"parent.clickcr(this, \\'ara.opp\\', \\'\\', \\'\\', event);\">\\r\\n\\t\\t\\t\\t\\t\\t\\t\\t\\t\\t\\t\\t\\t<span class=\"ico_down\"></span>\\r\\n\\t\\t\\t\\t\\t\\t\\t\\t\\t\\t\\t\\t\\t<span class=\"blind\">비공감</span>\\r\\n\\t\\t\\t\\t\\t\\t\\t\\t\\t\\t\\t\\t\\t<strong class=\"notSympathy_17052894\">115</strong>\\r\\n\\t\\t\\t\\t\\t\\t\\t\\t\\t\\t\\t\\t</a>\\r\\n\\t\\t\\t\\t\\t\\t\\t\\t\\t\\t\\t</div>\\r\\n\\t\\t\\t\\t\\t\\t\\t\\t\\t\\t</li>\\r\\n\\t\\t\\t\\t\\t\\t\\t\\t\\t\\r\\n\\t\\t\\t\\t\\t\\t\\t\\t\\t\\t\\r\\n\\t\\t\\t\\t\\t\\t\\t\\t\\t\\t\\r\\n\\t\\t\\t\\t\\t\\t\\t\\t\\t\\t<li>\\r\\n\\t\\t\\t\\t\\t\\t\\t\\t\\t\\t\\t<div class=\"star_score\">\\r\\n\\t\\t\\t\\t\\t\\t\\t\\t\\t\\t\\t\\t\\r\\n\\t\\t\\t\\t\\t\\t\\t\\t\\t\\t\\t\\t\\t<span class=\"st_off\"><span class=\"st_on\" style=\"width:10.0%\"></span></span><em>1</em>\\r\\n\\t\\t\\t\\t\\t\\t\\t\\t\\t\\t\\t\\t\\r\\n\\t\\t\\t\\t\\t\\t\\t\\t\\t\\t\\t</div>\\r\\n\\t\\t\\t\\t\\t\\t\\t\\t\\t\\t\\t<div class=\"score_reple\">\\r\\n\\t\\t\\t\\t\\t\\t\\t\\t\\t\\t\\t\\t<p>\\r\\n\\t\\t\\t\\t\\t\\t\\t\\t\\t\\t\\t\\t\\t\\r\\n\\t\\t\\t\\t\\t\\t\\t\\t\\t\\t\\t\\t\\t<!-- 스포일러 컨텐츠로 처리되는지 여부 -->\\r\\n\\t\\t\\t\\t\\t\\t\\t\\t\\t\\t\\t\\t\\t\\r\\n\\t\\t\\t\\t\\t\\t\\t\\t\\t\\t\\t\\t\\t\\r\\n\\t\\t\\t\\t\\t\\t\\t\\t\\t\\t\\t\\t\\t\\r\\n\\t\\t\\t\\t\\t\\t\\t\\t\\t\\t\\t\\t\\t<span id=\"_filtered_ment_4\">\\r\\n\\t\\t\\t\\t\\t\\t\\t\\t\\t\\t\\t\\t\\t\\t\\r\\n\\t\\t\\t\\t\\t\\t\\t\\t\\t\\t\\t\\t\\t\\t\\t\\r\\n\\t\\t\\t\\t\\t\\t\\t\\t\\t\\t\\t\\t\\t\\t\\t\\r\\n\\t\\t\\t\\t\\t\\t\\t\\t\\t\\t\\t\\t\\t\\t\\t\\t시대착오적인 반일 영화 ㅠㅠ \\r\\n\\t\\t\\t\\t\\t\\t\\t\\t\\t\\t\\t\\t\\t\\t\\t\\r\\n\\t\\t\\t\\t\\t\\t\\t\\t\\t\\t\\t\\t\\t\\t\\r\\n\\t\\t\\t\\t\\t\\t\\t\\t\\t\\t\\t\\t\\t\\t\\r\\n\\t\\t\\t\\t\\t\\t\\t\\t\\t\\t\\t\\t\\t</span>\\r\\n\\t\\t\\t\\t\\t\\t\\t\\t\\t\\t\\t\\t</p>\\r\\n\\t\\t\\t\\t\\t\\t\\t\\t\\t\\t\\t\\t<dl>\\r\\n\\t\\t\\t\\t\\t\\t\\t\\t\\t\\t\\t\\t\\t<dt>\\r\\n\\t\\t\\t\\t\\t\\t\\t\\t\\t\\t\\t\\t\\t\\t<em>\\r\\n\\t\\t\\t\\t\\t\\t\\t\\t\\t\\t\\t\\t\\t\\t\\t<a href=\"#\" onclick=\"javascript:showPointListByNid(17008576, \\'after\\');parent.clickcr(this, \\'ara.uid\\', \\'\\', \\'\\', event); return false;\" target=\"_top\">\\r\\n\\t\\t\\t\\t\\t\\t\\t\\t\\t\\t\\t\\t\\t\\t\\t\\t<span>Bruce Lee(tesl****)</span>\\r\\n\\t\\t\\t\\t\\t\\t\\t\\t\\t\\t\\t\\t\\t\\t\\t</a>\\r\\n\\t\\t\\t\\t\\t\\t\\t\\t\\t\\t\\t\\t\\t\\t</em>\\r\\n\\t\\t\\t\\t\\t\\t\\t\\t\\t\\t\\t\\t\\t\\t<em>2020.07.30 07:48</em>\\r\\n\\t\\t\\t\\t\\t\\t\\t\\t\\t\\t\\t\\t\\t</dt>\\r\\n\\t\\t\\t\\t\\t\\t\\t\\t\\t\\t\\t\\t\\t<dd>\\r\\n\\t\\t\\t\\t\\t\\t\\t\\t\\t\\t\\t\\t\\t\\t\\r\\n\\t\\t\\t\\t\\t\\t\\t\\t\\t\\t\\t\\t\\t\\t\\t\\r\\n\\t\\t\\t\\t\\t\\t\\t\\t\\t\\t\\t\\t\\t\\t\\t\\r\\n\\t\\t\\t\\t\\t\\t\\t\\t\\t\\t\\t\\t\\t\\t\\t\\t<a href=\"#\" onclick=\"parent.clickcr(this, \\'ara.report\\', \\'\\', \\'\\', event); common.report(\\'false\\',\\'tesl****\\', \\'715zW0Bf6g3W7LAuFdjENo4ChgD97ourmJeIWUaPr44=\\', \\'시대착오적인 반일 영화 ㅠㅠ \\', \\'17008576\\', \\'point_after\\', false);return false;\" class=\"go_report2\"><em>신고</em></a>\\r\\n\\t\\t\\t\\t\\t\\t\\t\\t\\t\\t\\t\\t\\t\\t\\t\\r\\n\\t\\t\\t\\t\\t\\t\\t\\t\\t\\t\\t\\t\\t\\t\\r\\n\\t\\t\\t\\t\\t\\t\\t\\t\\t\\t\\t\\t\\t</dd>\\r\\n\\t\\t\\t\\t\\t\\t\\t\\t\\t\\t\\t\\t</dl>\\r\\n\\t\\t\\t\\t\\t\\t\\t\\t\\t\\t\\t</div>\\r\\n\\t\\t\\t\\t\\t\\t\\t\\t\\t\\t\\t<div class=\"btn_area\">\\r\\n\\t\\t\\t\\t\\t\\t\\t\\t\\t\\t\\t\\t<a class=\"_sympathyButton\" href=\"#\" onclick=\"parent.clickcr(this, \\'ara.sym\\', \\'\\', \\'\\', event);\">\\r\\n\\t\\t\\t\\t\\t\\t\\t\\t\\t\\t\\t\\t\\t<span class=\"ico_up\"></span>\\r\\n\\t\\t\\t\\t\\t\\t\\t\\t\\t\\t\\t\\t\\t<span class=\"blind\">공감</span>\\r\\n\\t\\t\\t\\t\\t\\t\\t\\t\\t\\t\\t\\t\\t<strong class=\"sympathy_17008576\">137</strong>\\r\\n\\t\\t\\t\\t\\t\\t\\t\\t\\t\\t\\t\\t</a>\\r\\n\\t\\t\\t\\t\\t\\t\\t\\t\\t\\t\\t\\t<a class=\"_notSympathyButton\" href=\"#\" onclick=\"parent.clickcr(this, \\'ara.opp\\', \\'\\', \\'\\', event);\">\\r\\n\\t\\t\\t\\t\\t\\t\\t\\t\\t\\t\\t\\t\\t<span class=\"ico_down\"></span>\\r\\n\\t\\t\\t\\t\\t\\t\\t\\t\\t\\t\\t\\t\\t<span class=\"blind\">비공감</span>\\r\\n\\t\\t\\t\\t\\t\\t\\t\\t\\t\\t\\t\\t\\t<strong class=\"notSympathy_17008576\">63</strong>\\r\\n\\t\\t\\t\\t\\t\\t\\t\\t\\t\\t\\t\\t</a>\\r\\n\\t\\t\\t\\t\\t\\t\\t\\t\\t\\t\\t</div>\\r\\n\\t\\t\\t\\t\\t\\t\\t\\t\\t\\t</li>\\r\\n\\t\\t\\t\\t\\t\\t\\t\\t\\t\\r\\n\\t\\t\\t\\t\\t\\t\\t\\t\\t\\t\\r\\n\\t\\t\\t\\t\\t\\t\\t\\t\\t\\t\\r\\n\\t\\t\\t\\t\\t\\t\\t\\t\\t\\t<li>\\r\\n\\t\\t\\t\\t\\t\\t\\t\\t\\t\\t\\t<div class=\"star_score\">\\r\\n\\t\\t\\t\\t\\t\\t\\t\\t\\t\\t\\t\\t\\r\\n\\t\\t\\t\\t\\t\\t\\t\\t\\t\\t\\t\\t\\t<span class=\"st_off\"><span class=\"st_on\" style=\"width:10.0%\"></span></span><em>1</em>\\r\\n\\t\\t\\t\\t\\t\\t\\t\\t\\t\\t\\t\\t\\r\\n\\t\\t\\t\\t\\t\\t\\t\\t\\t\\t\\t</div>\\r\\n\\t\\t\\t\\t\\t\\t\\t\\t\\t\\t\\t<div class=\"score_reple\">\\r\\n\\t\\t\\t\\t\\t\\t\\t\\t\\t\\t\\t\\t<p>\\r\\n\\t\\t\\t\\t\\t\\t\\t\\t\\t\\t\\t\\t\\t\\r\\n\\t\\t\\t\\t\\t\\t\\t\\t\\t\\t\\t\\t\\t<!-- 스포일러 컨텐츠로 처리되는지 여부 -->\\r\\n\\t\\t\\t\\t\\t\\t\\t\\t\\t\\t\\t\\t\\t\\r\\n\\t\\t\\t\\t\\t\\t\\t\\t\\t\\t\\t\\t\\t\\r\\n\\t\\t\\t\\t\\t\\t\\t\\t\\t\\t\\t\\t\\t\\r\\n\\t\\t\\t\\t\\t\\t\\t\\t\\t\\t\\t\\t\\t<span id=\"_filtered_ment_5\">\\r\\n\\t\\t\\t\\t\\t\\t\\t\\t\\t\\t\\t\\t\\t\\t\\r\\n\\t\\t\\t\\t\\t\\t\\t\\t\\t\\t\\t\\t\\t\\t\\t\\r\\n\\t\\t\\t\\t\\t\\t\\t\\t\\t\\t\\t\\t\\t\\t\\t\\r\\n\\t\\t\\t\\t\\t\\t\\t\\t\\t\\t\\t\\t\\t\\t\\t\\t개연성이 1도없고 장르가 뭔지 모르겠음 \\r\\n\\t\\t\\t\\t\\t\\t\\t\\t\\t\\t\\t\\t\\t\\t\\t\\r\\n\\t\\t\\t\\t\\t\\t\\t\\t\\t\\t\\t\\t\\t\\t\\r\\n\\t\\t\\t\\t\\t\\t\\t\\t\\t\\t\\t\\t\\t\\t\\r\\n\\t\\t\\t\\t\\t\\t\\t\\t\\t\\t\\t\\t\\t</span>\\r\\n\\t\\t\\t\\t\\t\\t\\t\\t\\t\\t\\t\\t</p>\\r\\n\\t\\t\\t\\t\\t\\t\\t\\t\\t\\t\\t\\t<dl>\\r\\n\\t\\t\\t\\t\\t\\t\\t\\t\\t\\t\\t\\t\\t<dt>\\r\\n\\t\\t\\t\\t\\t\\t\\t\\t\\t\\t\\t\\t\\t\\t<em>\\r\\n\\t\\t\\t\\t\\t\\t\\t\\t\\t\\t\\t\\t\\t\\t\\t<a href=\"#\" onclick=\"javascript:showPointListByNid(17008016, \\'after\\');parent.clickcr(this, \\'ara.uid\\', \\'\\', \\'\\', event); return false;\" target=\"_top\">\\r\\n\\t\\t\\t\\t\\t\\t\\t\\t\\t\\t\\t\\t\\t\\t\\t\\t<span>tedd****</span>\\r\\n\\t\\t\\t\\t\\t\\t\\t\\t\\t\\t\\t\\t\\t\\t\\t</a>\\r\\n\\t\\t\\t\\t\\t\\t\\t\\t\\t\\t\\t\\t\\t\\t</em>\\r\\n\\t\\t\\t\\t\\t\\t\\t\\t\\t\\t\\t\\t\\t\\t<em>2020.07.30 01:26</em>\\r\\n\\t\\t\\t\\t\\t\\t\\t\\t\\t\\t\\t\\t\\t</dt>\\r\\n\\t\\t\\t\\t\\t\\t\\t\\t\\t\\t\\t\\t\\t<dd>\\r\\n\\t\\t\\t\\t\\t\\t\\t\\t\\t\\t\\t\\t\\t\\t\\r\\n\\t\\t\\t\\t\\t\\t\\t\\t\\t\\t\\t\\t\\t\\t\\t\\r\\n\\t\\t\\t\\t\\t\\t\\t\\t\\t\\t\\t\\t\\t\\t\\t\\r\\n\\t\\t\\t\\t\\t\\t\\t\\t\\t\\t\\t\\t\\t\\t\\t\\t<a href=\"#\" onclick=\"parent.clickcr(this, \\'ara.report\\', \\'\\', \\'\\', event); common.report(\\'false\\',\\'tedd****\\', \\'werSGjjwHmDqUeG364aJLvUYa+UG0mzKEz6baAVPB38=\\', \\'개연성이 1도없고 장르가 뭔지 모르겠음 \\', \\'17008016\\', \\'point_after\\', false);return false;\" class=\"go_report2\"><em>신고</em></a>\\r\\n\\t\\t\\t\\t\\t\\t\\t\\t\\t\\t\\t\\t\\t\\t\\t\\r\\n\\t\\t\\t\\t\\t\\t\\t\\t\\t\\t\\t\\t\\t\\t\\r\\n\\t\\t\\t\\t\\t\\t\\t\\t\\t\\t\\t\\t\\t</dd>\\r\\n\\t\\t\\t\\t\\t\\t\\t\\t\\t\\t\\t\\t</dl>\\r\\n\\t\\t\\t\\t\\t\\t\\t\\t\\t\\t\\t</div>\\r\\n\\t\\t\\t\\t\\t\\t\\t\\t\\t\\t\\t<div class=\"btn_area\">\\r\\n\\t\\t\\t\\t\\t\\t\\t\\t\\t\\t\\t\\t<a class=\"_sympathyButton\" href=\"#\" onclick=\"parent.clickcr(this, \\'ara.sym\\', \\'\\', \\'\\', event);\">\\r\\n\\t\\t\\t\\t\\t\\t\\t\\t\\t\\t\\t\\t\\t<span class=\"ico_up\"></span>\\r\\n\\t\\t\\t\\t\\t\\t\\t\\t\\t\\t\\t\\t\\t<span class=\"blind\">공감</span>\\r\\n\\t\\t\\t\\t\\t\\t\\t\\t\\t\\t\\t\\t\\t<strong class=\"sympathy_17008016\">112</strong>\\r\\n\\t\\t\\t\\t\\t\\t\\t\\t\\t\\t\\t\\t</a>\\r\\n\\t\\t\\t\\t\\t\\t\\t\\t\\t\\t\\t\\t<a class=\"_notSympathyButton\" href=\"#\" onclick=\"parent.clickcr(this, \\'ara.opp\\', \\'\\', \\'\\', event);\">\\r\\n\\t\\t\\t\\t\\t\\t\\t\\t\\t\\t\\t\\t\\t<span class=\"ico_down\"></span>\\r\\n\\t\\t\\t\\t\\t\\t\\t\\t\\t\\t\\t\\t\\t<span class=\"blind\">비공감</span>\\r\\n\\t\\t\\t\\t\\t\\t\\t\\t\\t\\t\\t\\t\\t<strong class=\"notSympathy_17008016\">48</strong>\\r\\n\\t\\t\\t\\t\\t\\t\\t\\t\\t\\t\\t\\t</a>\\r\\n\\t\\t\\t\\t\\t\\t\\t\\t\\t\\t\\t</div>\\r\\n\\t\\t\\t\\t\\t\\t\\t\\t\\t\\t</li>\\r\\n\\t\\t\\t\\t\\t\\t\\t\\t\\t\\r\\n\\t\\t\\t\\t\\t\\t\\t\\t\\t\\t\\r\\n\\t\\t\\t\\t\\t\\t\\t\\t\\t\\t\\r\\n\\t\\t\\t\\t\\t\\t\\t\\t\\t\\t<li>\\r\\n\\t\\t\\t\\t\\t\\t\\t\\t\\t\\t\\t<div class=\"star_score\">\\r\\n\\t\\t\\t\\t\\t\\t\\t\\t\\t\\t\\t\\t\\r\\n\\t\\t\\t\\t\\t\\t\\t\\t\\t\\t\\t\\t\\t<span class=\"st_off\"><span class=\"st_on\" style=\"width:60.0%\"></span></span><em>6</em>\\r\\n\\t\\t\\t\\t\\t\\t\\t\\t\\t\\t\\t\\t\\r\\n\\t\\t\\t\\t\\t\\t\\t\\t\\t\\t\\t</div>\\r\\n\\t\\t\\t\\t\\t\\t\\t\\t\\t\\t\\t<div class=\"score_reple\">\\r\\n\\t\\t\\t\\t\\t\\t\\t\\t\\t\\t\\t\\t<p>\\r\\n\\t\\t\\t\\t\\t\\t\\t\\t\\t\\t\\t\\t\\t<span class=\"ico_viewer\">관람객</span>\\r\\n\\t\\t\\t\\t\\t\\t\\t\\t\\t\\t\\t\\t\\t<!-- 스포일러 컨텐츠로 처리되는지 여부 -->\\r\\n\\t\\t\\t\\t\\t\\t\\t\\t\\t\\t\\t\\t\\t\\r\\n\\t\\t\\t\\t\\t\\t\\t\\t\\t\\t\\t\\t\\t\\r\\n\\t\\t\\t\\t\\t\\t\\t\\t\\t\\t\\t\\t\\t\\r\\n\\t\\t\\t\\t\\t\\t\\t\\t\\t\\t\\t\\t\\t<span id=\"_filtered_ment_6\">\\r\\n\\t\\t\\t\\t\\t\\t\\t\\t\\t\\t\\t\\t\\t\\t\\r\\n\\t\\t\\t\\t\\t\\t\\t\\t\\t\\t\\t\\t\\t\\t\\t\\r\\n\\t\\t\\t\\t\\t\\t\\t\\t\\t\\t\\t\\t\\t\\t\\t\\r\\n\\t\\t\\t\\t\\t\\t\\t\\t\\t\\t\\t\\t\\t\\t\\t\\t강철비 1이 더낫네요....쿠데타때는 너무 말도안되는 소리가... \\r\\n\\t\\t\\t\\t\\t\\t\\t\\t\\t\\t\\t\\t\\t\\t\\t\\r\\n\\t\\t\\t\\t\\t\\t\\t\\t\\t\\t\\t\\t\\t\\t\\r\\n\\t\\t\\t\\t\\t\\t\\t\\t\\t\\t\\t\\t\\t\\t\\r\\n\\t\\t\\t\\t\\t\\t\\t\\t\\t\\t\\t\\t\\t</span>\\r\\n\\t\\t\\t\\t\\t\\t\\t\\t\\t\\t\\t\\t</p>\\r\\n\\t\\t\\t\\t\\t\\t\\t\\t\\t\\t\\t\\t<dl>\\r\\n\\t\\t\\t\\t\\t\\t\\t\\t\\t\\t\\t\\t\\t<dt>\\r\\n\\t\\t\\t\\t\\t\\t\\t\\t\\t\\t\\t\\t\\t\\t<em>\\r\\n\\t\\t\\t\\t\\t\\t\\t\\t\\t\\t\\t\\t\\t\\t\\t<a href=\"#\" onclick=\"javascript:showPointListByNid(17023445, \\'after\\');parent.clickcr(this, \\'ara.uid\\', \\'\\', \\'\\', event); return false;\" target=\"_top\">\\r\\n\\t\\t\\t\\t\\t\\t\\t\\t\\t\\t\\t\\t\\t\\t\\t\\t<span>키케캬쿄큐(lees****)</span>\\r\\n\\t\\t\\t\\t\\t\\t\\t\\t\\t\\t\\t\\t\\t\\t\\t</a>\\r\\n\\t\\t\\t\\t\\t\\t\\t\\t\\t\\t\\t\\t\\t\\t</em>\\r\\n\\t\\t\\t\\t\\t\\t\\t\\t\\t\\t\\t\\t\\t\\t<em>2020.08.03 10:11</em>\\r\\n\\t\\t\\t\\t\\t\\t\\t\\t\\t\\t\\t\\t\\t</dt>\\r\\n\\t\\t\\t\\t\\t\\t\\t\\t\\t\\t\\t\\t\\t<dd>\\r\\n\\t\\t\\t\\t\\t\\t\\t\\t\\t\\t\\t\\t\\t\\t\\r\\n\\t\\t\\t\\t\\t\\t\\t\\t\\t\\t\\t\\t\\t\\t\\t\\r\\n\\t\\t\\t\\t\\t\\t\\t\\t\\t\\t\\t\\t\\t\\t\\t\\r\\n\\t\\t\\t\\t\\t\\t\\t\\t\\t\\t\\t\\t\\t\\t\\t\\t<a href=\"#\" onclick=\"parent.clickcr(this, \\'ara.report\\', \\'\\', \\'\\', event); common.report(\\'false\\',\\'lees****\\', \\'byb2ruxrrDczut0WhCqg3fV8ftz0dObMYYrCUadfqv8=\\', \\'강철비 1이 더낫네요....쿠데타때는 너무 말도안되는 소리가... \\', \\'17023445\\', \\'point_after\\', false);return false;\" class=\"go_report2\"><em>신고</em></a>\\r\\n\\t\\t\\t\\t\\t\\t\\t\\t\\t\\t\\t\\t\\t\\t\\t\\r\\n\\t\\t\\t\\t\\t\\t\\t\\t\\t\\t\\t\\t\\t\\t\\r\\n\\t\\t\\t\\t\\t\\t\\t\\t\\t\\t\\t\\t\\t</dd>\\r\\n\\t\\t\\t\\t\\t\\t\\t\\t\\t\\t\\t\\t</dl>\\r\\n\\t\\t\\t\\t\\t\\t\\t\\t\\t\\t\\t</div>\\r\\n\\t\\t\\t\\t\\t\\t\\t\\t\\t\\t\\t<div class=\"btn_area\">\\r\\n\\t\\t\\t\\t\\t\\t\\t\\t\\t\\t\\t\\t<a class=\"_sympathyButton\" href=\"#\" onclick=\"parent.clickcr(this, \\'ara.sym\\', \\'\\', \\'\\', event);\">\\r\\n\\t\\t\\t\\t\\t\\t\\t\\t\\t\\t\\t\\t\\t<span class=\"ico_up\"></span>\\r\\n\\t\\t\\t\\t\\t\\t\\t\\t\\t\\t\\t\\t\\t<span class=\"blind\">공감</span>\\r\\n\\t\\t\\t\\t\\t\\t\\t\\t\\t\\t\\t\\t\\t<strong class=\"sympathy_17023445\">143</strong>\\r\\n\\t\\t\\t\\t\\t\\t\\t\\t\\t\\t\\t\\t</a>\\r\\n\\t\\t\\t\\t\\t\\t\\t\\t\\t\\t\\t\\t<a class=\"_notSympathyButton\" href=\"#\" onclick=\"parent.clickcr(this, \\'ara.opp\\', \\'\\', \\'\\', event);\">\\r\\n\\t\\t\\t\\t\\t\\t\\t\\t\\t\\t\\t\\t\\t<span class=\"ico_down\"></span>\\r\\n\\t\\t\\t\\t\\t\\t\\t\\t\\t\\t\\t\\t\\t<span class=\"blind\">비공감</span>\\r\\n\\t\\t\\t\\t\\t\\t\\t\\t\\t\\t\\t\\t\\t<strong class=\"notSympathy_17023445\">82</strong>\\r\\n\\t\\t\\t\\t\\t\\t\\t\\t\\t\\t\\t\\t</a>\\r\\n\\t\\t\\t\\t\\t\\t\\t\\t\\t\\t\\t</div>\\r\\n\\t\\t\\t\\t\\t\\t\\t\\t\\t\\t</li>\\r\\n\\t\\t\\t\\t\\t\\t\\t\\t\\t\\r\\n\\t\\t\\t\\t\\t\\t\\t\\t\\t\\t\\r\\n\\t\\t\\t\\t\\t\\t\\t\\t\\t\\t\\r\\n\\t\\t\\t\\t\\t\\t\\t\\t\\t\\t<li>\\r\\n\\t\\t\\t\\t\\t\\t\\t\\t\\t\\t\\t<div class=\"star_score\">\\r\\n\\t\\t\\t\\t\\t\\t\\t\\t\\t\\t\\t\\t\\r\\n\\t\\t\\t\\t\\t\\t\\t\\t\\t\\t\\t\\t\\t<span class=\"st_off\"><span class=\"st_on\" style=\"width:10.0%\"></span></span><em>1</em>\\r\\n\\t\\t\\t\\t\\t\\t\\t\\t\\t\\t\\t\\t\\r\\n\\t\\t\\t\\t\\t\\t\\t\\t\\t\\t\\t</div>\\r\\n\\t\\t\\t\\t\\t\\t\\t\\t\\t\\t\\t<div class=\"score_reple\">\\r\\n\\t\\t\\t\\t\\t\\t\\t\\t\\t\\t\\t\\t<p>\\r\\n\\t\\t\\t\\t\\t\\t\\t\\t\\t\\t\\t\\t\\t\\r\\n\\t\\t\\t\\t\\t\\t\\t\\t\\t\\t\\t\\t\\t<!-- 스포일러 컨텐츠로 처리되는지 여부 -->\\r\\n\\t\\t\\t\\t\\t\\t\\t\\t\\t\\t\\t\\t\\t\\r\\n\\t\\t\\t\\t\\t\\t\\t\\t\\t\\t\\t\\t\\t\\r\\n\\t\\t\\t\\t\\t\\t\\t\\t\\t\\t\\t\\t\\t\\r\\n\\t\\t\\t\\t\\t\\t\\t\\t\\t\\t\\t\\t\\t<span id=\"_filtered_ment_7\">\\r\\n\\t\\t\\t\\t\\t\\t\\t\\t\\t\\t\\t\\t\\t\\t\\r\\n\\t\\t\\t\\t\\t\\t\\t\\t\\t\\t\\t\\t\\t\\t\\t\\r\\n\\t\\t\\t\\t\\t\\t\\t\\t\\t\\t\\t\\t\\t\\t\\t\\r\\n\\t\\t\\t\\t\\t\\t\\t\\t\\t\\t\\t\\t\\t\\t\\t\\t양심있는 박평식씨는 평을 안했음 \\r\\n\\t\\t\\t\\t\\t\\t\\t\\t\\t\\t\\t\\t\\t\\t\\t\\r\\n\\t\\t\\t\\t\\t\\t\\t\\t\\t\\t\\t\\t\\t\\t\\r\\n\\t\\t\\t\\t\\t\\t\\t\\t\\t\\t\\t\\t\\t\\t\\r\\n\\t\\t\\t\\t\\t\\t\\t\\t\\t\\t\\t\\t\\t</span>\\r\\n\\t\\t\\t\\t\\t\\t\\t\\t\\t\\t\\t\\t</p>\\r\\n\\t\\t\\t\\t\\t\\t\\t\\t\\t\\t\\t\\t<dl>\\r\\n\\t\\t\\t\\t\\t\\t\\t\\t\\t\\t\\t\\t\\t<dt>\\r\\n\\t\\t\\t\\t\\t\\t\\t\\t\\t\\t\\t\\t\\t\\t<em>\\r\\n\\t\\t\\t\\t\\t\\t\\t\\t\\t\\t\\t\\t\\t\\t\\t<a href=\"#\" onclick=\"javascript:showPointListByNid(17008073, \\'after\\');parent.clickcr(this, \\'ara.uid\\', \\'\\', \\'\\', event); return false;\" target=\"_top\">\\r\\n\\t\\t\\t\\t\\t\\t\\t\\t\\t\\t\\t\\t\\t\\t\\t\\t<span>fiesta(blue****)</span>\\r\\n\\t\\t\\t\\t\\t\\t\\t\\t\\t\\t\\t\\t\\t\\t\\t</a>\\r\\n\\t\\t\\t\\t\\t\\t\\t\\t\\t\\t\\t\\t\\t\\t</em>\\r\\n\\t\\t\\t\\t\\t\\t\\t\\t\\t\\t\\t\\t\\t\\t<em>2020.07.30 01:42</em>\\r\\n\\t\\t\\t\\t\\t\\t\\t\\t\\t\\t\\t\\t\\t</dt>\\r\\n\\t\\t\\t\\t\\t\\t\\t\\t\\t\\t\\t\\t\\t<dd>\\r\\n\\t\\t\\t\\t\\t\\t\\t\\t\\t\\t\\t\\t\\t\\t\\r\\n\\t\\t\\t\\t\\t\\t\\t\\t\\t\\t\\t\\t\\t\\t\\t\\r\\n\\t\\t\\t\\t\\t\\t\\t\\t\\t\\t\\t\\t\\t\\t\\t\\r\\n\\t\\t\\t\\t\\t\\t\\t\\t\\t\\t\\t\\t\\t\\t\\t\\t<a href=\"#\" onclick=\"parent.clickcr(this, \\'ara.report\\', \\'\\', \\'\\', event); common.report(\\'false\\',\\'blue****\\', \\'Qaj1Q/YhyjCy38JEUd1Eetqpjc7Hm/dGeKAZDKEDi2k=\\', \\'양심있는 박평식씨는 평을 안했음 \\', \\'17008073\\', \\'point_after\\', false);return false;\" class=\"go_report2\"><em>신고</em></a>\\r\\n\\t\\t\\t\\t\\t\\t\\t\\t\\t\\t\\t\\t\\t\\t\\t\\r\\n\\t\\t\\t\\t\\t\\t\\t\\t\\t\\t\\t\\t\\t\\t\\r\\n\\t\\t\\t\\t\\t\\t\\t\\t\\t\\t\\t\\t\\t</dd>\\r\\n\\t\\t\\t\\t\\t\\t\\t\\t\\t\\t\\t\\t</dl>\\r\\n\\t\\t\\t\\t\\t\\t\\t\\t\\t\\t\\t</div>\\r\\n\\t\\t\\t\\t\\t\\t\\t\\t\\t\\t\\t<div class=\"btn_area\">\\r\\n\\t\\t\\t\\t\\t\\t\\t\\t\\t\\t\\t\\t<a class=\"_sympathyButton\" href=\"#\" onclick=\"parent.clickcr(this, \\'ara.sym\\', \\'\\', \\'\\', event);\">\\r\\n\\t\\t\\t\\t\\t\\t\\t\\t\\t\\t\\t\\t\\t<span class=\"ico_up\"></span>\\r\\n\\t\\t\\t\\t\\t\\t\\t\\t\\t\\t\\t\\t\\t<span class=\"blind\">공감</span>\\r\\n\\t\\t\\t\\t\\t\\t\\t\\t\\t\\t\\t\\t\\t<strong class=\"sympathy_17008073\">104</strong>\\r\\n\\t\\t\\t\\t\\t\\t\\t\\t\\t\\t\\t\\t</a>\\r\\n\\t\\t\\t\\t\\t\\t\\t\\t\\t\\t\\t\\t<a class=\"_notSympathyButton\" href=\"#\" onclick=\"parent.clickcr(this, \\'ara.opp\\', \\'\\', \\'\\', event);\">\\r\\n\\t\\t\\t\\t\\t\\t\\t\\t\\t\\t\\t\\t\\t<span class=\"ico_down\"></span>\\r\\n\\t\\t\\t\\t\\t\\t\\t\\t\\t\\t\\t\\t\\t<span class=\"blind\">비공감</span>\\r\\n\\t\\t\\t\\t\\t\\t\\t\\t\\t\\t\\t\\t\\t<strong class=\"notSympathy_17008073\">44</strong>\\r\\n\\t\\t\\t\\t\\t\\t\\t\\t\\t\\t\\t\\t</a>\\r\\n\\t\\t\\t\\t\\t\\t\\t\\t\\t\\t\\t</div>\\r\\n\\t\\t\\t\\t\\t\\t\\t\\t\\t\\t</li>\\r\\n\\t\\t\\t\\t\\t\\t\\t\\t\\t\\r\\n\\t\\t\\t\\t\\t\\t\\t\\t\\t\\t\\r\\n\\t\\t\\t\\t\\t\\t\\t\\t\\t\\t\\r\\n\\t\\t\\t\\t\\t\\t\\t\\t\\t\\t<li>\\r\\n\\t\\t\\t\\t\\t\\t\\t\\t\\t\\t\\t<div class=\"star_score\">\\r\\n\\t\\t\\t\\t\\t\\t\\t\\t\\t\\t\\t\\t\\r\\n\\t\\t\\t\\t\\t\\t\\t\\t\\t\\t\\t\\t\\t<span class=\"st_off\"><span class=\"st_on\" style=\"width:20.0%\"></span></span><em>2</em>\\r\\n\\t\\t\\t\\t\\t\\t\\t\\t\\t\\t\\t\\t\\r\\n\\t\\t\\t\\t\\t\\t\\t\\t\\t\\t\\t</div>\\r\\n\\t\\t\\t\\t\\t\\t\\t\\t\\t\\t\\t<div class=\"score_reple\">\\r\\n\\t\\t\\t\\t\\t\\t\\t\\t\\t\\t\\t\\t<p>\\r\\n\\t\\t\\t\\t\\t\\t\\t\\t\\t\\t\\t\\t\\t\\r\\n\\t\\t\\t\\t\\t\\t\\t\\t\\t\\t\\t\\t\\t<!-- 스포일러 컨텐츠로 처리되는지 여부 -->\\r\\n\\t\\t\\t\\t\\t\\t\\t\\t\\t\\t\\t\\t\\t\\r\\n\\t\\t\\t\\t\\t\\t\\t\\t\\t\\t\\t\\t\\t\\r\\n\\t\\t\\t\\t\\t\\t\\t\\t\\t\\t\\t\\t\\t\\r\\n\\t\\t\\t\\t\\t\\t\\t\\t\\t\\t\\t\\t\\t<span id=\"_filtered_ment_8\">\\r\\n\\t\\t\\t\\t\\t\\t\\t\\t\\t\\t\\t\\t\\t\\t\\r\\n\\t\\t\\t\\t\\t\\t\\t\\t\\t\\t\\t\\t\\t\\t\\t\\r\\n\\t\\t\\t\\t\\t\\t\\t\\t\\t\\t\\t\\t\\t\\t\\t\\t<span id=\"_unfold_ment8\" class=\"_unfold_ment\">\\r\\n\\t\\t\\t\\t\\t\\t\\t\\t\\t\\t\\t\\t\\t\\t\\t\\t\\t<a href=\"javascript:void(0);\" data-src=\"ㅋㅋ그래도 명색이 정치가 가미된 액션인데 정치와 세계정세를 1도 모르는 애가 너무 유치하고 말도안되게 영화에 본인의판타지를 표현한듯~그래도 뭔가 좀 그럴듯해야지 몰입이되지..이 영화 재미있게 봤단 사람들처럼 걍 생각없이 봐야지..그래도 재미있을래나? \" onclick=\"unfoldPointMent(this);\">\\r\\n\\t\\t\\t\\t\\t\\t\\t\\t\\t\\t\\t\\t\\t\\t\\t\\t\\t\\tㅋㅋ그래도 명색이 정치가 가미된 액션인데 정치와 세계정세를 1도 모르는 애가 너무 유치하고 말도안되게 영화에 본인의판타지를 표현한듯~그래도 뭔가 좀 그럴듯해야지 몰입이되지..이 영화 재미있게 봤단 사람들처럼 걍 생각...\\r\\n\\t\\t\\t\\t\\t\\t\\t\\t\\t\\t\\t\\t\\t\\t\\t\\t\\t</a>\\r\\n\\t\\t\\t\\t\\t\\t\\t\\t\\t\\t\\t\\t\\t\\t\\t\\t</span>\\r\\n\\t\\t\\t\\t\\t\\t\\t\\t\\t\\t\\t\\t\\t\\t\\t\\r\\n\\t\\t\\t\\t\\t\\t\\t\\t\\t\\t\\t\\t\\t\\t\\t\\r\\n\\t\\t\\t\\t\\t\\t\\t\\t\\t\\t\\t\\t\\t\\t\\r\\n\\t\\t\\t\\t\\t\\t\\t\\t\\t\\t\\t\\t\\t\\t\\r\\n\\t\\t\\t\\t\\t\\t\\t\\t\\t\\t\\t\\t\\t</span>\\r\\n\\t\\t\\t\\t\\t\\t\\t\\t\\t\\t\\t\\t</p>\\r\\n\\t\\t\\t\\t\\t\\t\\t\\t\\t\\t\\t\\t<dl>\\r\\n\\t\\t\\t\\t\\t\\t\\t\\t\\t\\t\\t\\t\\t<dt>\\r\\n\\t\\t\\t\\t\\t\\t\\t\\t\\t\\t\\t\\t\\t\\t<em>\\r\\n\\t\\t\\t\\t\\t\\t\\t\\t\\t\\t\\t\\t\\t\\t\\t<a href=\"#\" onclick=\"javascript:showPointListByNid(17008439, \\'after\\');parent.clickcr(this, \\'ara.uid\\', \\'\\', \\'\\', event); return false;\" target=\"_top\">\\r\\n\\t\\t\\t\\t\\t\\t\\t\\t\\t\\t\\t\\t\\t\\t\\t\\t<span>Rockmetal(revo****)</span>\\r\\n\\t\\t\\t\\t\\t\\t\\t\\t\\t\\t\\t\\t\\t\\t\\t</a>\\r\\n\\t\\t\\t\\t\\t\\t\\t\\t\\t\\t\\t\\t\\t\\t</em>\\r\\n\\t\\t\\t\\t\\t\\t\\t\\t\\t\\t\\t\\t\\t\\t<em>2020.07.30 05:05</em>\\r\\n\\t\\t\\t\\t\\t\\t\\t\\t\\t\\t\\t\\t\\t</dt>\\r\\n\\t\\t\\t\\t\\t\\t\\t\\t\\t\\t\\t\\t\\t<dd>\\r\\n\\t\\t\\t\\t\\t\\t\\t\\t\\t\\t\\t\\t\\t\\t\\r\\n\\t\\t\\t\\t\\t\\t\\t\\t\\t\\t\\t\\t\\t\\t\\t\\r\\n\\t\\t\\t\\t\\t\\t\\t\\t\\t\\t\\t\\t\\t\\t\\t\\r\\n\\t\\t\\t\\t\\t\\t\\t\\t\\t\\t\\t\\t\\t\\t\\t\\t<a href=\"#\" onclick=\"parent.clickcr(this, \\'ara.report\\', \\'\\', \\'\\', event); common.report(\\'false\\',\\'revo****\\', \\'amPUujKYIwna68sdqOjH3xa67G8d/u6YCxaYL6NhSls=\\', \\'ㅋㅋ그래도 명색이 정치가 가미된 액션인데 정치와 세계정세를 1도 모르는 애가 너무 유치하고 말도안되게 영화에 본인의판타지를 표현한듯~그래도 뭔가 좀 그럴듯해야지 몰입이되지..이 영화 재미있게 봤단 사람들처럼 걍 생각없이 봐야지..그래도 재미있을래나? \\', \\'17008439\\', \\'point_after\\', false);return false;\" class=\"go_report2\"><em>신고</em></a>\\r\\n\\t\\t\\t\\t\\t\\t\\t\\t\\t\\t\\t\\t\\t\\t\\t\\r\\n\\t\\t\\t\\t\\t\\t\\t\\t\\t\\t\\t\\t\\t\\t\\r\\n\\t\\t\\t\\t\\t\\t\\t\\t\\t\\t\\t\\t\\t</dd>\\r\\n\\t\\t\\t\\t\\t\\t\\t\\t\\t\\t\\t\\t</dl>\\r\\n\\t\\t\\t\\t\\t\\t\\t\\t\\t\\t\\t</div>\\r\\n\\t\\t\\t\\t\\t\\t\\t\\t\\t\\t\\t<div class=\"btn_area\">\\r\\n\\t\\t\\t\\t\\t\\t\\t\\t\\t\\t\\t\\t<a class=\"_sympathyButton\" href=\"#\" onclick=\"parent.clickcr(this, \\'ara.sym\\', \\'\\', \\'\\', event);\">\\r\\n\\t\\t\\t\\t\\t\\t\\t\\t\\t\\t\\t\\t\\t<span class=\"ico_up\"></span>\\r\\n\\t\\t\\t\\t\\t\\t\\t\\t\\t\\t\\t\\t\\t<span class=\"blind\">공감</span>\\r\\n\\t\\t\\t\\t\\t\\t\\t\\t\\t\\t\\t\\t\\t<strong class=\"sympathy_17008439\">99</strong>\\r\\n\\t\\t\\t\\t\\t\\t\\t\\t\\t\\t\\t\\t</a>\\r\\n\\t\\t\\t\\t\\t\\t\\t\\t\\t\\t\\t\\t<a class=\"_notSympathyButton\" href=\"#\" onclick=\"parent.clickcr(this, \\'ara.opp\\', \\'\\', \\'\\', event);\">\\r\\n\\t\\t\\t\\t\\t\\t\\t\\t\\t\\t\\t\\t\\t<span class=\"ico_down\"></span>\\r\\n\\t\\t\\t\\t\\t\\t\\t\\t\\t\\t\\t\\t\\t<span class=\"blind\">비공감</span>\\r\\n\\t\\t\\t\\t\\t\\t\\t\\t\\t\\t\\t\\t\\t<strong class=\"notSympathy_17008439\">42</strong>\\r\\n\\t\\t\\t\\t\\t\\t\\t\\t\\t\\t\\t\\t</a>\\r\\n\\t\\t\\t\\t\\t\\t\\t\\t\\t\\t\\t</div>\\r\\n\\t\\t\\t\\t\\t\\t\\t\\t\\t\\t</li>\\r\\n\\t\\t\\t\\t\\t\\t\\t\\t\\t\\r\\n\\t\\t\\t\\t\\t\\t\\t\\t\\t\\t\\r\\n\\t\\t\\t\\t\\t\\t\\t\\t\\t\\t\\r\\n\\t\\t\\t\\t\\t\\t\\t\\t\\t\\t<li class=\\'last\\'>\\r\\n\\t\\t\\t\\t\\t\\t\\t\\t\\t\\t\\t<div class=\"star_score\">\\r\\n\\t\\t\\t\\t\\t\\t\\t\\t\\t\\t\\t\\t\\r\\n\\t\\t\\t\\t\\t\\t\\t\\t\\t\\t\\t\\t\\t<span class=\"st_off\"><span class=\"st_on\" style=\"width:10.0%\"></span></span><em>1</em>\\r\\n\\t\\t\\t\\t\\t\\t\\t\\t\\t\\t\\t\\t\\r\\n\\t\\t\\t\\t\\t\\t\\t\\t\\t\\t\\t</div>\\r\\n\\t\\t\\t\\t\\t\\t\\t\\t\\t\\t\\t<div class=\"score_reple\">\\r\\n\\t\\t\\t\\t\\t\\t\\t\\t\\t\\t\\t\\t<p>\\r\\n\\t\\t\\t\\t\\t\\t\\t\\t\\t\\t\\t\\t\\t\\r\\n\\t\\t\\t\\t\\t\\t\\t\\t\\t\\t\\t\\t\\t<!-- 스포일러 컨텐츠로 처리되는지 여부 -->\\r\\n\\t\\t\\t\\t\\t\\t\\t\\t\\t\\t\\t\\t\\t\\r\\n\\t\\t\\t\\t\\t\\t\\t\\t\\t\\t\\t\\t\\t\\r\\n\\t\\t\\t\\t\\t\\t\\t\\t\\t\\t\\t\\t\\t\\r\\n\\t\\t\\t\\t\\t\\t\\t\\t\\t\\t\\t\\t\\t<span id=\"_filtered_ment_9\">\\r\\n\\t\\t\\t\\t\\t\\t\\t\\t\\t\\t\\t\\t\\t\\t\\r\\n\\t\\t\\t\\t\\t\\t\\t\\t\\t\\t\\t\\t\\t\\t\\t\\r\\n\\t\\t\\t\\t\\t\\t\\t\\t\\t\\t\\t\\t\\t\\t\\t\\r\\n\\t\\t\\t\\t\\t\\t\\t\\t\\t\\t\\t\\t\\t\\t\\t\\t이거 만든놈들..걍 다 북으로가라 \\r\\n\\t\\t\\t\\t\\t\\t\\t\\t\\t\\t\\t\\t\\t\\t\\t\\r\\n\\t\\t\\t\\t\\t\\t\\t\\t\\t\\t\\t\\t\\t\\t\\r\\n\\t\\t\\t\\t\\t\\t\\t\\t\\t\\t\\t\\t\\t\\t\\r\\n\\t\\t\\t\\t\\t\\t\\t\\t\\t\\t\\t\\t\\t</span>\\r\\n\\t\\t\\t\\t\\t\\t\\t\\t\\t\\t\\t\\t</p>\\r\\n\\t\\t\\t\\t\\t\\t\\t\\t\\t\\t\\t\\t<dl>\\r\\n\\t\\t\\t\\t\\t\\t\\t\\t\\t\\t\\t\\t\\t<dt>\\r\\n\\t\\t\\t\\t\\t\\t\\t\\t\\t\\t\\t\\t\\t\\t<em>\\r\\n\\t\\t\\t\\t\\t\\t\\t\\t\\t\\t\\t\\t\\t\\t\\t<a href=\"#\" onclick=\"javascript:showPointListByNid(17010742, \\'after\\');parent.clickcr(this, \\'ara.uid\\', \\'\\', \\'\\', event); return false;\" target=\"_top\">\\r\\n\\t\\t\\t\\t\\t\\t\\t\\t\\t\\t\\t\\t\\t\\t\\t\\t<span>소피아(gran****)</span>\\r\\n\\t\\t\\t\\t\\t\\t\\t\\t\\t\\t\\t\\t\\t\\t\\t</a>\\r\\n\\t\\t\\t\\t\\t\\t\\t\\t\\t\\t\\t\\t\\t\\t</em>\\r\\n\\t\\t\\t\\t\\t\\t\\t\\t\\t\\t\\t\\t\\t\\t<em>2020.07.30 20:21</em>\\r\\n\\t\\t\\t\\t\\t\\t\\t\\t\\t\\t\\t\\t\\t</dt>\\r\\n\\t\\t\\t\\t\\t\\t\\t\\t\\t\\t\\t\\t\\t<dd>\\r\\n\\t\\t\\t\\t\\t\\t\\t\\t\\t\\t\\t\\t\\t\\t\\r\\n\\t\\t\\t\\t\\t\\t\\t\\t\\t\\t\\t\\t\\t\\t\\t\\r\\n\\t\\t\\t\\t\\t\\t\\t\\t\\t\\t\\t\\t\\t\\t\\t\\r\\n\\t\\t\\t\\t\\t\\t\\t\\t\\t\\t\\t\\t\\t\\t\\t\\t<a href=\"#\" onclick=\"parent.clickcr(this, \\'ara.report\\', \\'\\', \\'\\', event); common.report(\\'false\\',\\'gran****\\', \\'79E7sKgzyDwqkTdyLA8JT+8SEyBs1zTPTSEuwdmMdR8=\\', \\'이거 만든놈들..걍 다 북으로가라 \\', \\'17010742\\', \\'point_after\\', false);return false;\" class=\"go_report2\"><em>신고</em></a>\\r\\n\\t\\t\\t\\t\\t\\t\\t\\t\\t\\t\\t\\t\\t\\t\\t\\r\\n\\t\\t\\t\\t\\t\\t\\t\\t\\t\\t\\t\\t\\t\\t\\r\\n\\t\\t\\t\\t\\t\\t\\t\\t\\t\\t\\t\\t\\t</dd>\\r\\n\\t\\t\\t\\t\\t\\t\\t\\t\\t\\t\\t\\t</dl>\\r\\n\\t\\t\\t\\t\\t\\t\\t\\t\\t\\t\\t</div>\\r\\n\\t\\t\\t\\t\\t\\t\\t\\t\\t\\t\\t<div class=\"btn_area\">\\r\\n\\t\\t\\t\\t\\t\\t\\t\\t\\t\\t\\t\\t<a class=\"_sympathyButton\" href=\"#\" onclick=\"parent.clickcr(this, \\'ara.sym\\', \\'\\', \\'\\', event);\">\\r\\n\\t\\t\\t\\t\\t\\t\\t\\t\\t\\t\\t\\t\\t<span class=\"ico_up\"></span>\\r\\n\\t\\t\\t\\t\\t\\t\\t\\t\\t\\t\\t\\t\\t<span class=\"blind\">공감</span>\\r\\n\\t\\t\\t\\t\\t\\t\\t\\t\\t\\t\\t\\t\\t<strong class=\"sympathy_17010742\">90</strong>\\r\\n\\t\\t\\t\\t\\t\\t\\t\\t\\t\\t\\t\\t</a>\\r\\n\\t\\t\\t\\t\\t\\t\\t\\t\\t\\t\\t\\t<a class=\"_notSympathyButton\" href=\"#\" onclick=\"parent.clickcr(this, \\'ara.opp\\', \\'\\', \\'\\', event);\">\\r\\n\\t\\t\\t\\t\\t\\t\\t\\t\\t\\t\\t\\t\\t<span class=\"ico_down\"></span>\\r\\n\\t\\t\\t\\t\\t\\t\\t\\t\\t\\t\\t\\t\\t<span class=\"blind\">비공감</span>\\r\\n\\t\\t\\t\\t\\t\\t\\t\\t\\t\\t\\t\\t\\t<strong class=\"notSympathy_17010742\">35</strong>\\r\\n\\t\\t\\t\\t\\t\\t\\t\\t\\t\\t\\t\\t</a>\\r\\n\\t\\t\\t\\t\\t\\t\\t\\t\\t\\t\\t</div>\\r\\n\\t\\t\\t\\t\\t\\t\\t\\t\\t\\t</li>\\r\\n\\t\\t\\t\\t\\t\\t\\t\\t\\t\\r\\n\\t\\t\\t\\t\\t\\t\\t\\t\\r\\n\\t\\t\\t\\t\\t\\t\\t\\t\\r\\n\\t\\t\\t\\t\\t\\t\\t</ul>\\r\\n\\t\\t\\t\\t\\t\\t</div>\\r\\n\\t\\t\\t\\t\\t\\t<div class=\"paging\">\\r\\n\\t\\t\\t\\t\\t\\t\\t<div>\\r\\n\\t\\t\\t\\t\\t\\t\\t\\r\\n\\t\\t\\t\\t\\t\\t\\t\\t<a id=\"pagerTagAnchor1\" href=\"/movie/bi/mi/pointWriteFormList.nhn?code=188909&amp;type=after&amp;isActualPointWriteExecute=false&amp;isMileageSubscriptionAlready=false&amp;isMileageSubscriptionReject=false&amp;page=1\" title=\"이전\" class=\"pg_prev\" onclick=\"parent.clickcr(this, \\'ara.page\\', \\'\\', \\'\\', event);\"><em>이전</em></a>\\n\\r\\n\\t\\t\\t\\t\\t\\t\\t\\t<a id=\"pagerTagAnchor1\" href=\"/movie/bi/mi/pointWriteFormList.nhn?code=188909&amp;type=after&amp;isActualPointWriteExecute=false&amp;isMileageSubscriptionAlready=false&amp;isMileageSubscriptionReject=false&amp;page=1\" onclick=\"parent.clickcr(this, \\'ara.page\\', \\'\\', \\'\\', event);\"><span>1</span></a>\\n<a id=\"pagerTagAnchor2\" href=\"/movie/bi/mi/pointWriteFormList.nhn?code=188909&amp;type=after&amp;isActualPointWriteExecute=false&amp;isMileageSubscriptionAlready=false&amp;isMileageSubscriptionReject=false&amp;page=2\" onclick=\"parent.clickcr(this, \\'ara.page\\', \\'\\', \\'\\', event);\"><span class=\"on\">2</span></a>\\n<a id=\"pagerTagAnchor3\" href=\"/movie/bi/mi/pointWriteFormList.nhn?code=188909&amp;type=after&amp;isActualPointWriteExecute=false&amp;isMileageSubscriptionAlready=false&amp;isMileageSubscriptionReject=false&amp;page=3\" onclick=\"parent.clickcr(this, \\'ara.page\\', \\'\\', \\'\\', event);\"><span>3</span></a>\\n<a id=\"pagerTagAnchor4\" href=\"/movie/bi/mi/pointWriteFormList.nhn?code=188909&amp;type=after&amp;isActualPointWriteExecute=false&amp;isMileageSubscriptionAlready=false&amp;isMileageSubscriptionReject=false&amp;page=4\" onclick=\"parent.clickcr(this, \\'ara.page\\', \\'\\', \\'\\', event);\"><span>4</span></a>\\n<a id=\"pagerTagAnchor5\" href=\"/movie/bi/mi/pointWriteFormList.nhn?code=188909&amp;type=after&amp;isActualPointWriteExecute=false&amp;isMileageSubscriptionAlready=false&amp;isMileageSubscriptionReject=false&amp;page=5\" onclick=\"parent.clickcr(this, \\'ara.page\\', \\'\\', \\'\\', event);\"><span>5</span></a>\\n<a id=\"pagerTagAnchor6\" href=\"/movie/bi/mi/pointWriteFormList.nhn?code=188909&amp;type=after&amp;isActualPointWriteExecute=false&amp;isMileageSubscriptionAlready=false&amp;isMileageSubscriptionReject=false&amp;page=6\" onclick=\"parent.clickcr(this, \\'ara.page\\', \\'\\', \\'\\', event);\"><span>6</span></a>\\n<a id=\"pagerTagAnchor7\" href=\"/movie/bi/mi/pointWriteFormList.nhn?code=188909&amp;type=after&amp;isActualPointWriteExecute=false&amp;isMileageSubscriptionAlready=false&amp;isMileageSubscriptionReject=false&amp;page=7\" onclick=\"parent.clickcr(this, \\'ara.page\\', \\'\\', \\'\\', event);\"><span>7</span></a>\\n<a id=\"pagerTagAnchor8\" href=\"/movie/bi/mi/pointWriteFormList.nhn?code=188909&amp;type=after&amp;isActualPointWriteExecute=false&amp;isMileageSubscriptionAlready=false&amp;isMileageSubscriptionReject=false&amp;page=8\" onclick=\"parent.clickcr(this, \\'ara.page\\', \\'\\', \\'\\', event);\"><span>8</span></a>\\n<a id=\"pagerTagAnchor9\" href=\"/movie/bi/mi/pointWriteFormList.nhn?code=188909&amp;type=after&amp;isActualPointWriteExecute=false&amp;isMileageSubscriptionAlready=false&amp;isMileageSubscriptionReject=false&amp;page=9\" onclick=\"parent.clickcr(this, \\'ara.page\\', \\'\\', \\'\\', event);\"><span>9</span></a>\\n<a id=\"pagerTagAnchor10\" href=\"/movie/bi/mi/pointWriteFormList.nhn?code=188909&amp;type=after&amp;isActualPointWriteExecute=false&amp;isMileageSubscriptionAlready=false&amp;isMileageSubscriptionReject=false&amp;page=10\" onclick=\"parent.clickcr(this, \\'ara.page\\', \\'\\', \\'\\', event);\"><span>10</span></a>\\n\\r\\n\\t\\t\\t\\t\\t\\t\\t\\t<a id=\"pagerTagAnchor3\" href=\"/movie/bi/mi/pointWriteFormList.nhn?code=188909&amp;type=after&amp;isActualPointWriteExecute=false&amp;isMileageSubscriptionAlready=false&amp;isMileageSubscriptionReject=false&amp;page=3\" title=\"다음\" class=\"pg_next\" onclick=\"parent.clickcr(this, \\'ara.page\\', \\'\\', \\'\\', event);\"><em>다음</em></a>\\n\\r\\n\\t\\t\\t\\t\\t\\t\\t\\t\\t\\t\\t\\t\\t\\r\\n\\t\\t\\t\\t\\t\\t\\t</div>\\r\\n\\t\\t\\t\\t\\t\\t</div>\\r\\n\\t\\t\\t\\t\\t\\r\\n\\t\\t\\t\\t\\r\\n\\t\\t\\t\\r\\n\\t\\t\\r\\n\\t</div>\\r\\n</div>\\r\\n<!-- //content -->\\r\\n<form id=\"reportForm\" name=\"reportForm1\" method=\"POST\" accept-charset=\"euc-kr\"></form>\\r\\n<script type=\"text/javascript\">\\r\\n\\r\\n\\r\\nif (false == false && \"after\" == \"after\" && false) {\\r\\n\\tif (true && false) {\\r\\n\\t\\tjindo.$Element(\"pointWriteExecuteLayer\").show();\\r\\n\\t} else if (false && true) {\\r\\n\\t\\tjindo.$Element(\"actualPointWriteExecuteLayer\").show();\\r\\n\\t}\\r\\n}\\r\\n\\r\\nvar oElActualPointWriteExecuteLayer = jindo.$Element(\"actualPointWriteExecuteLayer\");\\r\\n\\r\\nif (oElActualPointWriteExecuteLayer != null && oElActualPointWriteExecuteLayer != \"undefined\") {\\r\\n\\r\\n\\t\\r\\n\\tjindo.$Element(\"actualPointWriteExecuteLayerOkButton\").attach(\"click\", function(e){\\r\\n\\t\\te.stop(jindo.$Event.CANCEL_DEFAULT);\\r\\n\\t\\tjindo.$Element(\"actualPointWriteExecuteLayer\").hide();\\r\\n\\t\\trefreshPage();\\r\\n\\t});\\r\\n\\t\\r\\n\\t\\r\\n\\t\\r\\n\\tjindo.$Element(\"actualPointWriteExecuteLayerCloseButton\").attach(\"click\", function(e){\\r\\n\\t\\te.stop(jindo.$Event.CANCEL_DEFAULT);\\r\\n\\t\\tjindo.$Element(\"actualPointWriteExecuteLayer\").hide();\\r\\n\\t\\trefreshPage();\\r\\n\\t});\\r\\n\\t\\r\\n}\\r\\n\\r\\nvar oElPointWriteExecuteLayer = jindo.$Element(\"pointWriteExecuteLayer\");\\r\\n\\r\\nif (oElPointWriteExecuteLayer != null && oElPointWriteExecuteLayer != \"undefined\") {\\r\\n\\t\\r\\n\\tjindo.$Element(\"pointWriteExecuteLayerOkButton\").attach(\"click\", function(e){\\r\\n\\t\\te.stop(jindo.$Event.CANCEL_DEFAULT);\\r\\n\\t\\tjindo.$Element(\"pointWriteExecuteLayer\").hide();\\r\\n\\t\\trefreshPage();\\r\\n\\t});\\r\\n\\t\\r\\n\\t\\r\\n\\t\\r\\n\\tjindo.$Element(\"pointWriteExecuteLayerCloseButton\").attach(\"click\", function(e){\\r\\n\\t\\te.stop(jindo.$Event.CANCEL_DEFAULT);\\r\\n\\t\\tjindo.$Element(\"pointWriteExecuteLayer\").hide();\\r\\n\\t\\trefreshPage();\\r\\n\\t});\\r\\n\\t\\r\\n}\\r\\n\\r\\njindo.$Fn(function () {\\r\\n\\r\\n  function checkboxHandlerFactory(isActualYn, isLabel) {\\r\\n    return function() {\\r\\n      var actualYnChecked = jindo.$(\"actualYnCheckBox\").checked;\\r\\n      var spoilerYnChecked = jindo.$(\"spoilerYnCheckBox\").checked;\\r\\n\\r\\n      // convert\\r\\n      actualYnChecked = (isActualYn && isLabel)? !actualYnChecked : actualYnChecked;\\r\\n      spoilerYnChecked = (!isActualYn && isLabel)? !spoilerYnChecked : spoilerYnChecked;\\r\\n\\r\\n      location.href = \"/movie/bi/mi/pointWriteFormList.nhn?code=188909&type=after&onlyActualPointYn=\" + (actualYnChecked? \"Y\" : \"N\")  + \"&onlySpoilerPointYn=\" + (spoilerYnChecked? \"Y\" : \"N\") + \"&order=sympathyScore\";\\r\\n    };\\r\\n  }\\r\\n\\r\\n\\t\\r\\n\\tif (jindo.$(\"actualYnCheckBox\") != null) {\\r\\n\\t\\tjindo.$Fn(checkboxHandlerFactory(true, false), this).attach(jindo.$(\"actualYnCheckBox\"), \\'click\\');\\r\\n\\t}\\r\\n\\r\\n\\tif (jindo.$(\"actualYnLable\") != null) {\\r\\n\\t    jindo.$Fn(checkboxHandlerFactory(true, true), this).attach(jindo.$(\"actualYnLable\"), \\'click\\');\\r\\n\\t}\\r\\n\\r\\n\\t\\r\\n    if (jindo.$(\"spoilerYnCheckBox\") != null) {\\r\\n    jindo.$Fn(checkboxHandlerFactory(false, false), this).attach(jindo.$(\"spoilerYnCheckBox\"), \\'click\\');\\r\\n  }\\r\\n\\r\\n  if (jindo.$(\"spoilerYnLable\") != null) {\\r\\n    jindo.$Fn(checkboxHandlerFactory(false, true), this).attach(jindo.$(\"spoilerYnLable\"), \\'click\\');\\r\\n  }\\r\\n\\t\\r\\n\\t\\r\\n\\tif (jindo.$Element(\"actualPointHelp\") != null && jindo.$Element(\"actualPointHelp\") != \"undefined\") {\\r\\n\\t\\tactualPointHelpLayerToggle = function() {\\r\\n\\t\\t\\tsetTimeout( function() {\\r\\n\\t\\t\\t\\tif (document.activeElement != null) {\\r\\n\\t\\t\\t\\t\\tvar focusedEl = jindo.$Element(document.activeElement);\\r\\n\\t\\t\\t\\t\\tif (focusedEl != null) {\\r\\n\\t\\t\\t\\t\\t\\tif ( !focusedEl.hasClass(\"_actualPointHelp\") ) {\\r\\n\\t\\t\\t\\t\\t\\t\\t jindo.$Element(\"actualPointHelp\").hide();\\r\\n\\t\\t\\t\\t\\t\\t}\\r\\n\\t\\t\\t\\t\\t}\\r\\n\\t\\t\\t\\t}\\r\\n\\t\\t\\t}, 100);\\r\\n\\t\\t};\\r\\n\\r\\n\\t\\tnew jindo.LayerManager(\"actualPointHelp\", {\\r\\n\\t\\t\\tsCheckEvent : \"click\",\\r\\n\\t\\t\\tnHideDelay : 0\\r\\n\\t\\t}).link(jindo.$(\"actualPointHelp\"), jindo.$(\"actualPointHelpButton\"));\\r\\n\\r\\n\\t\\tjindo.$Element(\"actualPointHelpButton\").attach(\"click\", function(e){\\r\\n\\t\\t\\te.stop(jindo.$Event.CANCEL_DEFAULT);\\r\\n\\t\\t\\tjindo.$Element(\"actualPointHelp\").toggle();\\r\\n\\t\\t});\\r\\n\\r\\n\\t\\tjindo.$Element(\"actualPointHelpCloseButton\").attach(\"click\", function(e){\\r\\n\\t\\t\\te.stop(jindo.$Event.CANCEL_DEFAULT);\\r\\n\\t\\t\\tjindo.$Element(\"actualPointHelp\").toggle();\\r\\n\\t\\t});\\r\\n\\r\\n\\t\\t\\r\\n\\t\\tvar waelActualPointHelp = jindo.$ElementList(\\'._actualPointHelp\\');\\r\\n\\r\\n\\t\\tjindo.$A(waelActualPointHelp.$value()).forEach(function(value, index, array) {\\r\\n\\t\\t\\tjindo.$Fn(actualPointHelpLayerToggle, this).attach(value, \"blur\");\\r\\n\\t\\t});\\r\\n\\t}\\r\\n\\r\\n\\tparent.setParamForPointAfterList(\\'N\\', \\'sympathyScore\\', \\'2\\');\\r\\n\\tparent.resizePointAfterListIframe(0);\\r\\n\\r\\n\\t// 최소 높이 270px 지정\\r\\n\\tvar frameHeight = eval(jindo.$Document().scrollSize().height);\\r\\n\\r\\n\\tparent.resizePointAfterListIframe(frameHeight);\\r\\n\\tparent.isPointAfterListLoad = true;\\r\\n\\t\\r\\n\\t\\r\\n\\t\\r\\n\\t\\tif (true) {\\r\\n\\t\\t\\tjindo.$(\"pagerTagAnchor3\").focus();\\r\\n\\t\\t} else if (jindo.$(\"pagerTagAnchor2\") != null ){\\r\\n\\t\\t\\tjindo.$(\"pagerTagAnchor2\").focus();\\r\\n\\t\\t}\\r\\n\\t\\r\\n\\r\\n  var isCheckPointExist = false;\\r\\n  // TODO: fix below condition\\r\\n  if (false) {\\r\\n    if(jindo.$Element(\"open-form-btn\")) {\\r\\n\\t\\tjindo.$Element(\"open-form-btn\").attach(\"click\", function(e) {\\r\\n\\t\\t  \\t\\r\\n\\t\\t  \\t\\r\\n\\t\\t\\t\\r\\n\\t\\t  if (true && false && isCheckPointExist == false) {\\r\\n\\t\\t\\tparent.point.checkPointAfterExistAndMileageSubscriptionType();\\r\\n\\t\\t  }\\r\\n\\t\\t  isCheckPointExist = true;\\r\\n\\t\\t  parent.openPointWriteForm();\\r\\n\\t\\t});\\r\\n    }\\r\\n  } else {\\r\\n    if (jindo.$Element(\"open-form-btn\")) {\\r\\n\\t\\tjindo.$Element(\"open-form-btn\").attach(\"click\", function (e) {\\r\\n\\t\\t  common.checkLogin(false);\\r\\n\\t\\t});\\r\\n    }\\r\\n  }\\r\\n\\r\\n  var isHide = true;\\r\\n\\r\\n  if(jindo.$Element(\"eval-edit\")) {\\r\\n    jindo.$Element(\"eval-edit\").attach(\"click\", function() {\\r\\n\\t\\t  var edit = jindo.$Element(\"ly-edit\");\\r\\n\\t  \\tisHide ? edit.show() : edit.hide();\\r\\n      \\tisHide = !isHide;\\r\\n    })\\r\\n  }\\r\\n  parent.resizePointAfterListIframeOnLoad();\\r\\n}, this).attach(this, \\'load\\');\\r\\n\\r\\nvar point = {\\r\\n\\t\\tcheckLoginWithMessage : function(login, loginMessage, notLoginMessage) {\\r\\n\\t\\t\\tif(login == false){\\r\\n\\t\\t\\t\\tif(confirm(message)){\\r\\n\\t\\t\\t\\t\\ttop.location.href=\"https://nid.naver.com/nidlogin.login?mode=form&url=\"+encodeURIComponent(top.location.href);\\r\\n\\t\\t\\t\\t}\\r\\n\\t\\t\\t\\treturn false;\\r\\n\\t\\t\\t}\\r\\n\\t\\t\\treturn true;\\r\\n\\t\\t},\\r\\n\\r\\n\\t\\t\\r\\n\\t\\tcheckAlreadyPointAfterExist : function (nid) {\\r\\n\\t\\t\\tvar existPointType = \"pointBefore\";\\r\\n\\t\\t\\t\\r\\n\\t\\t\\tif (false == false) {\\r\\n\\t\\t\\t\\tvar oAjax = new jindo.$Ajax(\"/api/internal/point/pointAfterExistJson.nhn\", {\\r\\n\\t\\t\\t    \\tonload : function (oRes) {\\r\\n\\t\\t\\t    \\t\\tvar resultCode = oRes.json().resultCode;\\r\\n\\t\\t\\t    \\t\\t\\r\\n\\t\\t\\t    \\t\\tif (resultCode == \"error\") {\\t\\t\\t\\t\\t\\t\\t// 서버 오류\\r\\n\\t\\t\\t    \\t\\t\\talert(\"오류가 발생했습니다. 잠시 후 다시 시도해주세요.\");\\r\\n\\t\\t\\t    \\t\\t\\treturn false;\\r\\n\\t\\t\\t    \\t\\t} else {\\r\\n\\t\\t\\t    \\t\\t\\texistPointType = oRes.json().existPointType;\\r\\n\\t\\t\\t    \\t\\t\\tpoint.del(existPointType, nid);\\r\\n\\t\\t\\t    \\t\\t}\\r\\n\\t\\t\\t    \\t},\\r\\n\\t\\t\\t\\t\\ttimeout : 5,\\r\\n\\t\\t\\t    \\tonerror : function (oRes) {\\r\\n\\t\\t\\t    \\t\\talert(\"오류가 발생했습니다. 잠시 후 다시 시도해주세요.\");\\r\\n\\t\\t\\t    \\t\\treturn false;\\r\\n\\t\\t\\t    \\t},\\r\\n\\t\\t\\t    \\tontimeout : function (oRes) {\\r\\n\\t\\t\\t    \\t\\talert(\"처리가 지연되고 있습니다. 다시 시도해주세요.\");\\r\\n\\t\\t\\t    \\t\\treturn false;\\r\\n\\t\\t\\t    \\t}\\r\\n\\t\\t\\t    });\\r\\n\\t\\t\\t    \\r\\n\\t\\t\\t    oAjax.request({\\r\\n\\t\\t\\t    \\t\"movieCode\" : \"188909\",\\r\\n\\t\\t\\t    \\t\"isActualPoint\" : \"false\"\\r\\n\\t\\t\\t    });\\r\\n\\t\\t\\t} else {\\r\\n\\t\\t\\t\\tpoint.del(existPointType, nid);\\r\\n\\t\\t\\t}\\r\\n\\t\\t},\\r\\n\\r\\n\\t\\tdel : function (existPointType, nid) {\\r\\n\\t\\t\\tif (existPointType == \"actualPoint\") {\\r\\n\\t\\t\\t\\tif (confirm(\"관람객 평점 삭제시, 평점 작성으로 적립된 포인트는 회수됩니다. 평점을 삭제할까요?\") == false) {\\r\\n\\t\\t\\t\\t\\treturn false;\\r\\n\\t\\t\\t\\t}\\r\\n\\t\\t\\t} else {\\r\\n\\t\\t\\t\\tif (confirm(\"본인 삭제 시 복구할 수 없습니다.\\\\n평점을 삭제하시겠습니까?\") == false) {\\r\\n\\t\\t\\t\\t\\treturn false;\\r\\n\\t\\t\\t\\t}\\r\\n\\t\\t\\t}\\r\\n\\t\\t\\t\\r\\n\\t\\t\\tvar ajaxDeleteUrl = \"/api/internal/point/pointBeforeDelete.nhn\";\\r\\n\\t\\t\\tif (\"after\" == \"after\") {\\r\\n\\t\\t\\t\\tajaxDeleteUrl = \"/api/internal/point/pointAfterDelete.nhn\";\\r\\n\\t\\t\\t}\\r\\n\\t\\t\\t\\r\\n\\t\\t\\tvar ajax = new jindo.$Ajax(ajaxDeleteUrl, { \\r\\n\\t\\t\\t\\tmethod : \"POST\",\\r\\n\\t\\t\\t\\tasync : false,\\r\\n\\t\\t\\t\\tonload : this.delCallback\\r\\n\\t\\t\\t});\\r\\n\\t\\t\\tajax.header(\"ajax\", \"true\");\\r\\n\\t\\t\\tajax.request({\\r\\n\\t\\t\\t\\t\"nid\":nid\\r\\n\\t\\t\\t});\\r\\n\\t\\t},\\r\\n\\t\\t\\r\\n\\t\\tdelCallback : function(req) {\\r\\n\\t\\t\\tvar returnValue = req.text();\\r\\n\\t\\t\\t\\r\\n\\t\\t\\tif(returnValue != \"success\"){\\r\\n\\t\\t\\t\\talert(returnValue);\\r\\n\\t\\t\\t\\treturn false;\\r\\n\\t\\t\\t}\\r\\n\\t\\t\\t\\r\\n\\t\\t\\ttop.location.href = \\'/movie/bi/mi/point.nhn?code=188909#pointAfterTab\\';\\r\\n\\t\\t\\ttop.location.reload(true);\\r\\n\\t\\t}\\r\\n};\\r\\n\\r\\nfunction dislplayOrder(order) {\\r\\n\\tvar url = \"/movie/bi/mi/pointWriteFormList.nhn?code=188909&type=after\";\\r\\n\\t\\r\\n\\tvar onlyActualPointYnValue = jindo.$(\"onlyActualPointYn\").value;\\r\\n  \\tvar includeSpoilerYnValue = jindo.$(\"includeSpoilerYn\").value;\\r\\n\\r\\n\\tif (onlyActualPointYnValue != \"\") {\\r\\n\\t\\turl = url + \"&onlyActualPointYn=\" + onlyActualPointYnValue;\\r\\n\\t}\\r\\n\\r\\n\\tif (includeSpoilerYnValue != \"\") {\\r\\n      url = url + \"&onlySpoilerPointYn=\" + includeSpoilerYnValue;\\r\\n    }\\r\\n\\t\\r\\n\\turl = url + \"&order=\" + order;\\r\\n\\t\\r\\n\\tlocation.href = document.location.protocol + \"//\" + document.domain + url;\\r\\n}\\r\\n\\r\\nfunction showPointListByNid(nid, target){\\r\\n\\tif (target == \\'after\\') {\\r\\n\\t\\ttop.location.href = top.location.protocol + \"//\" + top.location.hostname + \"/movie/point/af/list.nhn?st=nickname&target=after&sword=\"+nid;\\r\\n\\t} else {\\r\\n\\t\\ttop.location.href = top.location.protocol + \"//\" + top.location.hostname + \"/movie/point/af/list.nhn?st=nickname_before&target=before&sword=\"+nid;\\r\\n\\t}\\r\\n}\\r\\n\\r\\nfunction refreshPage() {\\r\\n\\t \\r\\n\\ttop.location.href = \\'/movie/bi/mi/point.nhn?code=188909#pointAfterTab\\';\\r\\n}\\r\\n\\r\\n// 스포일러 감상평 내용 보기\\r\\nfunction showMovieReview(rvwIdx) {\\r\\n    jindo.$Element(\\'_text_spo_\\' + rvwIdx).css(\\'display\\', \\'none\\');\\r\\n    jindo.$Element(\\'_filtered_ment_\\' + rvwIdx).css(\\'display\\', \\'block\\');\\r\\n    parent.resizePointAfterListIframeOnLoad();\\r\\n}\\r\\n\\r\\n// 감상평 펼쳐보기\\r\\nfunction unfoldPointMent(obj) {\\r\\n    var fullMent = jindo.$Element(obj).attr(\"data-src\");\\r\\n    jindo.$Element(obj).parent().html(fullMent);\\r\\n    parent.resizePointAfterListIframeOnLoad();\\r\\n}\\r\\n\\r\\n\\r\\n</script>\\r\\n\\r\\n\\r\\n<script type=\"text/javascript\">\\r\\n\\tvar sympathy = new Sympathy(\"188909\", \"after\");\\r\\n</script>\\r\\n\\t\\r\\n\\t\\r\\n\\t\\t<script type=\"text/javascript\">\\r\\n            jindo.$Fn(function() {\\r\\n                try{ lcs_do(); } catch(e){}\\r\\n            }).attach(window, \"pageshow\");\\r\\n\\t\\t</script>\\r\\n\\t\\r\\n</body>\\r\\n</html>'"
      ]
     },
     "execution_count": 13,
     "metadata": {},
     "output_type": "execute_result"
    }
   ],
   "source": [
    "html.text"
   ]
  },
  {
   "cell_type": "code",
   "execution_count": 14,
   "metadata": {},
   "outputs": [
    {
     "data": {
      "text/plain": [
       "{'date': 'Tue, 06 Oct 2020 09:00:27 GMT', 'pragma': 'no-cache', 'expires': 'Thu, 01 Jan 1970 00:00:00 GMT', 'cache-control': 'no-cache, no-store', 'content-language': 'ko-KR', 'p3p': 'CP=\"ALL CURa ADMa DEVa TAIa OUR BUS IND PHY ONL UNI PUR FIN COM NAV INT DEM CNT STA POL HEA PRE LOC OTC\", CP=\"ALL CURa ADMa DEVa TAIa OUR BUS IND PHY ONL UNI PUR FIN COM NAV INT DEM CNT STA POL HEA PRE LOC OTC\"', 'vary': 'Accept-Encoding', 'content-encoding': 'gzip', 'content-length': '7555', 'content-type': 'text/html;charset=UTF-8', 'referrer-policy': 'unsafe-url', 'server': 'nfront'}"
      ]
     },
     "execution_count": 14,
     "metadata": {},
     "output_type": "execute_result"
    }
   ],
   "source": [
    "html.headers"
   ]
  },
  {
   "cell_type": "code",
   "execution_count": 15,
   "metadata": {},
   "outputs": [
    {
     "data": {
      "text/plain": [
       "'UTF-8'"
      ]
     },
     "execution_count": 15,
     "metadata": {},
     "output_type": "execute_result"
    }
   ],
   "source": [
    "html.encoding"
   ]
  },
  {
   "cell_type": "code",
   "execution_count": null,
   "metadata": {},
   "outputs": [],
   "source": []
  },
  {
   "cell_type": "code",
   "execution_count": null,
   "metadata": {},
   "outputs": [],
   "source": []
  },
  {
   "cell_type": "code",
   "execution_count": null,
   "metadata": {},
   "outputs": [],
   "source": []
  },
  {
   "cell_type": "code",
   "execution_count": null,
   "metadata": {},
   "outputs": [],
   "source": []
  },
  {
   "cell_type": "code",
   "execution_count": null,
   "metadata": {},
   "outputs": [],
   "source": []
  },
  {
   "cell_type": "code",
   "execution_count": null,
   "metadata": {},
   "outputs": [],
   "source": []
  },
  {
   "cell_type": "code",
   "execution_count": null,
   "metadata": {},
   "outputs": [],
   "source": []
  },
  {
   "cell_type": "code",
   "execution_count": null,
   "metadata": {},
   "outputs": [],
   "source": []
  },
  {
   "cell_type": "code",
   "execution_count": null,
   "metadata": {},
   "outputs": [],
   "source": []
  },
  {
   "cell_type": "code",
   "execution_count": null,
   "metadata": {},
   "outputs": [],
   "source": []
  },
  {
   "cell_type": "code",
   "execution_count": 23,
   "metadata": {},
   "outputs": [
    {
     "ename": "AttributeError",
     "evalue": "'Response' object has no attribute 'to_csv'",
     "output_type": "error",
     "traceback": [
      "\u001b[0;31m---------------------------------------------------------------------------\u001b[0m",
      "\u001b[0;31mAttributeError\u001b[0m                            Traceback (most recent call last)",
      "\u001b[0;32m<ipython-input-23-9b9d6ab24ec6>\u001b[0m in \u001b[0;36m<module>\u001b[0;34m\u001b[0m\n\u001b[1;32m      1\u001b[0m \u001b[0;32mimport\u001b[0m \u001b[0mpandas\u001b[0m \u001b[0;32mas\u001b[0m \u001b[0mpd\u001b[0m\u001b[0;34m\u001b[0m\u001b[0;34m\u001b[0m\u001b[0m\n\u001b[1;32m      2\u001b[0m \u001b[0;34m\u001b[0m\u001b[0m\n\u001b[0;32m----> 3\u001b[0;31m \u001b[0mhtml\u001b[0m\u001b[0;34m.\u001b[0m\u001b[0mto_csv\u001b[0m\u001b[0;34m(\u001b[0m\u001b[0;34m\"./output1.csv\"\u001b[0m\u001b[0;34m)\u001b[0m\u001b[0;34m\u001b[0m\u001b[0;34m\u001b[0m\u001b[0m\n\u001b[0m",
      "\u001b[0;31mAttributeError\u001b[0m: 'Response' object has no attribute 'to_csv'"
     ]
    }
   ],
   "source": [
    "import pandas as pd\n",
    "\n",
    "html.to_csv(\"./output1.csv\")"
   ]
  },
  {
   "cell_type": "code",
   "execution_count": null,
   "metadata": {},
   "outputs": [],
   "source": []
  },
  {
   "cell_type": "code",
   "execution_count": null,
   "metadata": {},
   "outputs": [],
   "source": []
  },
  {
   "cell_type": "code",
   "execution_count": null,
   "metadata": {},
   "outputs": [],
   "source": []
  },
  {
   "cell_type": "code",
   "execution_count": 16,
   "metadata": {},
   "outputs": [],
   "source": [
    "import sys"
   ]
  },
  {
   "cell_type": "code",
   "execution_count": 22,
   "metadata": {},
   "outputs": [
    {
     "ename": "TypeError",
     "evalue": "write() argument must be str, not Response",
     "output_type": "error",
     "traceback": [
      "\u001b[0;31m---------------------------------------------------------------------------\u001b[0m",
      "\u001b[0;31mTypeError\u001b[0m                                 Traceback (most recent call last)",
      "\u001b[0;32m<ipython-input-22-19443321d9d0>\u001b[0m in \u001b[0;36m<module>\u001b[0;34m\u001b[0m\n\u001b[1;32m      3\u001b[0m \u001b[0;34m\u001b[0m\u001b[0m\n\u001b[1;32m      4\u001b[0m \u001b[0;31m# 파일 쓰기\u001b[0m\u001b[0;34m\u001b[0m\u001b[0;34m\u001b[0m\u001b[0;34m\u001b[0m\u001b[0m\n\u001b[0;32m----> 5\u001b[0;31m \u001b[0mf\u001b[0m\u001b[0;34m.\u001b[0m\u001b[0mwrite\u001b[0m\u001b[0;34m(\u001b[0m\u001b[0mhtml\u001b[0m\u001b[0;34m)\u001b[0m\u001b[0;34m\u001b[0m\u001b[0;34m\u001b[0m\u001b[0m\n\u001b[0m\u001b[1;32m      6\u001b[0m \u001b[0;34m\u001b[0m\u001b[0m\n\u001b[1;32m      7\u001b[0m \u001b[0;31m# 파일\u001b[0m\u001b[0;34m\u001b[0m\u001b[0;34m\u001b[0m\u001b[0;34m\u001b[0m\u001b[0m\n",
      "\u001b[0;31mTypeError\u001b[0m: write() argument must be str, not Response"
     ]
    }
   ],
   "source": [
    "# 파일 쓰기 모드로 열기 (파일이 없다면 파일 생성)\n",
    "f = open('output.csv','w')\n",
    "\n",
    "# 파일 쓰기\n",
    "f.write(html)\n",
    "\n",
    "# 파일 \n",
    "f.close()"
   ]
  },
  {
   "cell_type": "code",
   "execution_count": null,
   "metadata": {},
   "outputs": [],
   "source": [
    "for i in range(1, 11):\n",
    "    data = \"%d번째 줄입니다.\\n\" % i\n",
    "    f.write(data)\n",
    "f.close()"
   ]
  },
  {
   "cell_type": "code",
   "execution_count": null,
   "metadata": {},
   "outputs": [],
   "source": [
    "f.w"
   ]
  },
  {
   "cell_type": "code",
   "execution_count": null,
   "metadata": {},
   "outputs": [],
   "source": []
  },
  {
   "cell_type": "code",
   "execution_count": null,
   "metadata": {},
   "outputs": [],
   "source": [
    "sys.stdout = open('dataset/output.csv','w')"
   ]
  },
  {
   "cell_type": "code",
   "execution_count": null,
   "metadata": {},
   "outputs": [],
   "source": [
    "df = pd.read_csv('dataset/drama_genre3.csv')"
   ]
  }
 ],
 "metadata": {
  "kernelspec": {
   "display_name": "Python 3",
   "language": "python",
   "name": "python3"
  },
  "language_info": {
   "codemirror_mode": {
    "name": "ipython",
    "version": 3
   },
   "file_extension": ".py",
   "mimetype": "text/x-python",
   "name": "python",
   "nbconvert_exporter": "python",
   "pygments_lexer": "ipython3",
   "version": "3.7.3"
  }
 },
 "nbformat": 4,
 "nbformat_minor": 4
}
