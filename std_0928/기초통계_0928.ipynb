{
 "cells": [
  {
   "cell_type": "markdown",
   "metadata": {},
   "source": [
    "# 카이제곱 검정"
   ]
  },
  {
   "cell_type": "code",
   "execution_count": 4,
   "metadata": {},
   "outputs": [],
   "source": [
    "import pandas as pd\n",
    "import numpy as np\n",
    "\n",
    "# 통계 관련 라이브러리\n",
    "from scipy import stats"
   ]
  },
  {
   "cell_type": "code",
   "execution_count": 29,
   "metadata": {},
   "outputs": [],
   "source": [
    "# data1 과 data2 사이에 유의한 관계가 있는가?\n",
    "# 귀무가설 : data1 과 data2 는 차이가 없다.\n",
    "# 대립가설 : data1 과 data2 는 차이가 있다.(내가 주장하고 싶은 것)\n",
    "\n",
    "data1 = [4,6,17,16,8,9] # 관측치\n",
    "#data1 = [10,10,10,10,10,10]\n",
    "data2 = [10,10,10,10,10,10] # 기대치"
   ]
  },
  {
   "cell_type": "code",
   "execution_count": 32,
   "metadata": {},
   "outputs": [
    {
     "name": "stdout",
     "output_type": "stream",
     "text": [
      "카이제곱 통계량:  14.200000000000001 \n",
      "유의확률:  0.014387678176921308\n"
     ]
    }
   ],
   "source": [
    "# 카이제곱 검정은 이산형, 이산형 변수가 서로 상관관계가 있는지 없는지 확인\n",
    "# 검정 통계량\n",
    "chis = stats.chisquare(data1, data2)\n",
    "chis\n",
    "\n",
    "print(\"카이제곱 통계량: \",chis.statistic, \"\\n유의확률: \", chis.pvalue)"
   ]
  },
  {
   "cell_type": "code",
   "execution_count": 13,
   "metadata": {},
   "outputs": [
    {
     "name": "stdout",
     "output_type": "stream",
     "text": [
      "대립가설 채택: data1 과 data2 는 차이가 있다 \n"
     ]
    }
   ],
   "source": [
    "# p-value 가 0.05보다 작으므로 95% 신뢰수준 하에서 유의한 관계가 있다.\n",
    "# 귀무가설 기각, 대립가설 채택\n",
    "# 따라서 data1 과 data2 는 차이가 있다.\n",
    "\n",
    "if chis.pvalue < 0.05:\n",
    "    print(\"대립가설 채택: data1 과 data2 는 차이가 있다 \")\n",
    "else:\n",
    "    print(\"귀무가설 채택: data1 과 data2 는 차이가 없다.\")"
   ]
  },
  {
   "cell_type": "code",
   "execution_count": 21,
   "metadata": {},
   "outputs": [],
   "source": [
    "# 귀무가설(HO) : 두 변수는 연관성이 없다. 적합하다.\n",
    "# 대립가설(H1) : 두 변수는 연관성이 있다. 적합하지 않다."
   ]
  },
  {
   "cell_type": "code",
   "execution_count": 22,
   "metadata": {},
   "outputs": [
    {
     "name": "stdout",
     "output_type": "stream",
     "text": [
      "주사위를 던진 횟수:  60\n"
     ]
    }
   ],
   "source": [
    "data1 = [4,6,17,16,8,9]\n",
    "print('주사위를 던진 횟수: ', sum(data1))"
   ]
  },
  {
   "cell_type": "code",
   "execution_count": 25,
   "metadata": {},
   "outputs": [
    {
     "name": "stdout",
     "output_type": "stream",
     "text": [
      "대립가설 채택: data1 과 data2 는 차이가 있다 \n"
     ]
    }
   ],
   "source": [
    "import pandas as pd\n",
    "from scipy import stats\n",
    "from numpy import mean\n",
    "\n",
    "# 귀무가설 : data1 과 data2 는 차이가 없다.\n",
    "# 대립가설 : data1 과 data2 는 차이가 있다.\n",
    "data1 = [16,5,9,7,6,17]\n",
    "data2 = [10,10,10,10,10,10]\n",
    "\n",
    "\n",
    "# 검정통계량과 p-value\n",
    "chis = stats.chisquare(data1, data2)\n",
    "statistic, pvalue = chis\n",
    "if pvalue < 0.05:\n",
    "    print(\"대립가설 채택: data1 과 data2 는 차이가 있다 \")\n",
    "else:\n",
    "    print(\"귀무가설 채택: data1 과 data2 는 차이가 없다.\")"
   ]
  },
  {
   "cell_type": "markdown",
   "metadata": {},
   "source": [
    "### 연습문제1)\n",
    "다음 표는 완두콩의 잡종의 분류에 대한 관측도수와 기대치이다.\n",
    "\n",
    "이 데이터는 유전의 이론적으로 모형에 부합된다고 할 수 있는가? (유의수준 : 0.05)"
   ]
  },
  {
   "cell_type": "code",
   "execution_count": 34,
   "metadata": {},
   "outputs": [
    {
     "name": "stdout",
     "output_type": "stream",
     "text": [
      "귀무가설 채택(차이가 없다)\n",
      "카이제곱 통계량:  0.9650793650793651 \n",
      "유의확률:  0.8097008543276216\n"
     ]
    }
   ],
   "source": [
    "data1 = [322,108,98,32] # 관측치\n",
    "data2 = [315,105,105,35] # 기대치\n",
    "\n",
    "chis = stats.chisquare(data1, data2)\n",
    "statistic, pvalue = chis\n",
    "\n",
    "if pvalue < 0.05:\n",
    "    print(\"대립가설 채택(차이가 있다)\")\n",
    "else:\n",
    "    print(\"귀무가설 채택(차이가 다)\")\n",
    "\n",
    "print(\"카이제곱 통계량: \",statistic, \"\\n유의확률: \", pvalue)"
   ]
  },
  {
   "cell_type": "markdown",
   "metadata": {},
   "source": [
    "### 연습문제2)\n",
    "한 교양과목을 강의하고 있는 P교수는 수강생들의 학년 분포가 모든 학년에 대해 균일한지 여부를 알아보고자한다.\n",
    "\n",
    "이를 위해 지난 학기 수강자 171명의 학년 분포를 조사하여 아래 표와 같은 결과를 얻었다.\n",
    "\n",
    "카이제곱 적합도 검정을 사용하여 이 문제를 풀어보시오(유의수준 0.05).\n",
    "\n",
    "가설검정을 위한 통계량 중에 각 학년별 기대빈도는 전체 표본의 수 171명에 각 범주(학년)의 기대비율(25%)를 곱해서 구한다."
   ]
  },
  {
   "cell_type": "code",
   "execution_count": 51,
   "metadata": {},
   "outputs": [
    {
     "name": "stdout",
     "output_type": "stream",
     "text": [
      "기대치=>  171 (관측치 총합) / 4 (관측치갯수):  42.75\n",
      "대립가설(H1) 채택: 모든 학년이 고르게 수강하지 않는다\n",
      "카이제곱 통계량:  61.8187134502924 \n",
      "유의확률:  2.4021451008245795e-13\n"
     ]
    }
   ],
   "source": [
    "data1 = [86,36,30,19] # 관측치\n",
    "data2 = [42.75,42.75,42.75,42.75] # 기대치\n",
    "print(\"기대치=> \", sum(data1),\"(관측치 총합)\", \"/\",len(data1), \"(관측치갯수): \",sum(data1)/len(data1))\n",
    "chis = stats.chisquare(data1, data2)\n",
    "statistic, pvalue = chis\n",
    "\n",
    "if pvalue < 0.05:\n",
    "    print(\"대립가설(H1) 채택: 모든 학년이 고르게 수강하지 않는다\")\n",
    "else:\n",
    "    print(\"귀무가설(H0) 채택: 모든 학년이 고르게 수강한다\")\n",
    "\n",
    "print(\"카이제곱 통계량: \",statistic, \"\\n유의확률: \", pvalue)"
   ]
  },
  {
   "cell_type": "markdown",
   "metadata": {},
   "source": [
    "### 연습문제3)\n",
    "Kosmo 항공사에서는 과거 항공권 판매 자료를 통하여 유럽지역 항공권 구매자의 연령 분포가 다음과 같다. <연령범주>\n",
    "\n",
    "20대 이하 : 8%\n",
    "3~40대 : 47%\n",
    "50대 : 34%\n",
    "60대 이상 : 11%\n",
    "Kosmo 항공사는 최근 새롭게 확장 된 동남아지역으로 고객들이 증가함에 따라 기존의 영업정책을 수정 해야 하는지를 검토하고 있다.\n",
    "\n",
    "이에 Kosmo 항공사에서는 동남아지역 항공권 구매자의 연령분포가 유럽지역의 경우와 같은지를 알고 싶어 한다.\n",
    "\n",
    "이를 검정하기 위해서 동남아지역 항공권 구매자 207명을 무작위로 조사한 결과, 아래 표와 같은 연령 분포를 얻었다.\n",
    "\n",
    "카이제곱 적합도 검정을 사용해서 이 문제를 풀어 보시오 (유의 수준 0.05)"
   ]
  },
  {
   "cell_type": "code",
   "execution_count": 228,
   "metadata": {},
   "outputs": [],
   "source": [
    "# 1) 가설을 수립한다\n",
    "# 대립가설(H1) 채택: 동남아지역 항공권 구매자의 연령분포는 유럽지역의 경우와 다르다\n",
    "# 귀무가설(HO) 채택: 동남아지역 항공권 구매자의 연령분포는 유럽지역의 경우와 같다"
   ]
  },
  {
   "cell_type": "code",
   "execution_count": 229,
   "metadata": {},
   "outputs": [],
   "source": [
    "# 2) 가설검정을 위한 통계량을 구한다.\n",
    "# 연령범주별 기대빈도는 전체 표본의 수 207명에 각 연령범주의 기대 비율을 곱하여 구한다."
   ]
  },
  {
   "cell_type": "code",
   "execution_count": 67,
   "metadata": {},
   "outputs": [
    {
     "data": {
      "text/plain": [
       "array([ 21, 109,  62,  15])"
      ]
     },
     "execution_count": 67,
     "metadata": {},
     "output_type": "execute_result"
    }
   ],
   "source": [
    "import numpy as np\n",
    "# 관측치\n",
    "data1 = np.array([21,109,62,15])\n",
    "data1"
   ]
  },
  {
   "cell_type": "code",
   "execution_count": 69,
   "metadata": {},
   "outputs": [
    {
     "name": "stdout",
     "output_type": "stream",
     "text": [
      "전체 표본의 수:  207\n"
     ]
    }
   ],
   "source": [
    "# 전체 표본의 수 구하기\n",
    "total = np.sum(data1)\n",
    "print(\"전체 표본의 수: \", total)"
   ]
  },
  {
   "cell_type": "code",
   "execution_count": 70,
   "metadata": {},
   "outputs": [
    {
     "data": {
      "text/plain": [
       "array([16.56, 97.29, 70.38, 22.77])"
      ]
     },
     "execution_count": 70,
     "metadata": {},
     "output_type": "execute_result"
    }
   ],
   "source": [
    "# 기대치 구하기\n",
    "\n",
    "e_per = np.array([0.08, 0.47, 0.34,0.11]) # 기대비율\n",
    "\n",
    "# 기대치\n",
    "data2 = total * e_per # 전체 표본의 수 * 기대비율\n",
    "data2"
   ]
  },
  {
   "cell_type": "code",
   "execution_count": 77,
   "metadata": {},
   "outputs": [
    {
     "name": "stdout",
     "output_type": "stream",
     "text": [
      "전체 표본의 수:  207 \n",
      "관측치:  [ 21 109  62  15] \n",
      "기대치:  [16.56 97.29 70.38 22.77]\n",
      "카이제곱 통계량:  6.249083587686194 \n",
      "유의확률:  0.10010099872459155\n",
      "귀무가설(HO) 채택: 동남아지역 항공권 구매자의 연령분포는 유럽지역의 경우와 같다\n"
     ]
    }
   ],
   "source": [
    "chis = stats.chisquare(data1, data2)\n",
    "statistic, pvalue = chis\n",
    "print(\"전체 표본의 수: \", sum(data1), \"\\n관측치: \", data1, \"\\n기대치: \", data2)\n",
    "print(\"카이제곱 통계량: \",statistic, \"\\n유의확률: \", pvalue)\n",
    "\n",
    "if pvalue < 0.05:\n",
    "    print(\"대립가설(H1) 채택: 동남아지역 항공권 구매자의 연령분포는 유럽지역의 경우와 다르다\")\n",
    "else:\n",
    "    print(\"귀무가설(H0) 채택: 동남아지역 항공권 구매자의 연령분포는 유럽지역의 경우와 같다\")"
   ]
  },
  {
   "cell_type": "markdown",
   "metadata": {},
   "source": [
    "## 독립성 검정(Test of Independence)\n",
    "- 관측값들이 다수의 인자들에 의해 분할 되어 있는 경우 그 인자들의 관찰 값에 영향을 주고 있는지 아닌지를 검정하는 방법.\n",
    "- 여러 범주를 가지는 두 개의 변수가 서로 독립적인지 또는 관련이 있는지를 분석하는 기법"
   ]
  },
  {
   "cell_type": "code",
   "execution_count": 79,
   "metadata": {},
   "outputs": [
    {
     "name": "stdout",
     "output_type": "stream",
     "text": [
      "[[ 5 15]\n",
      " [10 20]]\n",
      "카이제곱 통계량:  0.0992063492063492 \n",
      "p-value:  0.7527841326498471\n"
     ]
    }
   ],
   "source": [
    "from scipy import stats\n",
    "obs = np.array([[5,15], [10,20]])\n",
    "print(obs)\n",
    "\n",
    "# 카이제곱 통계량, p-value, 자유도 등을 리턴\n",
    "statistic, pvalue, _, _ = stats.chi2_contingency(obs)\n",
    "print(\"카이제곱 통계량: \",statistic, \"\\np-value: \", pvalue)"
   ]
  },
  {
   "cell_type": "code",
   "execution_count": 89,
   "metadata": {},
   "outputs": [
    {
     "name": "stdout",
     "output_type": "stream",
     "text": [
      "Sample A: 유입사용자수=205, 지속이용 사용자수=40, 지속이용전환율(mean)=0.195\n",
      "Sample B: 유입사용자수=290, 지속이용 사용자수=62, 지속이용전환율(mean)=0.214\n"
     ]
    }
   ],
   "source": [
    "# 독립성 검정(Test Independence) => Sample A 와 Sample B 의 전환율 차이가 있는지 카이제곱 검정\n",
    "import matplotlib.pyplot as plt\n",
    "import matplotlib\n",
    "from scipy.stats import norm\n",
    "import matplotlib.font_manager as fm\n",
    "\n",
    "# 두 개의 광고 서비스를 통해 각각 유입된 사용자들의 이용률을 아래와 같이 얻었다고 하자\n",
    "# 테스트 데이터 [지속 이용 전환, 이탈 수]\n",
    "# 유입 사용자 수: A:205 , B:290\n",
    "# 귀무가설 : 모집단 Sample A 와 Sample B 의 지속 이용 전환율은 다르지 않다.\n",
    "# 대립가설 : 모집단 Sample A 와 Sample B 의 지속 이용 전환율은 다르다.\n",
    "\n",
    "data1 = np.array([40,165])\n",
    "data2 = np.array([62,228])\n",
    "\n",
    "print('Sample A: 유입사용자수={}, 지속이용 사용자수={}, 지속이용전환율(mean)={:.3f}'.format(np.sum(data1), data1[0], data1[0]/np.sum(data1)))\n",
    "print('Sample B: 유입사용자수={}, 지속이용 사용자수={}, 지속이용전환율(mean)={:.3f}'.format(np.sum(data2), data2[0], data2[0]/np.sum(data2)))"
   ]
  },
  {
   "cell_type": "code",
   "execution_count": 88,
   "metadata": {},
   "outputs": [
    {
     "name": "stdout",
     "output_type": "stream",
     "text": [
      "카이제곱 통계량:  0.15451791002162868 \n",
      "유의확률:  0.694254736449269\n",
      "귀무가설(H0) 채택\n"
     ]
    }
   ],
   "source": [
    "statistic, pvalue, _, _ = stats.chi2_contingency([data1, data2])\n",
    "print(\"카이제곱 통계량: \",statistic, \"\\n유의확률: \", pvalue)\n",
    "\n",
    "if pvalue < 0.05:\n",
    "    print(\"대립가설(H1) 채택\")\n",
    "else:\n",
    "    print(\"귀무가설(H0) 채택\")"
   ]
  },
  {
   "cell_type": "markdown",
   "metadata": {},
   "source": [
    "### 연습1)\n",
    "\n",
    "성별,학력별 독립성 검정\n",
    "\n",
    "가설 ) 성별과 학력이 서로 관계가 있다고 말할 수 있는가? (유의수준 0.05)"
   ]
  },
  {
   "cell_type": "code",
   "execution_count": 230,
   "metadata": {},
   "outputs": [],
   "source": [
    "# 귀무가설 : 두 변수는 독립적인 관계이다. 학력에 따른 성별 비율의 차이는 없다\n",
    "# 대립가설 : 두 변수는 독립적인 관계가 아니다. 학력에 따른 성별 비율의 차이는 있다."
   ]
  },
  {
   "cell_type": "code",
   "execution_count": 93,
   "metadata": {},
   "outputs": [
    {
     "name": "stdout",
     "output_type": "stream",
     "text": [
      "16.00751832683485 \n",
      " 0.0011299666560108685 \n",
      " 3 \n",
      " [[15.065 12.445 73.36  30.13 ]\n",
      " [ 7.935  6.555 38.64  15.87 ]]\n"
     ]
    }
   ],
   "source": [
    "data1 = np.array([12,13,65,41])\n",
    "data2 = np.array([11,6,47,5])\n",
    "statistic, pvalue, df, e = stats.chi2_contingency([data1,data2])\n",
    "print(statistic, '\\n', pvalue, '\\n', df, '\\n', e)"
   ]
  },
  {
   "cell_type": "markdown",
   "metadata": {},
   "source": [
    "A. 독립 표본 t-test: 서로 다른 두 개의 그룹 간의 평균 비교\n",
    "    (예: 남자와 여자간 소득의 차이 비교)"
   ]
  },
  {
   "cell_type": "code",
   "execution_count": 114,
   "metadata": {},
   "outputs": [
    {
     "name": "stdout",
     "output_type": "stream",
     "text": [
      "[188.1217268183162, 176.94121793174963, 177.35914123868272, 174.63515688921916, 184.32703814662338, 168.49230651559859, 188.7240588210824, 176.19396549552448, 181.5951954802855, 178.75314812261294, 187.31053968522488, 169.69929645251173, 178.38791397993245, 178.07972822665792, 185.6688472116772, 174.50054366342985, 179.13785896224783, 175.61070791039313, 180.21106873357797, 182.9140760685791]\n",
      "---------------------------------------------------\n",
      "Ttest_1sampResult(statistic=3.434767428066461, pvalue=0.00277711459981648)\n",
      "단일표본 T-검정 검정통계량: 3.435, pvalue: 0.003\n",
      "대립가설(H1) 채택 => 학생들의 평균키는 175cm 가 아니다.\n"
     ]
    }
   ],
   "source": [
    "#(예: 남자와 여자 간 소득 차이 비교)\n",
    "# --> 독립표본 T 검정\n",
    "# 귀무가설(HO) : 학생들의 평균키는 175cm 이다.\n",
    "# 대립가설(H1): 학생들의 평균키는 175cm 가 아니다.\n",
    "\n",
    "import numpy as np\n",
    "np.random.seed(1) #랜덤값 고정하면 항상 같은 값이 나온다\n",
    "## np.random.normal(평균, 표준편차)\n",
    "heights = [180 + np.random.normal(0,5) for _ in range(20)]\n",
    "print(height)\n",
    "print(\"---------------------------------------------------\")\n",
    "# 독립표본 T 검정에 대한 라이브러리 Scipy 통계 라이브러리에서 제공 => ttest_1samp\n",
    "# 독립표본 T 검정(이산형, 연속형 변수의 상관관계를 알고 싶을 때 사용한다)\n",
    "# 175 인지 아닌지 - 이산형, 175 늘어나거나 감소하는 연속형 변수\n",
    "result = stats.ttest_1samp(heights, 175)\n",
    "print(result)\n",
    "print(\"단일표본 T-검정 검정통계량: %.3f, pvalue: %.3f\" % result)\n",
    "# -----------------------------------------------------\n",
    "# pvalue: 0.003 < 0.05 보다 작기 때문에 통계적으로 유의하고 내가 채택하고 싶은 대립가설이 채택\n",
    "statistic, pvalue = result\n",
    "if pvalue < 0.05:\n",
    "    print(\"대립가설(H1) 채택 => 학생들의 평균키는 175cm 가 아니다.\")\n",
    "else:\n",
    "    print(\"귀무가설(H0) 채택\")"
   ]
  },
  {
   "cell_type": "markdown",
   "metadata": {},
   "source": [
    "### 실전문제\n",
    "단일표본 T-검정 (1 Sample T-Test)"
   ]
  },
  {
   "cell_type": "code",
   "execution_count": 99,
   "metadata": {},
   "outputs": [
    {
     "name": "stdout",
     "output_type": "stream",
     "text": [
      "[22, 22, 22, 26, 29, 29, 30, 32, 34, 36, 37, 38, 38, 39]\n",
      "median:  31.0\n",
      "mean:  31.0\n",
      "31\n",
      "단일표본 T-검정 검정통계량: 0.000, pvalue: 1.000\n",
      "귀무가설(H0) 채택\n"
     ]
    }
   ],
   "source": [
    "# 귀무가설 : 표본의 평균이 모집단의 평균과 일치한다\n",
    "# 대립가설 : 표본의 평균이 모집단의 평균과 일치하지 않는다\n",
    "data = [32, 34, 29, 29, 22, 39, 38, 37, 38, 36, 30, 26,22,22]\n",
    "# 모집단의 평균을 구하시오\n",
    "data = sorted(data)\n",
    "print(data)\n",
    "print(\"median: \", np.median(data))\n",
    "print(\"mean: \", np.mean(data))\n",
    "\n",
    "expected_mean = 31\n",
    "print(expected_mean)\n",
    "from scipy.stats import ttest_1samp\n",
    "result = ttest_1samp(data, expected_mean)\n",
    "print(\"단일표본 T-검정 검정통계량: %.3f, pvalue: %.3f\" % result)\n",
    "statistic, pvalue = result\n",
    "if pvalue < 0.05:\n",
    "    print(\"대립가설(H1) 채택\")\n",
    "else:\n",
    "    print(\"귀무가설(H0) 채택\")"
   ]
  },
  {
   "cell_type": "code",
   "execution_count": 102,
   "metadata": {},
   "outputs": [
    {
     "name": "stdout",
     "output_type": "stream",
     "text": [
      "[178.1217268183162, 166.94121793174963, 167.35914123868272, 164.63515688921916, 174.32703814662338, 158.49230651559859, 178.7240588210824, 166.19396549552448, 171.5951954802855, 168.75314812261294, 177.31053968522488, 159.69929645251173, 168.38791397993245, 168.07972822665792, 175.6688472116772, 164.50054366342985, 169.13785896224783, 165.61070791039313, 170.21106873357797, 172.9140760685791]\n",
      "[163.99380822787077, 186.44723709839613, 184.01590720592796, 180.0249433890187, 184.0085594926441, 168.16272140825666, 173.77109774481352, 165.6423056574093, 172.32111920373984, 180.30355466738186, 168.08339248274692, 171.03246473144023, 168.128272998804, 166.5479435850128, 168.28753869163182, 174.873354010811, 163.82689651364723, 177.34415697817093, 191.5980217710987, 182.42044160577336]\n"
     ]
    }
   ],
   "source": [
    "import numpy as np \n",
    "from scipy import stats \n",
    "\n",
    "np.random.seed(1) #랜덤 시드 고정 # np.random.normal(평균,표준편차)\n",
    "group1=[170+np.random.normal(0,5) for a in range(20)] # 그룹2 : 평균 175, 표준편차 10\n",
    "group2=[175+np.random.normal(0,10) for a in range(20)] # numpy를 사용해서 각 그룹의 평균을 구한다. \n",
    "print(group1) \n",
    "print(group2)"
   ]
  },
  {
   "cell_type": "code",
   "execution_count": 104,
   "metadata": {},
   "outputs": [
    {
     "name": "stdout",
     "output_type": "stream",
     "text": [
      "group1 의 평균:  169.33317681769637\n",
      "group2 의 평균:  174.54168687322976\n",
      "**************************************************\n",
      "<class 'numpy.float64'>\n",
      "**************등분산 가정****************************\n",
      "Ttest_indResult(statistic=-2.329449625074386, pvalue=0.025249639899591222)\n",
      "단일표본 T-검정 검정통계량: -2.329, pvalue: 0.025\n",
      "대립가설(H1) 채택\n",
      "**************등분산 가정 안 한 것****************************\n",
      "Ttest_indResult(statistic=-2.329449625074386, pvalue=0.025249639899591222)\n",
      "단일표본 T-검정 검정통계량: -2.329, pvalue: 0.025\n",
      "대립가설(H1) 채택\n"
     ]
    }
   ],
   "source": [
    "#독립표본 t검정 : stats.ttest_ind # 그룹1과 그룹2에서 각각 학생들을 선택해서 평균키가 같은지 다른지 알고 싶다. \n",
    "# 귀무가설 : 학생들의 평균키는 같다.(상관관계가 없다.) \n",
    "# 대립가설 : 학생들의 평균키는 같지 않다.( 상관관계가 있다.)\n",
    "\n",
    "print(\"group1 의 평균: \", np.mean(group1))\n",
    "print(\"group2 의 평균: \", np.mean(group2))\n",
    "# group1 의 평균:  169.33317681769637\n",
    "# group2 의 평균:  174.54168687322976 <== 이 차이는 통계적으로 의미가 없다\n",
    "print(\"*\" * 50)\n",
    "print(type(np.mean(group1)))\n",
    "# 등분산 : 분산이 같다는 가정이고, equal_var = False 를 주면 분산이 다르다는 것\n",
    "print(\"**************등분산 가정****************************\")\n",
    "# group1 과 group2 의 값을 독립표본 t검정 : 등분산 가정 한 것\n",
    "# ttest_ind : 독립된 표본이 다른 것을 비교 검정할 때 사용한다.\n",
    "result = stats.ttest_ind(group1, group2)\n",
    "# 검정통계량과 pvalue 가 출력됨\n",
    "print(result)\n",
    "print(\"단일표본 T-검정 검정통계량: %.3f, pvalue: %.3f\" % result)\n",
    "statistic, pvalue = result\n",
    "if pvalue < 0.05:\n",
    "    print(\"대립가설(H1) 채택\")\n",
    "else:\n",
    "    print(\"귀무가설(H0) 채택\")\n",
    "print(\"**************등분산 가정 안 한 것****************************\")\n",
    "result2 = stats.ttest_ind(group1, group2)\n",
    "# 검정통계량과 pvalue 가 출력됨\n",
    "print(result2)\n",
    "print(\"단일표본 T-검정 검정통계량: %.3f, pvalue: %.3f\" % result2)\n",
    "statistic, pvalue = result2\n",
    "if pvalue < 0.05:\n",
    "    print(\"대립가설(H1) 채택\")\n",
    "else:\n",
    "    print(\"귀무가설(H0) 채택\")\n",
    "\n",
    "# p-value < 0.05 : 95% 신뢰수준하에서 유의\n",
    "# p-value < 0.01 : 99% 신뢰수준하에서 유의\n",
    "# 0.015\n",
    "# 결론 : 귀무가설 기각, 대립가설 채택\n",
    "# 두 집단의 평균키가 다르다. 즉, 그룹1 과 그룹2 학생들의 평균키는 같지 않다."
   ]
  },
  {
   "cell_type": "markdown",
   "metadata": {},
   "source": [
    "### 연습문제\n",
    "\n",
    "독립표본 t검정을 통해서 남자와 여자의 신발사이즈의 평균이  같은지 다른지 판별하시오."
   ]
  },
  {
   "cell_type": "code",
   "execution_count": 112,
   "metadata": {},
   "outputs": [],
   "source": [
    "# 한천희_0928_독립표본t검정.html (실행결과 포함)"
   ]
  },
  {
   "cell_type": "code",
   "execution_count": 231,
   "metadata": {},
   "outputs": [],
   "source": [
    "# 귀무가설 : 두집단의 평균이 같다.\n",
    "# 대립가설 : 두집단의 평균이 다르다."
   ]
  },
  {
   "cell_type": "code",
   "execution_count": 107,
   "metadata": {},
   "outputs": [
    {
     "name": "stdout",
     "output_type": "stream",
     "text": [
      "Requirement already satisfied: xlrd in /home/kosmo1/anaconda3/lib/python3.7/site-packages (1.2.0)\n"
     ]
    }
   ],
   "source": [
    "!pip install xlrd"
   ]
  },
  {
   "cell_type": "code",
   "execution_count": 160,
   "metadata": {},
   "outputs": [],
   "source": [
    "import pandas as pd\n",
    "# 통계 관련 라이브러리\n",
    "from scipy import stats\n",
    "import numpy as np"
   ]
  },
  {
   "cell_type": "code",
   "execution_count": 161,
   "metadata": {
    "jupyter": {
     "source_hidden": true
    }
   },
   "outputs": [],
   "source": [
    "# 가설수립\n",
    "# 귀무가설 : 남자와 여자의 신발사이즈의 평균이 같다.\n",
    "# 대립가설 : 남자와 여자의 신발사이즈의 평균이 다르다."
   ]
  },
  {
   "cell_type": "code",
   "execution_count": 164,
   "metadata": {},
   "outputs": [],
   "source": [
    "# 작업1) pandas 의 DataFrame 으로 읽어온다.\n",
    "df = pd.read_excel('exam24.xlsx')"
   ]
  },
  {
   "cell_type": "code",
   "execution_count": 165,
   "metadata": {},
   "outputs": [
    {
     "data": {
      "text/html": [
       "<div>\n",
       "<style scoped>\n",
       "    .dataframe tbody tr th:only-of-type {\n",
       "        vertical-align: middle;\n",
       "    }\n",
       "\n",
       "    .dataframe tbody tr th {\n",
       "        vertical-align: top;\n",
       "    }\n",
       "\n",
       "    .dataframe thead th {\n",
       "        text-align: right;\n",
       "    }\n",
       "</style>\n",
       "<table border=\"1\" class=\"dataframe\">\n",
       "  <thead>\n",
       "    <tr style=\"text-align: right;\">\n",
       "      <th></th>\n",
       "      <th>성별</th>\n",
       "      <th>foot_length</th>\n",
       "    </tr>\n",
       "  </thead>\n",
       "  <tbody>\n",
       "    <tr>\n",
       "      <th>6405</th>\n",
       "      <td>2</td>\n",
       "      <td>242</td>\n",
       "    </tr>\n",
       "    <tr>\n",
       "      <th>6406</th>\n",
       "      <td>2</td>\n",
       "      <td>241</td>\n",
       "    </tr>\n",
       "    <tr>\n",
       "      <th>6407</th>\n",
       "      <td>2</td>\n",
       "      <td>228</td>\n",
       "    </tr>\n",
       "    <tr>\n",
       "      <th>6408</th>\n",
       "      <td>2</td>\n",
       "      <td>222</td>\n",
       "    </tr>\n",
       "    <tr>\n",
       "      <th>6409</th>\n",
       "      <td>2</td>\n",
       "      <td>228</td>\n",
       "    </tr>\n",
       "  </tbody>\n",
       "</table>\n",
       "</div>"
      ],
      "text/plain": [
       "      성별  foot_length\n",
       "6405   2          242\n",
       "6406   2          241\n",
       "6407   2          228\n",
       "6408   2          222\n",
       "6409   2          228"
      ]
     },
     "execution_count": 165,
     "metadata": {},
     "output_type": "execute_result"
    }
   ],
   "source": [
    "# 작업2) 성별과 신발사이즈만 DataFrame 으로 df 저장 (아까 삭제 안 한 경우)\n",
    "df = df[['성별', 'foot_length']]\n",
    "df.tail()"
   ]
  },
  {
   "cell_type": "code",
   "execution_count": 166,
   "metadata": {},
   "outputs": [
    {
     "data": {
      "text/plain": [
       "성별             0\n",
       "foot_length    0\n",
       "dtype: int64"
      ]
     },
     "execution_count": 166,
     "metadata": {},
     "output_type": "execute_result"
    }
   ],
   "source": [
    "# 작업3) Nan 여부를 확인\n",
    "df.isnull().sum() # 결측치 출력하기"
   ]
  },
  {
   "cell_type": "code",
   "execution_count": 167,
   "metadata": {
    "collapsed": true,
    "jupyter": {
     "outputs_hidden": true
    }
   },
   "outputs": [
    {
     "data": {
      "text/plain": [
       "0       228\n",
       "1       269\n",
       "2       244\n",
       "3       231\n",
       "4       265\n",
       "5       250\n",
       "6       264\n",
       "7       252\n",
       "8       235\n",
       "9       236\n",
       "10      252\n",
       "11      244\n",
       "12      250\n",
       "13      267\n",
       "14      253\n",
       "15      245\n",
       "16      246\n",
       "17      262\n",
       "18      251\n",
       "19      235\n",
       "20      247\n",
       "21      268\n",
       "22      238\n",
       "23      241\n",
       "24      249\n",
       "25      251\n",
       "26      250\n",
       "27      245\n",
       "28      273\n",
       "29      241\n",
       "       ... \n",
       "3159    242\n",
       "3160    249\n",
       "3161    252\n",
       "3162    255\n",
       "3163    251\n",
       "3164    259\n",
       "3165    248\n",
       "3166    254\n",
       "3167    242\n",
       "3168    244\n",
       "3169    260\n",
       "3170    245\n",
       "3171    248\n",
       "3172    244\n",
       "3173    255\n",
       "3174    261\n",
       "3175    254\n",
       "3176    251\n",
       "3177    258\n",
       "3178    247\n",
       "3179    254\n",
       "3180    239\n",
       "3181    254\n",
       "3182    253\n",
       "3183    253\n",
       "3184    278\n",
       "3185    259\n",
       "3186    242\n",
       "3187    239\n",
       "3188    260\n",
       "Name: foot_length, Length: 3189, dtype: int64"
      ]
     },
     "execution_count": 167,
     "metadata": {},
     "output_type": "execute_result"
    }
   ],
   "source": [
    "# 작업4) m_foot, w_foot 에 각각 성별에 따른 신발 사이즈만 저장한다.\n",
    "dfv = df[df['성별']==1]\n",
    "m_foot = dfv['foot_length']\n",
    "m_foot"
   ]
  },
  {
   "cell_type": "code",
   "execution_count": 168,
   "metadata": {
    "collapsed": true,
    "jupyter": {
     "outputs_hidden": true
    }
   },
   "outputs": [
    {
     "data": {
      "text/plain": [
       "0       228\n",
       "1       269\n",
       "2       244\n",
       "3       231\n",
       "4       265\n",
       "5       250\n",
       "6       264\n",
       "7       252\n",
       "8       235\n",
       "9       236\n",
       "10      252\n",
       "11      244\n",
       "12      250\n",
       "13      267\n",
       "14      253\n",
       "15      245\n",
       "16      246\n",
       "17      262\n",
       "18      251\n",
       "19      235\n",
       "20      247\n",
       "21      268\n",
       "22      238\n",
       "23      241\n",
       "24      249\n",
       "25      251\n",
       "26      250\n",
       "27      245\n",
       "28      273\n",
       "29      241\n",
       "       ... \n",
       "3159    242\n",
       "3160    249\n",
       "3161    252\n",
       "3162    255\n",
       "3163    251\n",
       "3164    259\n",
       "3165    248\n",
       "3166    254\n",
       "3167    242\n",
       "3168    244\n",
       "3169    260\n",
       "3170    245\n",
       "3171    248\n",
       "3172    244\n",
       "3173    255\n",
       "3174    261\n",
       "3175    254\n",
       "3176    251\n",
       "3177    258\n",
       "3178    247\n",
       "3179    254\n",
       "3180    239\n",
       "3181    254\n",
       "3182    253\n",
       "3183    253\n",
       "3184    278\n",
       "3185    259\n",
       "3186    242\n",
       "3187    239\n",
       "3188    260\n",
       "Name: foot_length, Length: 3189, dtype: int64"
      ]
     },
     "execution_count": 168,
     "metadata": {},
     "output_type": "execute_result"
    }
   ],
   "source": [
    "# 이렇게 해도 값이 위와 같음\n",
    "m_foot = df.loc[lambda df:df['성별']==1,'foot_length']\n",
    "m_foot"
   ]
  },
  {
   "cell_type": "code",
   "execution_count": 169,
   "metadata": {
    "collapsed": true,
    "jupyter": {
     "outputs_hidden": true
    }
   },
   "outputs": [
    {
     "data": {
      "text/plain": [
       "3189    216\n",
       "3190    202\n",
       "3191    221\n",
       "3192    235\n",
       "3193    238\n",
       "3194    228\n",
       "3195    233\n",
       "3196    216\n",
       "3197    228\n",
       "3198    213\n",
       "3199    211\n",
       "3200    212\n",
       "3201    214\n",
       "3202    209\n",
       "3203    230\n",
       "3204    212\n",
       "3205    228\n",
       "3206    222\n",
       "3207    251\n",
       "3208    229\n",
       "3209    242\n",
       "3210    235\n",
       "3211    233\n",
       "3212    235\n",
       "3213    234\n",
       "3214    228\n",
       "3215    225\n",
       "3216    233\n",
       "3217    223\n",
       "3218    230\n",
       "       ... \n",
       "6380    229\n",
       "6381    233\n",
       "6382    229\n",
       "6383    233\n",
       "6384    233\n",
       "6385    228\n",
       "6386    230\n",
       "6387    229\n",
       "6388    232\n",
       "6389    240\n",
       "6390    234\n",
       "6391    235\n",
       "6392    225\n",
       "6393    238\n",
       "6394    226\n",
       "6395    234\n",
       "6396    231\n",
       "6397    240\n",
       "6398    230\n",
       "6399    222\n",
       "6400    232\n",
       "6401    238\n",
       "6402    232\n",
       "6403    234\n",
       "6404    230\n",
       "6405    242\n",
       "6406    241\n",
       "6407    228\n",
       "6408    222\n",
       "6409    228\n",
       "Name: foot_length, Length: 3221, dtype: int64"
      ]
     },
     "execution_count": 169,
     "metadata": {},
     "output_type": "execute_result"
    }
   ],
   "source": [
    "w_foot = df.loc[lambda df:df['성별']==2,'foot_length']\n",
    "w_foot"
   ]
  },
  {
   "cell_type": "code",
   "execution_count": 170,
   "metadata": {},
   "outputs": [
    {
     "data": {
      "text/plain": [
       "Ttest_indResult(statistic=79.25661164178015, pvalue=0.0)"
      ]
     },
     "execution_count": 170,
     "metadata": {},
     "output_type": "execute_result"
    }
   ],
   "source": [
    "# 작업5) 독립표본 T검정\n",
    "result1 = stats.ttest_ind(m_foot,w_foot)\n",
    "result1"
   ]
  },
  {
   "cell_type": "code",
   "execution_count": 171,
   "metadata": {},
   "outputs": [
    {
     "name": "stdout",
     "output_type": "stream",
     "text": [
      "단일표본 T-검정 검정통계량: 79.257, pvalue: 0.000\n",
      "대립가설(H1) 채택 => 남자와 여자의 신발사이즈의 평균이 다르다.\n"
     ]
    }
   ],
   "source": [
    "print(\"단일표본 T-검정 검정통계량: %.3f, pvalue: %.3f\" % result1)\n",
    "statistic, pvalue = result1\n",
    "if pvalue < 0.05:\n",
    "    print(\"대립가설(H1) 채택 => 남자와 여자의 신발사이즈의 평균이 다르다.\")\n",
    "else:\n",
    "    print(\"귀무가설(H0) 채택\")"
   ]
  },
  {
   "cell_type": "code",
   "execution_count": null,
   "metadata": {},
   "outputs": [],
   "source": []
  },
  {
   "cell_type": "code",
   "execution_count": 172,
   "metadata": {},
   "outputs": [],
   "source": [
    "# 대응표본 t검정\n",
    "# 동일한 집단의 사전, 사후 평균을 비교할 때 사용한다.\n",
    "# 예) 어떤 회사에서 탈모약을 개발해서 임상실험을 하는 상황을 가정하면\n",
    "# 50명을 모집해서 6개월간 탈모약을 복용하게 했고 복용 전과 후의 모발 수를 비교했다.\n",
    "# 귀무가설 : 복용 후 모발 수가 복용 전보다 크지 않다.\n",
    "# 대립가설 : 복용 후 모발 수가 복용 전보다 크다.\n",
    "\n",
    "# 다이어트 약을 복용한 사람들 중 20명을 뽑아서\n",
    "# 복용 전후의 체중 차이가 유의미한지 알고 싶다.\n",
    "# 귀무가설 : 다이어트약 복용 전후의 체중 변화가 없다.\n",
    "# 대립가설 : 다이어트약 복용 전후의 체중 변화가 없다."
   ]
  },
  {
   "cell_type": "code",
   "execution_count": 179,
   "metadata": {},
   "outputs": [
    {
     "name": "stdout",
     "output_type": "stream",
     "text": [
      "[68.1217268183162, 56.94121793174962, 57.359141238682724, 54.63515688921915, 64.3270381466234, 48.492306515598585, 68.7240588210824, 56.19396549552449, 61.59519548028549, 58.75314812261295, 67.31053968522487, 49.69929645251173, 58.38791397993246, 58.07972822665792, 65.66884721167719, 54.500543663429845, 59.13785896224782, 55.61070791039314, 60.21106873357797, 62.914076068579114]\n",
      "--------------------------------------------------\n",
      "[65.94098797171107, 57.67544499710449, 57.819839215935254, 54.63788246116392, 64.84275566541605, 47.34427263203588, 67.86790793112998, 54.58033393455883, 60.64923115285458, 58.78881770728494, 65.70631311881824, 48.80793606499072, 57.001583230054315, 56.517144665313666, 64.13055954741337, 53.94173367626836, 57.224973536332286, 55.315321289307555, 61.60772730564428, 63.218635763189475]\n",
      "--------------------------------------------------\n",
      "Ttest_relResult(statistic=2.9154993563693186, pvalue=0.008871163766572827)\n",
      "--------------------------------------------------\n",
      "단일표본 T-검정 검정통계량: 2.915, pvalue: 0.009\n",
      "대립가설(H1) 채택 => 다이어트약 복용 전후의 체중 변화가 없다.\n"
     ]
    }
   ],
   "source": [
    "import numpy as np\n",
    "from scipy import stats\n",
    "np.random.seed(1)\n",
    "# 복용전 : 평균 60, 표준편차 5\n",
    "# 여기서 60을 중심으로 체중 데이터 20개가 만들어진다.\n",
    "before = [60 + np.random.normal(0,5) for a in range(20)] \n",
    "print(before)\n",
    "# 복용후 : 평균 : 복용전체중 X 0.99, 표준편차 0.02\n",
    "after = [w * np.random.normal(0.99, 0.02) for w in before]\n",
    "print('-'*50)\n",
    "print(after)\n",
    "print('-'*50)\n",
    "# 대응 표본 t검정 - ttest_rel 란 함수에다가 복용전과 복용후의 값을 인자로 입력\n",
    "result = stats.ttest_rel(before, after)\n",
    "print(result)\n",
    "print('-'*50)\n",
    "\n",
    "print(\"단일표본 T-검정 검정통계량: %.3f, pvalue: %.3f\" % result)\n",
    "statistic, pvalue = result\n",
    "if pvalue < 0.05:\n",
    "    print(\"대립가설(H1) 채택 => 다이어트약 복용 전후의 체중 변화가 없다.\")\n",
    "else:\n",
    "    print(\"귀무가설(H0) 채택\")"
   ]
  },
  {
   "cell_type": "markdown",
   "metadata": {},
   "source": [
    "### 실습문제\n",
    "대응표본 t검정"
   ]
  },
  {
   "cell_type": "code",
   "execution_count": 180,
   "metadata": {},
   "outputs": [],
   "source": [
    "# 탈모.xlsx 를 로드한다.\n",
    "# 예) 어떤 회사에서 탈모약을 개발해서 임상실험을 하는 상황을 가정하면\n",
    "# 50명을 모집해서 6개월간 탈모약을 복용하게 했고 복용 전과 후의 모발 수를 비교했다.\n",
    "# 귀무가설 : 복용 후 모발 수가 복용 전보다 크지 않다.\n",
    "# 대립가설 : 복용 후 모발 수가 복용 전보다 크다."
   ]
  },
  {
   "cell_type": "code",
   "execution_count": 181,
   "metadata": {},
   "outputs": [],
   "source": [
    "import pandas as pd"
   ]
  },
  {
   "cell_type": "code",
   "execution_count": 212,
   "metadata": {},
   "outputs": [
    {
     "data": {
      "text/html": [
       "<div>\n",
       "<style scoped>\n",
       "    .dataframe tbody tr th:only-of-type {\n",
       "        vertical-align: middle;\n",
       "    }\n",
       "\n",
       "    .dataframe tbody tr th {\n",
       "        vertical-align: top;\n",
       "    }\n",
       "\n",
       "    .dataframe thead th {\n",
       "        text-align: right;\n",
       "    }\n",
       "</style>\n",
       "<table border=\"1\" class=\"dataframe\">\n",
       "  <thead>\n",
       "    <tr style=\"text-align: right;\">\n",
       "      <th></th>\n",
       "      <th>1</th>\n",
       "      <th>2</th>\n",
       "    </tr>\n",
       "  </thead>\n",
       "  <tbody>\n",
       "    <tr>\n",
       "      <th>0</th>\n",
       "      <td>모발 수</td>\n",
       "      <td>NaN</td>\n",
       "    </tr>\n",
       "    <tr>\n",
       "      <th>1</th>\n",
       "      <td>복용전</td>\n",
       "      <td>복용후</td>\n",
       "    </tr>\n",
       "    <tr>\n",
       "      <th>2</th>\n",
       "      <td>95614</td>\n",
       "      <td>97530</td>\n",
       "    </tr>\n",
       "    <tr>\n",
       "      <th>3</th>\n",
       "      <td>102279</td>\n",
       "      <td>108454</td>\n",
       "    </tr>\n",
       "    <tr>\n",
       "      <th>4</th>\n",
       "      <td>90290</td>\n",
       "      <td>103699</td>\n",
       "    </tr>\n",
       "    <tr>\n",
       "      <th>5</th>\n",
       "      <td>91542</td>\n",
       "      <td>109330</td>\n",
       "    </tr>\n",
       "    <tr>\n",
       "      <th>6</th>\n",
       "      <td>91483</td>\n",
       "      <td>103279</td>\n",
       "    </tr>\n",
       "    <tr>\n",
       "      <th>7</th>\n",
       "      <td>91757</td>\n",
       "      <td>99753</td>\n",
       "    </tr>\n",
       "    <tr>\n",
       "      <th>8</th>\n",
       "      <td>105018</td>\n",
       "      <td>107752</td>\n",
       "    </tr>\n",
       "    <tr>\n",
       "      <th>9</th>\n",
       "      <td>99265</td>\n",
       "      <td>106671</td>\n",
       "    </tr>\n",
       "  </tbody>\n",
       "</table>\n",
       "</div>"
      ],
      "text/plain": [
       "        1       2\n",
       "0    모발 수     NaN\n",
       "1     복용전     복용후\n",
       "2   95614   97530\n",
       "3  102279  108454\n",
       "4   90290  103699\n",
       "5   91542  109330\n",
       "6   91483  103279\n",
       "7   91757   99753\n",
       "8  105018  107752\n",
       "9   99265  106671"
      ]
     },
     "execution_count": 212,
     "metadata": {},
     "output_type": "execute_result"
    }
   ],
   "source": [
    "df2 = pd.read_excel('탈모.xlsx', header=None)\n",
    "# 필요한 데이터를 추출해서 새로운 데이터 프레임에 저장!\n",
    "df2 = df2[[1,2]]\n",
    "df2.head(10)"
   ]
  },
  {
   "cell_type": "code",
   "execution_count": 213,
   "metadata": {},
   "outputs": [
    {
     "data": {
      "text/html": [
       "<div>\n",
       "<style scoped>\n",
       "    .dataframe tbody tr th:only-of-type {\n",
       "        vertical-align: middle;\n",
       "    }\n",
       "\n",
       "    .dataframe tbody tr th {\n",
       "        vertical-align: top;\n",
       "    }\n",
       "\n",
       "    .dataframe thead th {\n",
       "        text-align: right;\n",
       "    }\n",
       "</style>\n",
       "<table border=\"1\" class=\"dataframe\">\n",
       "  <thead>\n",
       "    <tr style=\"text-align: right;\">\n",
       "      <th></th>\n",
       "      <th>1</th>\n",
       "      <th>2</th>\n",
       "    </tr>\n",
       "  </thead>\n",
       "  <tbody>\n",
       "    <tr>\n",
       "      <th>2</th>\n",
       "      <td>95614</td>\n",
       "      <td>97530</td>\n",
       "    </tr>\n",
       "    <tr>\n",
       "      <th>3</th>\n",
       "      <td>102279</td>\n",
       "      <td>108454</td>\n",
       "    </tr>\n",
       "    <tr>\n",
       "      <th>4</th>\n",
       "      <td>90290</td>\n",
       "      <td>103699</td>\n",
       "    </tr>\n",
       "    <tr>\n",
       "      <th>5</th>\n",
       "      <td>91542</td>\n",
       "      <td>109330</td>\n",
       "    </tr>\n",
       "    <tr>\n",
       "      <th>6</th>\n",
       "      <td>91483</td>\n",
       "      <td>103279</td>\n",
       "    </tr>\n",
       "  </tbody>\n",
       "</table>\n",
       "</div>"
      ],
      "text/plain": [
       "        1       2\n",
       "2   95614   97530\n",
       "3  102279  108454\n",
       "4   90290  103699\n",
       "5   91542  109330\n",
       "6   91483  103279"
      ]
     },
     "execution_count": 213,
     "metadata": {},
     "output_type": "execute_result"
    }
   ],
   "source": [
    "# 위에 사용하지 않는 데이터들을 잘라낸다\n",
    "df2 = df2[2:]\n",
    "df2.head(5)"
   ]
  },
  {
   "cell_type": "code",
   "execution_count": 217,
   "metadata": {},
   "outputs": [],
   "source": [
    "# reset_index 명령어, 인덱스를 다시 설정할 때 사용하는 함수\n",
    "#df2.reset_index(drop=True)\n",
    "#df2.head()"
   ]
  },
  {
   "cell_type": "code",
   "execution_count": 216,
   "metadata": {},
   "outputs": [],
   "source": [
    "#df2 = df2[[1,2]]\n",
    "#df2.head()"
   ]
  },
  {
   "cell_type": "code",
   "execution_count": 224,
   "metadata": {},
   "outputs": [
    {
     "data": {
      "text/html": [
       "<div>\n",
       "<style scoped>\n",
       "    .dataframe tbody tr th:only-of-type {\n",
       "        vertical-align: middle;\n",
       "    }\n",
       "\n",
       "    .dataframe tbody tr th {\n",
       "        vertical-align: top;\n",
       "    }\n",
       "\n",
       "    .dataframe thead th {\n",
       "        text-align: right;\n",
       "    }\n",
       "</style>\n",
       "<table border=\"1\" class=\"dataframe\">\n",
       "  <thead>\n",
       "    <tr style=\"text-align: right;\">\n",
       "      <th></th>\n",
       "      <th>before</th>\n",
       "      <th>after</th>\n",
       "    </tr>\n",
       "  </thead>\n",
       "  <tbody>\n",
       "    <tr>\n",
       "      <th>2</th>\n",
       "      <td>95614</td>\n",
       "      <td>97530</td>\n",
       "    </tr>\n",
       "    <tr>\n",
       "      <th>3</th>\n",
       "      <td>102279</td>\n",
       "      <td>108454</td>\n",
       "    </tr>\n",
       "    <tr>\n",
       "      <th>4</th>\n",
       "      <td>90290</td>\n",
       "      <td>103699</td>\n",
       "    </tr>\n",
       "    <tr>\n",
       "      <th>5</th>\n",
       "      <td>91542</td>\n",
       "      <td>109330</td>\n",
       "    </tr>\n",
       "    <tr>\n",
       "      <th>6</th>\n",
       "      <td>91483</td>\n",
       "      <td>103279</td>\n",
       "    </tr>\n",
       "    <tr>\n",
       "      <th>7</th>\n",
       "      <td>91757</td>\n",
       "      <td>99753</td>\n",
       "    </tr>\n",
       "    <tr>\n",
       "      <th>8</th>\n",
       "      <td>105018</td>\n",
       "      <td>107752</td>\n",
       "    </tr>\n",
       "    <tr>\n",
       "      <th>9</th>\n",
       "      <td>99265</td>\n",
       "      <td>106671</td>\n",
       "    </tr>\n",
       "    <tr>\n",
       "      <th>10</th>\n",
       "      <td>100587</td>\n",
       "      <td>105858</td>\n",
       "    </tr>\n",
       "    <tr>\n",
       "      <th>11</th>\n",
       "      <td>92852</td>\n",
       "      <td>103365</td>\n",
       "    </tr>\n",
       "  </tbody>\n",
       "</table>\n",
       "</div>"
      ],
      "text/plain": [
       "    before   after\n",
       "2    95614   97530\n",
       "3   102279  108454\n",
       "4    90290  103699\n",
       "5    91542  109330\n",
       "6    91483  103279\n",
       "7    91757   99753\n",
       "8   105018  107752\n",
       "9    99265  106671\n",
       "10  100587  105858\n",
       "11   92852  103365"
      ]
     },
     "execution_count": 224,
     "metadata": {},
     "output_type": "execute_result"
    }
   ],
   "source": [
    "# column 변경\n",
    "# 1 => before\n",
    "# 2 => after\n",
    "df2.columns = ['before','after']\n",
    "df2.head(10)"
   ]
  },
  {
   "cell_type": "code",
   "execution_count": 225,
   "metadata": {},
   "outputs": [],
   "source": [
    "# before, after 로 값을 저장하는데\n",
    "# loc 사용해서 해당값을 추출할 것\n",
    "before = df2.loc[:, 'before']\n",
    "after = df2.loc[:, 'after']"
   ]
  },
  {
   "cell_type": "code",
   "execution_count": 226,
   "metadata": {},
   "outputs": [
    {
     "data": {
      "text/plain": [
       "2     95614\n",
       "3    102279\n",
       "4     90290\n",
       "5     91542\n",
       "6     91483\n",
       "Name: before, dtype: object"
      ]
     },
     "execution_count": 226,
     "metadata": {},
     "output_type": "execute_result"
    }
   ],
   "source": [
    "before.head()"
   ]
  },
  {
   "cell_type": "code",
   "execution_count": 227,
   "metadata": {},
   "outputs": [
    {
     "name": "stdout",
     "output_type": "stream",
     "text": [
      "Ttest_relResult(statistic=-2.244794998363693, pvalue=0.029328921794545573)\n",
      "단일표본 T-검정 검정통계량: -2.245, pvalue: 0.029\n",
      "대립가설(H1) 채택 => 남자와 여자의 신발사이즈의 평균이 다르다.\n"
     ]
    }
   ],
   "source": [
    "result = stats.ttest_rel(before, after)\n",
    "print(result)\n",
    "\n",
    "print(\"단일표본 T-검정 검정통계량: %.3f, pvalue: %.3f\" % result)\n",
    "statistic, pvalue = result\n",
    "if pvalue < 0.05:\n",
    "    print(\"대립가설(H1) 채택 => 남자와 여자의 신발사이즈의 평균이 다르다.\")\n",
    "else:\n",
    "    print(\"귀무가설(H0) 채택\")"
   ]
  },
  {
   "cell_type": "code",
   "execution_count": null,
   "metadata": {},
   "outputs": [],
   "source": []
  }
 ],
 "metadata": {
  "kernelspec": {
   "display_name": "Python 3",
   "language": "python",
   "name": "python3"
  },
  "language_info": {
   "codemirror_mode": {
    "name": "ipython",
    "version": 3
   },
   "file_extension": ".py",
   "mimetype": "text/x-python",
   "name": "python",
   "nbconvert_exporter": "python",
   "pygments_lexer": "ipython3",
   "version": "3.7.3"
  }
 },
 "nbformat": 4,
 "nbformat_minor": 4
}
