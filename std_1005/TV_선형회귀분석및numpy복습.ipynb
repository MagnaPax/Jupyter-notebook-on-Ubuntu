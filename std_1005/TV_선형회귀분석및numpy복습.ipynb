{
 "cells": [
  {
   "cell_type": "code",
   "execution_count": 40,
   "metadata": {},
   "outputs": [],
   "source": [
    "import mglearn\n",
    "# 사이킷런 패키지 데이터셋을 로딩\n",
    "from sklearn.datasets import load_boston\n",
    "# 회귀분석을 하기 위한 패키지\n",
    "from sklearn.linear_model import LinearRegression\n",
    "# 학습용, 검증용 데이터셋을 나누기 위한 패키지\n",
    "from sklearn.model_selection import train_test_split"
   ]
  },
  {
   "cell_type": "code",
   "execution_count": 1,
   "metadata": {
    "collapsed": true,
    "jupyter": {
     "outputs_hidden": true
    }
   },
   "outputs": [
    {
     "data": {
      "text/plain": [
       "['NanumMyeongjo Eco',\n",
       " 'NanumBarunGothic',\n",
       " 'NanumGothic Eco',\n",
       " 'NanumBarunpen',\n",
       " 'Nanum Pen Script',\n",
       " 'NanumGothicCoding',\n",
       " 'NanumGothic Eco',\n",
       " 'NanumGothic',\n",
       " 'NanumSquare',\n",
       " 'NanumGothicCoding',\n",
       " 'NanumBarunGothic',\n",
       " 'NanumSquareRound',\n",
       " 'NanumSquare',\n",
       " 'NanumMyeongjo Eco',\n",
       " 'NanumSquareRound',\n",
       " 'NanumSquare',\n",
       " 'NanumSquareRound',\n",
       " 'NanumGothic Eco',\n",
       " 'NanumMyeongjo',\n",
       " 'NanumMyeongjo',\n",
       " 'NanumGothic',\n",
       " 'NanumBarunGothic',\n",
       " 'NanumBarunpen',\n",
       " 'NanumGothic',\n",
       " 'Nanum Brush Script',\n",
       " 'NanumGothic',\n",
       " 'NanumSquareRound',\n",
       " 'NanumMyeongjo',\n",
       " 'NanumSquare',\n",
       " 'NanumBarunGothic',\n",
       " 'NanumMyeongjo Eco']"
      ]
     },
     "execution_count": 1,
     "metadata": {},
     "output_type": "execute_result"
    }
   ],
   "source": [
    "# 리눅스에서 한글 설정\n",
    "import pandas as pd\n",
    "import numpy as np\n",
    "import warnings as wr\n",
    "import matplotlib\n",
    "import matplotlib.font_manager\n",
    "#[f.name for f in matplotlib.font_manager.fontManager.ttflist if 'Nanum' in f.name]"
   ]
  },
  {
   "cell_type": "code",
   "execution_count": 2,
   "metadata": {},
   "outputs": [],
   "source": [
    "import matplotlib as mpl\n",
    "import matplotlib.pyplot as plt\n",
    "# 유니코드 깨짐현상 해결\n",
    "mpl.rcParams['axes.unicode_minus'] = False\n",
    "# 나눔고딕 폰트 적용\n",
    "plt.rcParams[\"font.family\"] = 'NanumGothic'\n",
    "wr.filterwarnings('ignore')"
   ]
  },
  {
   "cell_type": "code",
   "execution_count": 3,
   "metadata": {},
   "outputs": [],
   "source": [
    "# 데이터를 시트별로 불러오기\n",
    "train_df = pd.read_excel('dataset/tv.xlsx', sheet_name='train')\n",
    "test_df = pd.read_excel('dataset/tv.xlsx', sheet_name='test')"
   ]
  },
  {
   "cell_type": "code",
   "execution_count": 4,
   "metadata": {},
   "outputs": [
    {
     "name": "stdout",
     "output_type": "stream",
     "text": [
      "<class 'pandas.core.frame.DataFrame'>\n",
      "RangeIndex: 7000 entries, 0 to 6999\n",
      "Data columns (total 12 columns):\n",
      "ID      7000 non-null int64\n",
      "판매가     7000 non-null int64\n",
      "화면크기    7000 non-null int64\n",
      "형태      7000 non-null int64\n",
      "해상도     7000 non-null int64\n",
      "화면비율    7000 non-null int64\n",
      "LCD     7000 non-null int64\n",
      "LED     7000 non-null int64\n",
      "OLED    7000 non-null int64\n",
      "QLED    7000 non-null int64\n",
      "단자      7000 non-null int64\n",
      "부가기능    7000 non-null int64\n",
      "dtypes: int64(12)\n",
      "memory usage: 656.3 KB\n",
      "<class 'pandas.core.frame.DataFrame'>\n",
      "RangeIndex: 3000 entries, 0 to 2999\n",
      "Data columns (total 12 columns):\n",
      "ID      3000 non-null int64\n",
      "판매가     3000 non-null int64\n",
      "화면크기    3000 non-null int64\n",
      "형태      3000 non-null int64\n",
      "해상도     3000 non-null int64\n",
      "화면비율    3000 non-null int64\n",
      "LCD     3000 non-null int64\n",
      "LED     3000 non-null int64\n",
      "OLED    3000 non-null int64\n",
      "QLED    3000 non-null int64\n",
      "단자      3000 non-null int64\n",
      "부가기능    3000 non-null int64\n",
      "dtypes: int64(12)\n",
      "memory usage: 281.3 KB\n"
     ]
    }
   ],
   "source": [
    "################## 데이터 전처리\n",
    "train_df.info()\n",
    "test_df.info()"
   ]
  },
  {
   "cell_type": "code",
   "execution_count": 21,
   "metadata": {},
   "outputs": [
    {
     "data": {
      "text/plain": [
       "(3000, 12)"
      ]
     },
     "execution_count": 21,
     "metadata": {},
     "output_type": "execute_result"
    }
   ],
   "source": [
    "# 데이터의 크기 확인하기 (7000,12), (3000,12)\n",
    "train_df.shape\n",
    "test_df.shape"
   ]
  },
  {
   "cell_type": "code",
   "execution_count": 19,
   "metadata": {},
   "outputs": [
    {
     "data": {
      "text/plain": [
       "ID      0\n",
       "판매가     0\n",
       "화면크기    0\n",
       "형태      0\n",
       "해상도     0\n",
       "화면비율    0\n",
       "LCD     0\n",
       "LED     0\n",
       "OLED    0\n",
       "QLED    0\n",
       "단자      0\n",
       "부가기능    0\n",
       "dtype: int64"
      ]
     },
     "execution_count": 19,
     "metadata": {},
     "output_type": "execute_result"
    }
   ],
   "source": [
    "# null여부\n",
    "train_df.isnull().sum()\n",
    "test_df.isnull().sum()"
   ]
  },
  {
   "cell_type": "code",
   "execution_count": 24,
   "metadata": {},
   "outputs": [
    {
     "data": {
      "text/plain": [
       "(0, 12)"
      ]
     },
     "execution_count": 24,
     "metadata": {},
     "output_type": "execute_result"
    }
   ],
   "source": [
    "# LCD, LED, OLED, QLED 의 값이 0인 데이터 행을 찾아서 삭제\n",
    "df_search = train_df[(train_df['LCD']==0) & (train_df['LED']==0) & (train_df['OLED']==0) & (train_df['QLED']==0)]\n",
    "df_search.shape"
   ]
  },
  {
   "cell_type": "code",
   "execution_count": 25,
   "metadata": {},
   "outputs": [],
   "source": [
    "# 위에서 검색한 365개의 행을 train 데이터에서 삭제\n",
    "# 삭제 후 -> (6636, 12)"
   ]
  },
  {
   "cell_type": "code",
   "execution_count": 26,
   "metadata": {},
   "outputs": [
    {
     "data": {
      "text/plain": [
       "(6636, 12)"
      ]
     },
     "execution_count": 26,
     "metadata": {},
     "output_type": "execute_result"
    }
   ],
   "source": [
    "train_df = train_df.drop(df_search.index, axis=0)\n",
    "train_df.shape"
   ]
  },
  {
   "cell_type": "code",
   "execution_count": 27,
   "metadata": {},
   "outputs": [
    {
     "data": {
      "text/plain": [
       "(2816, 12)"
      ]
     },
     "execution_count": 27,
     "metadata": {},
     "output_type": "execute_result"
    }
   ],
   "source": [
    "# 테스트 데이터에서도 마찬가지로 제거를 하자.\n",
    "# 삭제 후 -> (2816, 12)\n",
    "df_search = test_df[(test_df['LCD']==0) & (test_df['LED']==0) & (test_df['OLED']==0) & (test_df['QLED']==0)]\n",
    "test_df = test_df.drop(df_search.index, axis=0)\n",
    "test_df.shape"
   ]
  },
  {
   "cell_type": "code",
   "execution_count": 29,
   "metadata": {},
   "outputs": [
    {
     "name": "stdout",
     "output_type": "stream",
     "text": [
      "<class 'pandas.core.frame.DataFrame'>\n",
      "Int64Index: 6636 entries, 0 to 6999\n",
      "Data columns (total 12 columns):\n",
      "ID      6636 non-null int64\n",
      "판매가     6636 non-null int64\n",
      "화면크기    6636 non-null int64\n",
      "형태      6636 non-null int64\n",
      "해상도     6636 non-null int64\n",
      "화면비율    6636 non-null int64\n",
      "LCD     6636 non-null int64\n",
      "LED     6636 non-null int64\n",
      "OLED    6636 non-null int64\n",
      "QLED    6636 non-null int64\n",
      "단자      6636 non-null int64\n",
      "부가기능    6636 non-null int64\n",
      "dtypes: int64(12)\n",
      "memory usage: 674.0 KB\n",
      "None\n"
     ]
    }
   ],
   "source": [
    "# 파라미터 추출\n",
    "# x_train, x_test, y_train, y_test 란 변수로 칼럼값을 추출해서 대입\n",
    "# y 값은 판매가이다. (종속변수)\n",
    "print(train_df.info())\n",
    "\n",
    "x_train_df = train_df.drop(['ID', '판매가'], axis=1)\n",
    "x_test_df = test_df.drop(['ID', '판매가'], axis=1)\n",
    "y_train_df = train_df['판매가']\n",
    "y_test_df = test_df['판매가']\n",
    "# 각 값을 파라미터로 설정\n",
    "x_train = x_train_df.values\n",
    "x_test = x_test_df.values\n",
    "y_train = y_train_df.values\n",
    "y_test = y_test_df.values"
   ]
  },
  {
   "cell_type": "code",
   "execution_count": 41,
   "metadata": {},
   "outputs": [
    {
     "data": {
      "text/plain": [
       "LinearRegression(copy_X=True, fit_intercept=True, n_jobs=None, normalize=False)"
      ]
     },
     "execution_count": 41,
     "metadata": {},
     "output_type": "execute_result"
    }
   ],
   "source": [
    "# 모델 설정 학습\n",
    "model = LinearRegression()\n",
    "model.fit(x_train, y_train)"
   ]
  },
  {
   "cell_type": "code",
   "execution_count": 42,
   "metadata": {},
   "outputs": [
    {
     "name": "stdout",
     "output_type": "stream",
     "text": [
      "0.5676150643429947\n",
      "0.5365762057290634\n"
     ]
    }
   ],
   "source": [
    "# 모델 검증\n",
    "print(model.score(x_train, y_train))\n",
    "print(model.score(x_test, y_test))"
   ]
  },
  {
   "cell_type": "code",
   "execution_count": 43,
   "metadata": {},
   "outputs": [],
   "source": [
    "# 모델 예측 - np.array\n",
    "y_predict = model.predict([[55, 0, 2160, 1, 0, 1, 0, 0, 3, 1]])"
   ]
  },
  {
   "cell_type": "code",
   "execution_count": 44,
   "metadata": {},
   "outputs": [],
   "source": [
    "import numpy as np\n",
    "import matplotlib.pylab as plt"
   ]
  },
  {
   "cell_type": "code",
   "execution_count": 45,
   "metadata": {},
   "outputs": [],
   "source": [
    "def step_function(x):\n",
    "    return np.array(x>0, dtype=np.int)"
   ]
  },
  {
   "cell_type": "code",
   "execution_count": 46,
   "metadata": {},
   "outputs": [
    {
     "data": {
      "text/plain": [
       "array([], dtype=int64)"
      ]
     },
     "execution_count": 46,
     "metadata": {},
     "output_type": "execute_result"
    }
   ],
   "source": [
    "np.arange(0)"
   ]
  },
  {
   "cell_type": "code",
   "execution_count": 47,
   "metadata": {},
   "outputs": [],
   "source": [
    "# -5.0 ~ 4.9 사이의 값 step 0.1 인 구간\n",
    "x = np.arange(-5.0, 5.0, 0.1)"
   ]
  },
  {
   "cell_type": "code",
   "execution_count": 48,
   "metadata": {},
   "outputs": [
    {
     "data": {
      "text/plain": [
       "array([0, 0, 0, 0, 0, 0, 0, 0, 0, 0, 0, 0, 0, 0, 0, 0, 0, 0, 0, 0, 0, 0,\n",
       "       0, 0, 0, 0, 0, 0, 0, 0, 0, 0, 0, 0, 0, 0, 0, 0, 0, 0, 0, 0, 0, 0,\n",
       "       0, 0, 0, 0, 0, 0, 0, 1, 1, 1, 1, 1, 1, 1, 1, 1, 1, 1, 1, 1, 1, 1,\n",
       "       1, 1, 1, 1, 1, 1, 1, 1, 1, 1, 1, 1, 1, 1, 1, 1, 1, 1, 1, 1, 1, 1,\n",
       "       1, 1, 1, 1, 1, 1, 1, 1, 1, 1, 1, 1])"
      ]
     },
     "execution_count": 48,
     "metadata": {},
     "output_type": "execute_result"
    }
   ],
   "source": [
    "y = step_function(x)\n",
    "y"
   ]
  },
  {
   "cell_type": "code",
   "execution_count": 49,
   "metadata": {},
   "outputs": [
    {
     "name": "stdout",
     "output_type": "stream",
     "text": [
      "1.0\n"
     ]
    },
    {
     "data": {
      "text/plain": [
       "array(1)"
      ]
     },
     "execution_count": 49,
     "metadata": {},
     "output_type": "execute_result"
    }
   ],
   "source": [
    "#n = 9.000000000e-01 0보다 적은 값 => 0.9\n",
    "n = 1.000000000e+00 # 1.0 즉 0보다 큰 값\n",
    "print(n)\n",
    "np.array(n,dtype=int)"
   ]
  },
  {
   "cell_type": "code",
   "execution_count": 50,
   "metadata": {},
   "outputs": [
    {
     "data": {
      "image/png": "[encoded data removed]",
      "text/plain": [
       "<Figure size 432x288 with 1 Axes>"
      ]
     },
     "metadata": {
      "needs_background": "light"
     },
     "output_type": "display_data"
    }
   ],
   "source": [
    "# 시각화로 보자. 0.5\n",
    "plt.plot(x,y)\n",
    "plt.grid(True)\n",
    "plt.title('Step Function')\n",
    "plt.ylim(-0.1, 1.2, 1)\n",
    "plt.xlabel('X')\n",
    "plt.ylabel('Y')\n",
    "plt.show()"
   ]
  },
  {
   "cell_type": "raw",
   "metadata": {},
   "source": [
    "입력이 0을 넘으면 1을 출력\n",
    "그 외에는 0 출력하는 함수이다. 활성화 함수에서 가장 기본형이다.\n",
    "\n",
    "계단함수 공식\n",
    "y=1(if x>= 0), 0 (if x < 0)"
   ]
  },
  {
   "cell_type": "code",
   "execution_count": 51,
   "metadata": {},
   "outputs": [],
   "source": [
    "# 시그모이드 함수 만들기 (S자 만들기)\n",
    "# 로지스틱 회귀분석 또는 Neural network 의 Binary classification\n",
    "# 마지막 레이어의 활성함수로 사용하는 시그모이드, 은닉층이 많아지면서 소프트맥스로 변경 또는 대안이 있다."
   ]
  },
  {
   "cell_type": "code",
   "execution_count": null,
   "metadata": {},
   "outputs": [],
   "source": []
  }
 ],
 "metadata": {
  "kernelspec": {
   "display_name": "Python 3",
   "language": "python",
   "name": "python3"
  },
  "language_info": {
   "codemirror_mode": {
    "name": "ipython",
    "version": 3
   },
   "file_extension": ".py",
   "mimetype": "text/x-python",
   "name": "python",
   "nbconvert_exporter": "python",
   "pygments_lexer": "ipython3",
   "version": "3.7.3"
  }
 },
 "nbformat": 4,
 "nbformat_minor": 4
}
