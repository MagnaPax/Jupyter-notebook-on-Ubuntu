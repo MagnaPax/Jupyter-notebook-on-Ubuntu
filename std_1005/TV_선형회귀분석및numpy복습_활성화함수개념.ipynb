{
 "cells": [
  {
   "cell_type": "code",
   "execution_count": 10,
   "metadata": {},
   "outputs": [],
   "source": [
    "import mglearn\n",
    "# 사이킷런 패키지 데이터셋을 로딩\n",
    "from sklearn.datasets import load_boston\n",
    "# 회귀분석을 하기 위한 패키지\n",
    "from sklearn.linear_model import LinearRegression\n",
    "# 학습용, 검증용 데이터셋을 나누기 위한 패키지\n",
    "from sklearn.model_selection import train_test_split"
   ]
  },
  {
   "cell_type": "code",
   "execution_count": 11,
   "metadata": {},
   "outputs": [],
   "source": [
    "# 리눅스에서 한글 설정\n",
    "import pandas as pd\n",
    "import numpy as np\n",
    "import warnings as wr\n",
    "import matplotlib\n",
    "import matplotlib.font_manager\n",
    "#[f.name for f in matplotlib.font_manager.fontManager.ttflist if 'Nanum' in f.name]"
   ]
  },
  {
   "cell_type": "code",
   "execution_count": 12,
   "metadata": {},
   "outputs": [],
   "source": [
    "import matplotlib as mpl\n",
    "import matplotlib.pyplot as plt\n",
    "# 유니코드 깨짐현상 해결\n",
    "mpl.rcParams['axes.unicode_minus'] = False\n",
    "# 나눔고딕 폰트 적용\n",
    "plt.rcParams[\"font.family\"] = 'NanumGothic'\n",
    "wr.filterwarnings('ignore')"
   ]
  },
  {
   "cell_type": "code",
   "execution_count": 3,
   "metadata": {},
   "outputs": [],
   "source": [
    "# 데이터를 시트별로 불러오기\n",
    "train_df = pd.read_excel('dataset/tv.xlsx', sheet_name='train')\n",
    "test_df = pd.read_excel('dataset/tv.xlsx', sheet_name='test')"
   ]
  },
  {
   "cell_type": "code",
   "execution_count": 4,
   "metadata": {},
   "outputs": [
    {
     "name": "stdout",
     "output_type": "stream",
     "text": [
      "<class 'pandas.core.frame.DataFrame'>\n",
      "RangeIndex: 7000 entries, 0 to 6999\n",
      "Data columns (total 12 columns):\n",
      "ID      7000 non-null int64\n",
      "판매가     7000 non-null int64\n",
      "화면크기    7000 non-null int64\n",
      "형태      7000 non-null int64\n",
      "해상도     7000 non-null int64\n",
      "화면비율    7000 non-null int64\n",
      "LCD     7000 non-null int64\n",
      "LED     7000 non-null int64\n",
      "OLED    7000 non-null int64\n",
      "QLED    7000 non-null int64\n",
      "단자      7000 non-null int64\n",
      "부가기능    7000 non-null int64\n",
      "dtypes: int64(12)\n",
      "memory usage: 656.3 KB\n",
      "<class 'pandas.core.frame.DataFrame'>\n",
      "RangeIndex: 3000 entries, 0 to 2999\n",
      "Data columns (total 12 columns):\n",
      "ID      3000 non-null int64\n",
      "판매가     3000 non-null int64\n",
      "화면크기    3000 non-null int64\n",
      "형태      3000 non-null int64\n",
      "해상도     3000 non-null int64\n",
      "화면비율    3000 non-null int64\n",
      "LCD     3000 non-null int64\n",
      "LED     3000 non-null int64\n",
      "OLED    3000 non-null int64\n",
      "QLED    3000 non-null int64\n",
      "단자      3000 non-null int64\n",
      "부가기능    3000 non-null int64\n",
      "dtypes: int64(12)\n",
      "memory usage: 281.3 KB\n"
     ]
    }
   ],
   "source": [
    "################## 데이터 전처리\n",
    "train_df.info()\n",
    "test_df.info()"
   ]
  },
  {
   "cell_type": "code",
   "execution_count": 21,
   "metadata": {},
   "outputs": [
    {
     "data": {
      "text/plain": [
       "(3000, 12)"
      ]
     },
     "execution_count": 21,
     "metadata": {},
     "output_type": "execute_result"
    }
   ],
   "source": [
    "# 데이터의 크기 확인하기 (7000,12), (3000,12)\n",
    "train_df.shape\n",
    "test_df.shape"
   ]
  },
  {
   "cell_type": "code",
   "execution_count": 19,
   "metadata": {},
   "outputs": [
    {
     "data": {
      "text/plain": [
       "ID      0\n",
       "판매가     0\n",
       "화면크기    0\n",
       "형태      0\n",
       "해상도     0\n",
       "화면비율    0\n",
       "LCD     0\n",
       "LED     0\n",
       "OLED    0\n",
       "QLED    0\n",
       "단자      0\n",
       "부가기능    0\n",
       "dtype: int64"
      ]
     },
     "execution_count": 19,
     "metadata": {},
     "output_type": "execute_result"
    }
   ],
   "source": [
    "# null여부\n",
    "train_df.isnull().sum()\n",
    "test_df.isnull().sum()"
   ]
  },
  {
   "cell_type": "code",
   "execution_count": 24,
   "metadata": {},
   "outputs": [
    {
     "data": {
      "text/plain": [
       "(0, 12)"
      ]
     },
     "execution_count": 24,
     "metadata": {},
     "output_type": "execute_result"
    }
   ],
   "source": [
    "# LCD, LED, OLED, QLED 의 값이 0인 데이터 행을 찾아서 삭제\n",
    "df_search = train_df[(train_df['LCD']==0) & (train_df['LED']==0) & (train_df['OLED']==0) & (train_df['QLED']==0)]\n",
    "df_search.shape"
   ]
  },
  {
   "cell_type": "code",
   "execution_count": 25,
   "metadata": {},
   "outputs": [],
   "source": [
    "# 위에서 검색한 365개의 행을 train 데이터에서 삭제\n",
    "# 삭제 후 -> (6636, 12)"
   ]
  },
  {
   "cell_type": "code",
   "execution_count": 26,
   "metadata": {},
   "outputs": [
    {
     "data": {
      "text/plain": [
       "(6636, 12)"
      ]
     },
     "execution_count": 26,
     "metadata": {},
     "output_type": "execute_result"
    }
   ],
   "source": [
    "train_df = train_df.drop(df_search.index, axis=0)\n",
    "train_df.shape"
   ]
  },
  {
   "cell_type": "code",
   "execution_count": 27,
   "metadata": {},
   "outputs": [
    {
     "data": {
      "text/plain": [
       "(2816, 12)"
      ]
     },
     "execution_count": 27,
     "metadata": {},
     "output_type": "execute_result"
    }
   ],
   "source": [
    "# 테스트 데이터에서도 마찬가지로 제거를 하자.\n",
    "# 삭제 후 -> (2816, 12)\n",
    "df_search = test_df[(test_df['LCD']==0) & (test_df['LED']==0) & (test_df['OLED']==0) & (test_df['QLED']==0)]\n",
    "test_df = test_df.drop(df_search.index, axis=0)\n",
    "test_df.shape"
   ]
  },
  {
   "cell_type": "code",
   "execution_count": 29,
   "metadata": {},
   "outputs": [
    {
     "name": "stdout",
     "output_type": "stream",
     "text": [
      "<class 'pandas.core.frame.DataFrame'>\n",
      "Int64Index: 6636 entries, 0 to 6999\n",
      "Data columns (total 12 columns):\n",
      "ID      6636 non-null int64\n",
      "판매가     6636 non-null int64\n",
      "화면크기    6636 non-null int64\n",
      "형태      6636 non-null int64\n",
      "해상도     6636 non-null int64\n",
      "화면비율    6636 non-null int64\n",
      "LCD     6636 non-null int64\n",
      "LED     6636 non-null int64\n",
      "OLED    6636 non-null int64\n",
      "QLED    6636 non-null int64\n",
      "단자      6636 non-null int64\n",
      "부가기능    6636 non-null int64\n",
      "dtypes: int64(12)\n",
      "memory usage: 674.0 KB\n",
      "None\n"
     ]
    }
   ],
   "source": [
    "# 파라미터 추출\n",
    "# x_train, x_test, y_train, y_test 란 변수로 칼럼값을 추출해서 대입\n",
    "# y 값은 판매가이다. (종속변수)\n",
    "print(train_df.info())\n",
    "\n",
    "x_train_df = train_df.drop(['ID', '판매가'], axis=1)\n",
    "x_test_df = test_df.drop(['ID', '판매가'], axis=1)\n",
    "y_train_df = train_df['판매가']\n",
    "y_test_df = test_df['판매가']\n",
    "# 각 값을 파라미터로 설정\n",
    "x_train = x_train_df.values\n",
    "x_test = x_test_df.values\n",
    "y_train = y_train_df.values\n",
    "y_test = y_test_df.values"
   ]
  },
  {
   "cell_type": "code",
   "execution_count": 41,
   "metadata": {},
   "outputs": [
    {
     "data": {
      "text/plain": [
       "LinearRegression(copy_X=True, fit_intercept=True, n_jobs=None, normalize=False)"
      ]
     },
     "execution_count": 41,
     "metadata": {},
     "output_type": "execute_result"
    }
   ],
   "source": [
    "# 모델 설정 학습\n",
    "model = LinearRegression()\n",
    "model.fit(x_train, y_train)"
   ]
  },
  {
   "cell_type": "code",
   "execution_count": 42,
   "metadata": {},
   "outputs": [
    {
     "name": "stdout",
     "output_type": "stream",
     "text": [
      "0.5676150643429947\n",
      "0.5365762057290634\n"
     ]
    }
   ],
   "source": [
    "# 모델 검증\n",
    "print(model.score(x_train, y_train))\n",
    "print(model.score(x_test, y_test))"
   ]
  },
  {
   "cell_type": "code",
   "execution_count": 43,
   "metadata": {},
   "outputs": [],
   "source": [
    "# 모델 예측 - np.array\n",
    "y_predict = model.predict([[55, 0, 2160, 1, 0, 1, 0, 0, 3, 1]])"
   ]
  },
  {
   "cell_type": "code",
   "execution_count": 44,
   "metadata": {},
   "outputs": [],
   "source": [
    "import numpy as np\n",
    "import matplotlib.pylab as plt"
   ]
  },
  {
   "cell_type": "code",
   "execution_count": 45,
   "metadata": {},
   "outputs": [],
   "source": [
    "def step_function(x):\n",
    "    return np.array(x>0, dtype=np.int)"
   ]
  },
  {
   "cell_type": "code",
   "execution_count": 46,
   "metadata": {},
   "outputs": [
    {
     "data": {
      "text/plain": [
       "array([], dtype=int64)"
      ]
     },
     "execution_count": 46,
     "metadata": {},
     "output_type": "execute_result"
    }
   ],
   "source": [
    "np.arange(0)"
   ]
  },
  {
   "cell_type": "code",
   "execution_count": 47,
   "metadata": {},
   "outputs": [],
   "source": [
    "# -5.0 ~ 4.9 사이의 값 step 0.1 인 구간\n",
    "x = np.arange(-5.0, 5.0, 0.1)"
   ]
  },
  {
   "cell_type": "code",
   "execution_count": 48,
   "metadata": {},
   "outputs": [
    {
     "data": {
      "text/plain": [
       "array([0, 0, 0, 0, 0, 0, 0, 0, 0, 0, 0, 0, 0, 0, 0, 0, 0, 0, 0, 0, 0, 0,\n",
       "       0, 0, 0, 0, 0, 0, 0, 0, 0, 0, 0, 0, 0, 0, 0, 0, 0, 0, 0, 0, 0, 0,\n",
       "       0, 0, 0, 0, 0, 0, 0, 1, 1, 1, 1, 1, 1, 1, 1, 1, 1, 1, 1, 1, 1, 1,\n",
       "       1, 1, 1, 1, 1, 1, 1, 1, 1, 1, 1, 1, 1, 1, 1, 1, 1, 1, 1, 1, 1, 1,\n",
       "       1, 1, 1, 1, 1, 1, 1, 1, 1, 1, 1, 1])"
      ]
     },
     "execution_count": 48,
     "metadata": {},
     "output_type": "execute_result"
    }
   ],
   "source": [
    "y = step_function(x)\n",
    "y"
   ]
  },
  {
   "cell_type": "code",
   "execution_count": 49,
   "metadata": {},
   "outputs": [
    {
     "name": "stdout",
     "output_type": "stream",
     "text": [
      "1.0\n"
     ]
    },
    {
     "data": {
      "text/plain": [
       "array(1)"
      ]
     },
     "execution_count": 49,
     "metadata": {},
     "output_type": "execute_result"
    }
   ],
   "source": [
    "#n = 9.000000000e-01 0보다 적은 값 => 0.9\n",
    "n = 1.000000000e+00 # 1.0 즉 0보다 큰 값\n",
    "print(n)\n",
    "np.array(n,dtype=int)"
   ]
  },
  {
   "cell_type": "code",
   "execution_count": 50,
   "metadata": {},
   "outputs": [
    {
     "data": {
      "image/png": "[encoded data removed]",
      "text/plain": [
       "<Figure size 432x288 with 1 Axes>"
      ]
     },
     "metadata": {
      "needs_background": "light"
     },
     "output_type": "display_data"
    }
   ],
   "source": [
    "# 시각화로 보자. 0.5\n",
    "plt.plot(x,y)\n",
    "plt.grid(True)\n",
    "plt.title('Step Function')\n",
    "plt.ylim(-0.1, 1.2, 1)\n",
    "plt.xlabel('X')\n",
    "plt.ylabel('Y')\n",
    "plt.show()"
   ]
  },
  {
   "cell_type": "raw",
   "metadata": {},
   "source": [
    "입력이 0을 넘으면 1을 출력\n",
    "그 외에는 0 출력하는 함수이다. 활성화 함수에서 가장 기본형이다.\n",
    "\n",
    "계단함수 공식\n",
    "y=1(if x>= 0), 0 (if x < 0)"
   ]
  },
  {
   "cell_type": "code",
   "execution_count": 51,
   "metadata": {},
   "outputs": [],
   "source": [
    "# 시그모이드 함수 만들기 (S자 만들기)\n",
    "# 로지스틱 회귀분석 또는 Neural network 의 Binary classification\n",
    "# 마지막 레이어의 활성함수로 사용하는 시그모이드, 은닉층이 많아지면서 소프트맥스로 변경 또는 대안이 있다.\n",
    "# => 입력값이 무엇이든간에 모두 0과 1 사이의 값\n",
    "\n",
    "# 단점) exp 연산 때문에 느려진다."
   ]
  },
  {
   "cell_type": "code",
   "execution_count": 1,
   "metadata": {},
   "outputs": [],
   "source": [
    "import numpy as np\n",
    "import matplotlib.pylab as plt"
   ]
  },
  {
   "cell_type": "code",
   "execution_count": 2,
   "metadata": {},
   "outputs": [],
   "source": [
    "def sigmoid(x):\n",
    "    res = 1 / (1 + np.exp(-x))\n",
    "    print(\"res: \", res)\n",
    "    return res"
   ]
  },
  {
   "cell_type": "code",
   "execution_count": 3,
   "metadata": {},
   "outputs": [
    {
     "name": "stdout",
     "output_type": "stream",
     "text": [
      "res:  [0.01798621 0.98201379 0.52497919]\n"
     ]
    }
   ],
   "source": [
    "x2 = np.array([-4.0, 4.0, 0.1])\n",
    "y2 = sigmoid(x2)"
   ]
  },
  {
   "cell_type": "code",
   "execution_count": 4,
   "metadata": {},
   "outputs": [
    {
     "data": {
      "text/plain": [
       "array([0.01798621, 0.98201379, 0.52497919])"
      ]
     },
     "execution_count": 4,
     "metadata": {},
     "output_type": "execute_result"
    }
   ],
   "source": [
    "y2"
   ]
  },
  {
   "cell_type": "code",
   "execution_count": 5,
   "metadata": {
    "collapsed": true,
    "jupyter": {
     "outputs_hidden": true
    }
   },
   "outputs": [
    {
     "name": "stdout",
     "output_type": "stream",
     "text": [
      "res:  [0.00669285 0.00739154 0.00816257 0.0090133  0.0099518  0.01098694\n",
      " 0.01212843 0.01338692 0.01477403 0.0163025  0.01798621 0.01984031\n",
      " 0.02188127 0.02412702 0.02659699 0.02931223 0.03229546 0.03557119\n",
      " 0.03916572 0.04310725 0.04742587 0.05215356 0.05732418 0.06297336\n",
      " 0.06913842 0.07585818 0.0831727  0.09112296 0.09975049 0.10909682\n",
      " 0.11920292 0.13010847 0.14185106 0.15446527 0.16798161 0.18242552\n",
      " 0.19781611 0.21416502 0.23147522 0.24973989 0.26894142 0.2890505\n",
      " 0.31002552 0.33181223 0.35434369 0.37754067 0.40131234 0.42555748\n",
      " 0.450166   0.47502081 0.5        0.52497919 0.549834   0.57444252\n",
      " 0.59868766 0.62245933 0.64565631 0.66818777 0.68997448 0.7109495\n",
      " 0.73105858 0.75026011 0.76852478 0.78583498 0.80218389 0.81757448\n",
      " 0.83201839 0.84553473 0.85814894 0.86989153 0.88079708 0.89090318\n",
      " 0.90024951 0.90887704 0.9168273  0.92414182 0.93086158 0.93702664\n",
      " 0.94267582 0.94784644 0.95257413 0.95689275 0.96083428 0.96442881\n",
      " 0.96770454 0.97068777 0.97340301 0.97587298 0.97811873 0.98015969\n",
      " 0.98201379 0.9836975  0.98522597 0.98661308 0.98787157 0.98901306\n",
      " 0.9900482  0.9909867  0.99183743 0.99260846]\n"
     ]
    }
   ],
   "source": [
    "x1 = np.arange(-5.0, 5.0, 0.1)\n",
    "y1 = sigmoid(x1)"
   ]
  },
  {
   "cell_type": "code",
   "execution_count": 13,
   "metadata": {},
   "outputs": [
    {
     "data": {
      "image/png": "[encoded data removed]",
      "text/plain": [
       "<Figure size 432x288 with 1 Axes>"
      ]
     },
     "metadata": {
      "needs_background": "light"
     },
     "output_type": "display_data"
    }
   ],
   "source": [
    "plt.plot(x1, y1)\n",
    "plt.title(\"시그모이드 곡선\")\n",
    "plt.ylim(-0.1, 1, 1)\n",
    "plt.xlabel(\"X\")\n",
    "plt.ylabel('Y')\n",
    "plt.grid(True)\n",
    "plt.show()"
   ]
  },
  {
   "cell_type": "code",
   "execution_count": 22,
   "metadata": {},
   "outputs": [],
   "source": [
    "# 하이퍼볼릭탄젠트 : 시그모이드 함수의 크기와 위치를 조절한 함수이다.\n",
    "# RNN\n",
    "\n",
    "def hypertan(x):\n",
    "    #res = 2*(1/(1+np.exp(-x))) * (2*x)-1 # 이 식을 함수화 한 것이 np.tanh()\n",
    "    res = np.tanh(x)\n",
    "    #print(res)\n",
    "    return res"
   ]
  },
  {
   "cell_type": "code",
   "execution_count": 23,
   "metadata": {},
   "outputs": [
    {
     "data": {
      "image/png": "[encoded data removed]",
      "text/plain": [
       "<Figure size 432x288 with 1 Axes>"
      ]
     },
     "metadata": {
      "needs_background": "light"
     },
     "output_type": "display_data"
    }
   ],
   "source": [
    "x1 = np.arange(-5.0, 5.0, 0.1)\n",
    "y1 = hypertan(x1)\n",
    "\n",
    "plt.plot(x1, y1)\n",
    "plt.title(\"하이퍼볼릭탄젠트 곡선\")\n",
    "#plt.ylim(-0.1, 1, 1)\n",
    "plt.xlabel(\"X\")\n",
    "plt.ylabel('Y')\n",
    "plt.grid(True)\n",
    "plt.show()"
   ]
  },
  {
   "cell_type": "markdown",
   "metadata": {},
   "source": [
    "### ReLU(Rectified Linear Unit)함수\n",
    "- 입력이 0을 넘으면 입력 그대로 반영, 그 입력이 0보다 작으면 0으로 수렴\n",
    "- 시그모이드를 사용하면 딥러닝에서는 잘 작동하지 않는다. 기울기 값이 소실될 수 있기 때문에 대안으로 ReLU를 사용한다.\n",
    "- 2진 분류일때 outputlayer 층에서는 시그모이드를 사용하는 경우도 종종 있다."
   ]
  },
  {
   "cell_type": "code",
   "execution_count": 24,
   "metadata": {},
   "outputs": [],
   "source": [
    "def relu(x):\n",
    "    return np.maximum(0,x)"
   ]
  },
  {
   "cell_type": "code",
   "execution_count": 25,
   "metadata": {},
   "outputs": [
    {
     "data": {
      "text/plain": [
       "[<matplotlib.lines.Line2D at 0x7fb1040d92e8>]"
      ]
     },
     "execution_count": 25,
     "metadata": {},
     "output_type": "execute_result"
    },
    {
     "data": {
      "image/png": "[encoded data removed]",
      "text/plain": [
       "<Figure size 432x288 with 1 Axes>"
      ]
     },
     "metadata": {
      "needs_background": "light"
     },
     "output_type": "display_data"
    }
   ],
   "source": [
    "x1 = np.arange(-5.0, 5.0, 0.1)\n",
    "plt.grid(True)\n",
    "y1 = relu(x1)\n",
    "plt.plot(x1, y1)"
   ]
  },
  {
   "cell_type": "code",
   "execution_count": 26,
   "metadata": {},
   "outputs": [],
   "source": []
  },
  {
   "cell_type": "code",
   "execution_count": null,
   "metadata": {},
   "outputs": [],
   "source": []
  }
 ],
 "metadata": {
  "kernelspec": {
   "display_name": "Python 3",
   "language": "python",
   "name": "python3"
  },
  "language_info": {
   "codemirror_mode": {
    "name": "ipython",
    "version": 3
   },
   "file_extension": ".py",
   "mimetype": "text/x-python",
   "name": "python",
   "nbconvert_exporter": "python",
   "pygments_lexer": "ipython3",
   "version": "3.7.3"
  }
 },
 "nbformat": 4,
 "nbformat_minor": 4
}
