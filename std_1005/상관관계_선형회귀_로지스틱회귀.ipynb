{
 "cells": [
  {
   "cell_type": "code",
   "execution_count": 18,
   "metadata": {},
   "outputs": [],
   "source": [
    "# 리눅스에서 한글 설정\n",
    "import matplotlib\n",
    "import matplotlib.font_manager\n",
    "\n",
    "#[f.name for f in matplotlib.font_manager.fontManager.ttflist if 'Nanum' in f.name]"
   ]
  },
  {
   "cell_type": "code",
   "execution_count": 20,
   "metadata": {},
   "outputs": [],
   "source": [
    "import matplotlib as mpl\n",
    "import matplotlib.pyplot as plt\n",
    "\n",
    "# 유니코드 깨짐현상 해결\n",
    "mpl.rcParams['axes.unicode_minus'] = False\n",
    "\n",
    "# 나눔고딕 폰트 적용\n",
    "plt.rcParams[\"font.family\"] = 'NanumGothic'"
   ]
  },
  {
   "cell_type": "code",
   "execution_count": 21,
   "metadata": {},
   "outputs": [],
   "source": [
    "import pandas as pd\n",
    "import numpy as np\n",
    "import warnings as wr\n",
    "wr.filterwarnings('ignore')"
   ]
  },
  {
   "cell_type": "markdown",
   "metadata": {},
   "source": [
    "UCI 저장소에서 제공하는 피마인디언 데이타\n",
    "\n",
    "1950년대까지 비만인이 없던 피마인디언 부족\n",
    "\n",
    "그러나 페스트푸드 문화와 더불어 지금은 전체 부족의 60%가 당뇨이고 80%가 비만이다\n",
    "\n",
    "샘플수(레코드) : 768\n",
    "\n",
    "속성 : 8\n",
    "\n",
    "- 정보1 (pregnant) : 과거 임신 횟수\n",
    "- 정보2 (plasma) : 포도당 부하 검사 2시간 후 공복 혈당 농도 (mm Hg) \n",
    "- 정보3 (pressure) : 혈압(mm Hg) \n",
    "- 정보4 (thickness) :삼두근 피부 주름 두께(mm) \n",
    "- 정보5 (insulin) : 혈청 인슐린 (2hour, mu U/ml) \n",
    "- 정보6 (BMI) : 체질량지수 weight(kg)/(height(m)*height(m)) \n",
    "- 정보7 (pedigree) : 당뇨병 가족력 \n",
    "- 정보8 (age) : 나이\n",
    "\n",
    "클래스 : 당뇨(diabetes) (1:당뇨 / 0:당뇨아님)"
   ]
  },
  {
   "cell_type": "code",
   "execution_count": 23,
   "metadata": {},
   "outputs": [
    {
     "data": {
      "text/html": [
       "<div>\n",
       "<style scoped>\n",
       "    .dataframe tbody tr th:only-of-type {\n",
       "        vertical-align: middle;\n",
       "    }\n",
       "\n",
       "    .dataframe tbody tr th {\n",
       "        vertical-align: top;\n",
       "    }\n",
       "\n",
       "    .dataframe thead th {\n",
       "        text-align: right;\n",
       "    }\n",
       "</style>\n",
       "<table border=\"1\" class=\"dataframe\">\n",
       "  <thead>\n",
       "    <tr style=\"text-align: right;\">\n",
       "      <th></th>\n",
       "      <th>pregnant</th>\n",
       "      <th>plasma</th>\n",
       "      <th>pressure</th>\n",
       "      <th>thickness</th>\n",
       "      <th>insulin</th>\n",
       "      <th>BMI</th>\n",
       "      <th>pedigree</th>\n",
       "      <th>age</th>\n",
       "      <th>diabetes</th>\n",
       "    </tr>\n",
       "  </thead>\n",
       "  <tbody>\n",
       "    <tr>\n",
       "      <th>0</th>\n",
       "      <td>6</td>\n",
       "      <td>148</td>\n",
       "      <td>72</td>\n",
       "      <td>35</td>\n",
       "      <td>0</td>\n",
       "      <td>33.6</td>\n",
       "      <td>0.627</td>\n",
       "      <td>50</td>\n",
       "      <td>1</td>\n",
       "    </tr>\n",
       "    <tr>\n",
       "      <th>1</th>\n",
       "      <td>1</td>\n",
       "      <td>85</td>\n",
       "      <td>66</td>\n",
       "      <td>29</td>\n",
       "      <td>0</td>\n",
       "      <td>26.6</td>\n",
       "      <td>0.351</td>\n",
       "      <td>31</td>\n",
       "      <td>0</td>\n",
       "    </tr>\n",
       "    <tr>\n",
       "      <th>2</th>\n",
       "      <td>8</td>\n",
       "      <td>183</td>\n",
       "      <td>64</td>\n",
       "      <td>0</td>\n",
       "      <td>0</td>\n",
       "      <td>23.3</td>\n",
       "      <td>0.672</td>\n",
       "      <td>32</td>\n",
       "      <td>1</td>\n",
       "    </tr>\n",
       "    <tr>\n",
       "      <th>3</th>\n",
       "      <td>1</td>\n",
       "      <td>89</td>\n",
       "      <td>66</td>\n",
       "      <td>23</td>\n",
       "      <td>94</td>\n",
       "      <td>28.1</td>\n",
       "      <td>0.167</td>\n",
       "      <td>21</td>\n",
       "      <td>0</td>\n",
       "    </tr>\n",
       "    <tr>\n",
       "      <th>4</th>\n",
       "      <td>0</td>\n",
       "      <td>137</td>\n",
       "      <td>40</td>\n",
       "      <td>35</td>\n",
       "      <td>168</td>\n",
       "      <td>43.1</td>\n",
       "      <td>2.288</td>\n",
       "      <td>33</td>\n",
       "      <td>1</td>\n",
       "    </tr>\n",
       "  </tbody>\n",
       "</table>\n",
       "</div>"
      ],
      "text/plain": [
       "   pregnant  plasma  pressure  thickness  insulin   BMI  pedigree  age  \\\n",
       "0         6     148        72         35        0  33.6     0.627   50   \n",
       "1         1      85        66         29        0  26.6     0.351   31   \n",
       "2         8     183        64          0        0  23.3     0.672   32   \n",
       "3         1      89        66         23       94  28.1     0.167   21   \n",
       "4         0     137        40         35      168  43.1     2.288   33   \n",
       "\n",
       "   diabetes  \n",
       "0         1  \n",
       "1         0  \n",
       "2         1  \n",
       "3         0  \n",
       "4         1  "
      ]
     },
     "execution_count": 23,
     "metadata": {},
     "output_type": "execute_result"
    }
   ],
   "source": [
    "df = pd.read_csv('./dataset/pima-indians-diabetes.csv', names=['pregnant', 'plasma', 'pressure', 'thickness', 'insulin', 'BMI', 'pedigree', 'age', 'diabetes'])\n",
    "\n",
    "df.head()"
   ]
  },
  {
   "cell_type": "code",
   "execution_count": 25,
   "metadata": {},
   "outputs": [
    {
     "data": {
      "text/plain": [
       "pregnant     0\n",
       "plasma       0\n",
       "pressure     0\n",
       "thickness    0\n",
       "insulin      0\n",
       "BMI          0\n",
       "pedigree     0\n",
       "age          0\n",
       "diabetes     0\n",
       "dtype: int64"
      ]
     },
     "execution_count": 25,
     "metadata": {},
     "output_type": "execute_result"
    }
   ],
   "source": [
    "df.isnull().sum()\n",
    "# null 값이 없는 깨끗한 데이터"
   ]
  },
  {
   "cell_type": "code",
   "execution_count": 26,
   "metadata": {},
   "outputs": [
    {
     "data": {
      "text/html": [
       "<div>\n",
       "<style scoped>\n",
       "    .dataframe tbody tr th:only-of-type {\n",
       "        vertical-align: middle;\n",
       "    }\n",
       "\n",
       "    .dataframe tbody tr th {\n",
       "        vertical-align: top;\n",
       "    }\n",
       "\n",
       "    .dataframe thead th {\n",
       "        text-align: right;\n",
       "    }\n",
       "</style>\n",
       "<table border=\"1\" class=\"dataframe\">\n",
       "  <thead>\n",
       "    <tr style=\"text-align: right;\">\n",
       "      <th></th>\n",
       "      <th>pregnant</th>\n",
       "      <th>plasma</th>\n",
       "      <th>pressure</th>\n",
       "      <th>thickness</th>\n",
       "      <th>insulin</th>\n",
       "      <th>BMI</th>\n",
       "      <th>pedigree</th>\n",
       "      <th>age</th>\n",
       "      <th>diabetes</th>\n",
       "    </tr>\n",
       "  </thead>\n",
       "  <tbody>\n",
       "    <tr>\n",
       "      <th>count</th>\n",
       "      <td>768.000000</td>\n",
       "      <td>768.000000</td>\n",
       "      <td>768.000000</td>\n",
       "      <td>768.000000</td>\n",
       "      <td>768.000000</td>\n",
       "      <td>768.000000</td>\n",
       "      <td>768.000000</td>\n",
       "      <td>768.000000</td>\n",
       "      <td>768.000000</td>\n",
       "    </tr>\n",
       "    <tr>\n",
       "      <th>mean</th>\n",
       "      <td>3.845052</td>\n",
       "      <td>120.894531</td>\n",
       "      <td>69.105469</td>\n",
       "      <td>20.536458</td>\n",
       "      <td>79.799479</td>\n",
       "      <td>31.992578</td>\n",
       "      <td>0.471876</td>\n",
       "      <td>33.240885</td>\n",
       "      <td>0.348958</td>\n",
       "    </tr>\n",
       "    <tr>\n",
       "      <th>std</th>\n",
       "      <td>3.369578</td>\n",
       "      <td>31.972618</td>\n",
       "      <td>19.355807</td>\n",
       "      <td>15.952218</td>\n",
       "      <td>115.244002</td>\n",
       "      <td>7.884160</td>\n",
       "      <td>0.331329</td>\n",
       "      <td>11.760232</td>\n",
       "      <td>0.476951</td>\n",
       "    </tr>\n",
       "    <tr>\n",
       "      <th>min</th>\n",
       "      <td>0.000000</td>\n",
       "      <td>0.000000</td>\n",
       "      <td>0.000000</td>\n",
       "      <td>0.000000</td>\n",
       "      <td>0.000000</td>\n",
       "      <td>0.000000</td>\n",
       "      <td>0.078000</td>\n",
       "      <td>21.000000</td>\n",
       "      <td>0.000000</td>\n",
       "    </tr>\n",
       "    <tr>\n",
       "      <th>25%</th>\n",
       "      <td>1.000000</td>\n",
       "      <td>99.000000</td>\n",
       "      <td>62.000000</td>\n",
       "      <td>0.000000</td>\n",
       "      <td>0.000000</td>\n",
       "      <td>27.300000</td>\n",
       "      <td>0.243750</td>\n",
       "      <td>24.000000</td>\n",
       "      <td>0.000000</td>\n",
       "    </tr>\n",
       "    <tr>\n",
       "      <th>50%</th>\n",
       "      <td>3.000000</td>\n",
       "      <td>117.000000</td>\n",
       "      <td>72.000000</td>\n",
       "      <td>23.000000</td>\n",
       "      <td>30.500000</td>\n",
       "      <td>32.000000</td>\n",
       "      <td>0.372500</td>\n",
       "      <td>29.000000</td>\n",
       "      <td>0.000000</td>\n",
       "    </tr>\n",
       "    <tr>\n",
       "      <th>75%</th>\n",
       "      <td>6.000000</td>\n",
       "      <td>140.250000</td>\n",
       "      <td>80.000000</td>\n",
       "      <td>32.000000</td>\n",
       "      <td>127.250000</td>\n",
       "      <td>36.600000</td>\n",
       "      <td>0.626250</td>\n",
       "      <td>41.000000</td>\n",
       "      <td>1.000000</td>\n",
       "    </tr>\n",
       "    <tr>\n",
       "      <th>max</th>\n",
       "      <td>17.000000</td>\n",
       "      <td>199.000000</td>\n",
       "      <td>122.000000</td>\n",
       "      <td>99.000000</td>\n",
       "      <td>846.000000</td>\n",
       "      <td>67.100000</td>\n",
       "      <td>2.420000</td>\n",
       "      <td>81.000000</td>\n",
       "      <td>1.000000</td>\n",
       "    </tr>\n",
       "  </tbody>\n",
       "</table>\n",
       "</div>"
      ],
      "text/plain": [
       "         pregnant      plasma    pressure   thickness     insulin         BMI  \\\n",
       "count  768.000000  768.000000  768.000000  768.000000  768.000000  768.000000   \n",
       "mean     3.845052  120.894531   69.105469   20.536458   79.799479   31.992578   \n",
       "std      3.369578   31.972618   19.355807   15.952218  115.244002    7.884160   \n",
       "min      0.000000    0.000000    0.000000    0.000000    0.000000    0.000000   \n",
       "25%      1.000000   99.000000   62.000000    0.000000    0.000000   27.300000   \n",
       "50%      3.000000  117.000000   72.000000   23.000000   30.500000   32.000000   \n",
       "75%      6.000000  140.250000   80.000000   32.000000  127.250000   36.600000   \n",
       "max     17.000000  199.000000  122.000000   99.000000  846.000000   67.100000   \n",
       "\n",
       "         pedigree         age    diabetes  \n",
       "count  768.000000  768.000000  768.000000  \n",
       "mean     0.471876   33.240885    0.348958  \n",
       "std      0.331329   11.760232    0.476951  \n",
       "min      0.078000   21.000000    0.000000  \n",
       "25%      0.243750   24.000000    0.000000  \n",
       "50%      0.372500   29.000000    0.000000  \n",
       "75%      0.626250   41.000000    1.000000  \n",
       "max      2.420000   81.000000    1.000000  "
      ]
     },
     "execution_count": 26,
     "metadata": {},
     "output_type": "execute_result"
    }
   ],
   "source": [
    "df.describe()"
   ]
  },
  {
   "cell_type": "markdown",
   "metadata": {},
   "source": [
    "### [연습]\n",
    "임신횟수(pregnant) 당 당뇨병 발생(diabetes) 확률을 구한다"
   ]
  },
  {
   "cell_type": "code",
   "execution_count": 34,
   "metadata": {},
   "outputs": [
    {
     "data": {
      "text/html": [
       "<div>\n",
       "<style scoped>\n",
       "    .dataframe tbody tr th:only-of-type {\n",
       "        vertical-align: middle;\n",
       "    }\n",
       "\n",
       "    .dataframe tbody tr th {\n",
       "        vertical-align: top;\n",
       "    }\n",
       "\n",
       "    .dataframe thead th {\n",
       "        text-align: right;\n",
       "    }\n",
       "</style>\n",
       "<table border=\"1\" class=\"dataframe\">\n",
       "  <thead>\n",
       "    <tr style=\"text-align: right;\">\n",
       "      <th></th>\n",
       "      <th>pregnant</th>\n",
       "      <th>diabetes</th>\n",
       "    </tr>\n",
       "  </thead>\n",
       "  <tbody>\n",
       "    <tr>\n",
       "      <th>0</th>\n",
       "      <td>6</td>\n",
       "      <td>1</td>\n",
       "    </tr>\n",
       "    <tr>\n",
       "      <th>1</th>\n",
       "      <td>1</td>\n",
       "      <td>0</td>\n",
       "    </tr>\n",
       "    <tr>\n",
       "      <th>2</th>\n",
       "      <td>8</td>\n",
       "      <td>1</td>\n",
       "    </tr>\n",
       "    <tr>\n",
       "      <th>3</th>\n",
       "      <td>1</td>\n",
       "      <td>0</td>\n",
       "    </tr>\n",
       "    <tr>\n",
       "      <th>4</th>\n",
       "      <td>0</td>\n",
       "      <td>1</td>\n",
       "    </tr>\n",
       "  </tbody>\n",
       "</table>\n",
       "</div>"
      ],
      "text/plain": [
       "   pregnant  diabetes\n",
       "0         6         1\n",
       "1         1         0\n",
       "2         8         1\n",
       "3         1         0\n",
       "4         0         1"
      ]
     },
     "execution_count": 34,
     "metadata": {},
     "output_type": "execute_result"
    }
   ],
   "source": [
    "temp = df[['pregnant', 'diabetes']]\n",
    "temp.head()"
   ]
  },
  {
   "cell_type": "markdown",
   "metadata": {},
   "source": [
    "임신횟수(pregnant) 당 당뇨병 발생(diabetes) 확률에 대한 평균을 구하고 싶다.\n",
    "\n",
    "지난 시간 학습했던 group by 절로 구현하기"
   ]
  },
  {
   "cell_type": "code",
   "execution_count": 36,
   "metadata": {},
   "outputs": [
    {
     "data": {
      "text/html": [
       "<div>\n",
       "<style scoped>\n",
       "    .dataframe tbody tr th:only-of-type {\n",
       "        vertical-align: middle;\n",
       "    }\n",
       "\n",
       "    .dataframe tbody tr th {\n",
       "        vertical-align: top;\n",
       "    }\n",
       "\n",
       "    .dataframe thead th {\n",
       "        text-align: right;\n",
       "    }\n",
       "</style>\n",
       "<table border=\"1\" class=\"dataframe\">\n",
       "  <thead>\n",
       "    <tr style=\"text-align: right;\">\n",
       "      <th></th>\n",
       "      <th>pregnant</th>\n",
       "      <th>diabetes</th>\n",
       "    </tr>\n",
       "  </thead>\n",
       "  <tbody>\n",
       "    <tr>\n",
       "      <th>0</th>\n",
       "      <td>0</td>\n",
       "      <td>0.342342</td>\n",
       "    </tr>\n",
       "    <tr>\n",
       "      <th>1</th>\n",
       "      <td>1</td>\n",
       "      <td>0.214815</td>\n",
       "    </tr>\n",
       "    <tr>\n",
       "      <th>2</th>\n",
       "      <td>2</td>\n",
       "      <td>0.184466</td>\n",
       "    </tr>\n",
       "    <tr>\n",
       "      <th>3</th>\n",
       "      <td>3</td>\n",
       "      <td>0.360000</td>\n",
       "    </tr>\n",
       "    <tr>\n",
       "      <th>4</th>\n",
       "      <td>4</td>\n",
       "      <td>0.338235</td>\n",
       "    </tr>\n",
       "    <tr>\n",
       "      <th>5</th>\n",
       "      <td>5</td>\n",
       "      <td>0.368421</td>\n",
       "    </tr>\n",
       "    <tr>\n",
       "      <th>6</th>\n",
       "      <td>6</td>\n",
       "      <td>0.320000</td>\n",
       "    </tr>\n",
       "    <tr>\n",
       "      <th>7</th>\n",
       "      <td>7</td>\n",
       "      <td>0.555556</td>\n",
       "    </tr>\n",
       "    <tr>\n",
       "      <th>8</th>\n",
       "      <td>8</td>\n",
       "      <td>0.578947</td>\n",
       "    </tr>\n",
       "    <tr>\n",
       "      <th>9</th>\n",
       "      <td>9</td>\n",
       "      <td>0.642857</td>\n",
       "    </tr>\n",
       "    <tr>\n",
       "      <th>10</th>\n",
       "      <td>10</td>\n",
       "      <td>0.416667</td>\n",
       "    </tr>\n",
       "    <tr>\n",
       "      <th>11</th>\n",
       "      <td>11</td>\n",
       "      <td>0.636364</td>\n",
       "    </tr>\n",
       "    <tr>\n",
       "      <th>12</th>\n",
       "      <td>12</td>\n",
       "      <td>0.444444</td>\n",
       "    </tr>\n",
       "    <tr>\n",
       "      <th>13</th>\n",
       "      <td>13</td>\n",
       "      <td>0.500000</td>\n",
       "    </tr>\n",
       "    <tr>\n",
       "      <th>14</th>\n",
       "      <td>14</td>\n",
       "      <td>1.000000</td>\n",
       "    </tr>\n",
       "    <tr>\n",
       "      <th>15</th>\n",
       "      <td>15</td>\n",
       "      <td>1.000000</td>\n",
       "    </tr>\n",
       "    <tr>\n",
       "      <th>16</th>\n",
       "      <td>17</td>\n",
       "      <td>1.000000</td>\n",
       "    </tr>\n",
       "  </tbody>\n",
       "</table>\n",
       "</div>"
      ],
      "text/plain": [
       "    pregnant  diabetes\n",
       "0          0  0.342342\n",
       "1          1  0.214815\n",
       "2          2  0.184466\n",
       "3          3  0.360000\n",
       "4          4  0.338235\n",
       "5          5  0.368421\n",
       "6          6  0.320000\n",
       "7          7  0.555556\n",
       "8          8  0.578947\n",
       "9          9  0.642857\n",
       "10        10  0.416667\n",
       "11        11  0.636364\n",
       "12        12  0.444444\n",
       "13        13  0.500000\n",
       "14        14  1.000000\n",
       "15        15  1.000000\n",
       "16        17  1.000000"
      ]
     },
     "execution_count": 36,
     "metadata": {},
     "output_type": "execute_result"
    }
   ],
   "source": [
    "temp1 = temp.groupby(['pregnant']).mean()\n",
    "temp1\n",
    "\n",
    "temp2 = temp.groupby(by=['pregnant'], as_index=False).mean()\n",
    "# as_index = False 는 pregnant 정보 옆에 새로운 index 를 만들어 줌\n",
    "temp2"
   ]
  },
  {
   "cell_type": "code",
   "execution_count": 38,
   "metadata": {},
   "outputs": [
    {
     "data": {
      "text/plain": [
       "<matplotlib.axes._subplots.AxesSubplot at 0x7f1a7f2c0ef0>"
      ]
     },
     "execution_count": 38,
     "metadata": {},
     "output_type": "execute_result"
    },
    {
     "data": {
      "image/png": "[encoded data removed]",
      "text/plain": [
       "<Figure size 432x288 with 1 Axes>"
      ]
     },
     "metadata": {
      "needs_background": "light"
     },
     "output_type": "display_data"
    }
   ],
   "source": [
    "%matplotlib inline\n",
    "temp1.plot(grid=True)"
   ]
  },
  {
   "cell_type": "code",
   "execution_count": 43,
   "metadata": {},
   "outputs": [
    {
     "data": {
      "text/html": [
       "<div>\n",
       "<style scoped>\n",
       "    .dataframe tbody tr th:only-of-type {\n",
       "        vertical-align: middle;\n",
       "    }\n",
       "\n",
       "    .dataframe tbody tr th {\n",
       "        vertical-align: top;\n",
       "    }\n",
       "\n",
       "    .dataframe thead th {\n",
       "        text-align: right;\n",
       "    }\n",
       "</style>\n",
       "<table border=\"1\" class=\"dataframe\">\n",
       "  <thead>\n",
       "    <tr style=\"text-align: right;\">\n",
       "      <th></th>\n",
       "      <th>pregnant</th>\n",
       "      <th>plasma</th>\n",
       "      <th>pressure</th>\n",
       "      <th>thickness</th>\n",
       "      <th>insulin</th>\n",
       "      <th>BMI</th>\n",
       "      <th>pedigree</th>\n",
       "      <th>age</th>\n",
       "      <th>diabetes</th>\n",
       "    </tr>\n",
       "  </thead>\n",
       "  <tbody>\n",
       "    <tr>\n",
       "      <th>88</th>\n",
       "      <td>15</td>\n",
       "      <td>136</td>\n",
       "      <td>70</td>\n",
       "      <td>32</td>\n",
       "      <td>110</td>\n",
       "      <td>37.1</td>\n",
       "      <td>0.153</td>\n",
       "      <td>43</td>\n",
       "      <td>1</td>\n",
       "    </tr>\n",
       "    <tr>\n",
       "      <th>159</th>\n",
       "      <td>17</td>\n",
       "      <td>163</td>\n",
       "      <td>72</td>\n",
       "      <td>41</td>\n",
       "      <td>114</td>\n",
       "      <td>40.9</td>\n",
       "      <td>0.817</td>\n",
       "      <td>47</td>\n",
       "      <td>1</td>\n",
       "    </tr>\n",
       "    <tr>\n",
       "      <th>298</th>\n",
       "      <td>14</td>\n",
       "      <td>100</td>\n",
       "      <td>78</td>\n",
       "      <td>25</td>\n",
       "      <td>184</td>\n",
       "      <td>36.6</td>\n",
       "      <td>0.412</td>\n",
       "      <td>46</td>\n",
       "      <td>1</td>\n",
       "    </tr>\n",
       "    <tr>\n",
       "      <th>455</th>\n",
       "      <td>14</td>\n",
       "      <td>175</td>\n",
       "      <td>62</td>\n",
       "      <td>30</td>\n",
       "      <td>0</td>\n",
       "      <td>33.6</td>\n",
       "      <td>0.212</td>\n",
       "      <td>38</td>\n",
       "      <td>1</td>\n",
       "    </tr>\n",
       "  </tbody>\n",
       "</table>\n",
       "</div>"
      ],
      "text/plain": [
       "     pregnant  plasma  pressure  thickness  insulin   BMI  pedigree  age  \\\n",
       "88         15     136        70         32      110  37.1     0.153   43   \n",
       "159        17     163        72         41      114  40.9     0.817   47   \n",
       "298        14     100        78         25      184  36.6     0.412   46   \n",
       "455        14     175        62         30        0  33.6     0.212   38   \n",
       "\n",
       "     diabetes  \n",
       "88          1  \n",
       "159         1  \n",
       "298         1  \n",
       "455         1  "
      ]
     },
     "execution_count": 43,
     "metadata": {},
     "output_type": "execute_result"
    }
   ],
   "source": [
    "# 임신횟수가 14번 이상인 경우 확인\n",
    "df[df['pregnant'] >= 14]"
   ]
  },
  {
   "cell_type": "code",
   "execution_count": 45,
   "metadata": {},
   "outputs": [],
   "source": [
    "import matplotlib.pyplot as plt\n",
    "\n",
    "# matplotlib 기반으로 좀 더 정교한 그래프를 그릴때 seaborn 라이브러리를 사용\n",
    "import seaborn as sns"
   ]
  },
  {
   "cell_type": "code",
   "execution_count": 49,
   "metadata": {},
   "outputs": [],
   "source": [
    "# 데이터간의 상관관계를 그래프로 표현\n",
    "# 1 ~ -1 가까울 수록 양의 상관관계, 음의 상관관계, 0 -> 상관관계가 없음\n",
    "# 1) 색상 구성 결정\n",
    "colmap = plt.cm.gist_heat # 색상 구성 결정"
   ]
  },
  {
   "cell_type": "code",
   "execution_count": 50,
   "metadata": {},
   "outputs": [
    {
     "data": {
      "text/plain": [
       "<Figure size 1008x1008 with 0 Axes>"
      ]
     },
     "execution_count": 50,
     "metadata": {},
     "output_type": "execute_result"
    },
    {
     "data": {
      "text/plain": [
       "<Figure size 1008x1008 with 0 Axes>"
      ]
     },
     "metadata": {},
     "output_type": "display_data"
    }
   ],
   "source": [
    "plt.figure(figsize=(14, 14)) # 크기 설정"
   ]
  },
  {
   "cell_type": "code",
   "execution_count": 51,
   "metadata": {},
   "outputs": [
    {
     "data": {
      "text/html": [
       "<div>\n",
       "<style scoped>\n",
       "    .dataframe tbody tr th:only-of-type {\n",
       "        vertical-align: middle;\n",
       "    }\n",
       "\n",
       "    .dataframe tbody tr th {\n",
       "        vertical-align: top;\n",
       "    }\n",
       "\n",
       "    .dataframe thead th {\n",
       "        text-align: right;\n",
       "    }\n",
       "</style>\n",
       "<table border=\"1\" class=\"dataframe\">\n",
       "  <thead>\n",
       "    <tr style=\"text-align: right;\">\n",
       "      <th></th>\n",
       "      <th>pregnant</th>\n",
       "      <th>plasma</th>\n",
       "      <th>pressure</th>\n",
       "      <th>thickness</th>\n",
       "      <th>insulin</th>\n",
       "      <th>BMI</th>\n",
       "      <th>pedigree</th>\n",
       "      <th>age</th>\n",
       "      <th>diabetes</th>\n",
       "    </tr>\n",
       "  </thead>\n",
       "  <tbody>\n",
       "    <tr>\n",
       "      <th>pregnant</th>\n",
       "      <td>1.000000</td>\n",
       "      <td>0.129459</td>\n",
       "      <td>0.141282</td>\n",
       "      <td>-0.081672</td>\n",
       "      <td>-0.073535</td>\n",
       "      <td>0.017683</td>\n",
       "      <td>-0.033523</td>\n",
       "      <td>0.544341</td>\n",
       "      <td>0.221898</td>\n",
       "    </tr>\n",
       "    <tr>\n",
       "      <th>plasma</th>\n",
       "      <td>0.129459</td>\n",
       "      <td>1.000000</td>\n",
       "      <td>0.152590</td>\n",
       "      <td>0.057328</td>\n",
       "      <td>0.331357</td>\n",
       "      <td>0.221071</td>\n",
       "      <td>0.137337</td>\n",
       "      <td>0.263514</td>\n",
       "      <td>0.466581</td>\n",
       "    </tr>\n",
       "    <tr>\n",
       "      <th>pressure</th>\n",
       "      <td>0.141282</td>\n",
       "      <td>0.152590</td>\n",
       "      <td>1.000000</td>\n",
       "      <td>0.207371</td>\n",
       "      <td>0.088933</td>\n",
       "      <td>0.281805</td>\n",
       "      <td>0.041265</td>\n",
       "      <td>0.239528</td>\n",
       "      <td>0.065068</td>\n",
       "    </tr>\n",
       "    <tr>\n",
       "      <th>thickness</th>\n",
       "      <td>-0.081672</td>\n",
       "      <td>0.057328</td>\n",
       "      <td>0.207371</td>\n",
       "      <td>1.000000</td>\n",
       "      <td>0.436783</td>\n",
       "      <td>0.392573</td>\n",
       "      <td>0.183928</td>\n",
       "      <td>-0.113970</td>\n",
       "      <td>0.074752</td>\n",
       "    </tr>\n",
       "    <tr>\n",
       "      <th>insulin</th>\n",
       "      <td>-0.073535</td>\n",
       "      <td>0.331357</td>\n",
       "      <td>0.088933</td>\n",
       "      <td>0.436783</td>\n",
       "      <td>1.000000</td>\n",
       "      <td>0.197859</td>\n",
       "      <td>0.185071</td>\n",
       "      <td>-0.042163</td>\n",
       "      <td>0.130548</td>\n",
       "    </tr>\n",
       "    <tr>\n",
       "      <th>BMI</th>\n",
       "      <td>0.017683</td>\n",
       "      <td>0.221071</td>\n",
       "      <td>0.281805</td>\n",
       "      <td>0.392573</td>\n",
       "      <td>0.197859</td>\n",
       "      <td>1.000000</td>\n",
       "      <td>0.140647</td>\n",
       "      <td>0.036242</td>\n",
       "      <td>0.292695</td>\n",
       "    </tr>\n",
       "    <tr>\n",
       "      <th>pedigree</th>\n",
       "      <td>-0.033523</td>\n",
       "      <td>0.137337</td>\n",
       "      <td>0.041265</td>\n",
       "      <td>0.183928</td>\n",
       "      <td>0.185071</td>\n",
       "      <td>0.140647</td>\n",
       "      <td>1.000000</td>\n",
       "      <td>0.033561</td>\n",
       "      <td>0.173844</td>\n",
       "    </tr>\n",
       "    <tr>\n",
       "      <th>age</th>\n",
       "      <td>0.544341</td>\n",
       "      <td>0.263514</td>\n",
       "      <td>0.239528</td>\n",
       "      <td>-0.113970</td>\n",
       "      <td>-0.042163</td>\n",
       "      <td>0.036242</td>\n",
       "      <td>0.033561</td>\n",
       "      <td>1.000000</td>\n",
       "      <td>0.238356</td>\n",
       "    </tr>\n",
       "    <tr>\n",
       "      <th>diabetes</th>\n",
       "      <td>0.221898</td>\n",
       "      <td>0.466581</td>\n",
       "      <td>0.065068</td>\n",
       "      <td>0.074752</td>\n",
       "      <td>0.130548</td>\n",
       "      <td>0.292695</td>\n",
       "      <td>0.173844</td>\n",
       "      <td>0.238356</td>\n",
       "      <td>1.000000</td>\n",
       "    </tr>\n",
       "  </tbody>\n",
       "</table>\n",
       "</div>"
      ],
      "text/plain": [
       "           pregnant    plasma  pressure  thickness   insulin       BMI  \\\n",
       "pregnant   1.000000  0.129459  0.141282  -0.081672 -0.073535  0.017683   \n",
       "plasma     0.129459  1.000000  0.152590   0.057328  0.331357  0.221071   \n",
       "pressure   0.141282  0.152590  1.000000   0.207371  0.088933  0.281805   \n",
       "thickness -0.081672  0.057328  0.207371   1.000000  0.436783  0.392573   \n",
       "insulin   -0.073535  0.331357  0.088933   0.436783  1.000000  0.197859   \n",
       "BMI        0.017683  0.221071  0.281805   0.392573  0.197859  1.000000   \n",
       "pedigree  -0.033523  0.137337  0.041265   0.183928  0.185071  0.140647   \n",
       "age        0.544341  0.263514  0.239528  -0.113970 -0.042163  0.036242   \n",
       "diabetes   0.221898  0.466581  0.065068   0.074752  0.130548  0.292695   \n",
       "\n",
       "           pedigree       age  diabetes  \n",
       "pregnant  -0.033523  0.544341  0.221898  \n",
       "plasma     0.137337  0.263514  0.466581  \n",
       "pressure   0.041265  0.239528  0.065068  \n",
       "thickness  0.183928 -0.113970  0.074752  \n",
       "insulin    0.185071 -0.042163  0.130548  \n",
       "BMI        0.140647  0.036242  0.292695  \n",
       "pedigree   1.000000  0.033561  0.173844  \n",
       "age        0.033561  1.000000  0.238356  \n",
       "diabetes   0.173844  0.238356  1.000000  "
      ]
     },
     "execution_count": 51,
     "metadata": {},
     "output_type": "execute_result"
    }
   ],
   "source": [
    "df.corr() #상관계수를 출력"
   ]
  },
  {
   "cell_type": "code",
   "execution_count": 52,
   "metadata": {},
   "outputs": [
    {
     "data": {
      "image/png": "[encoded data removed]",
      "text/plain": [
       "<Figure size 432x288 with 2 Axes>"
      ]
     },
     "metadata": {
      "needs_background": "light"
     },
     "output_type": "display_data"
    }
   ],
   "source": [
    "# 2) 그래프 속성 결정\n",
    "# vmax 의 값을 0.5 로 지정해서 0.5 에 가까울 수록 밝은 색으로 표시한다\n",
    "sns.heatmap(df.corr(), linewidths=0.1, vmax=0.5, cmap=colmap, linecolor='white', annot=True)\n",
    "plt.show()"
   ]
  },
  {
   "cell_type": "markdown",
   "metadata": {},
   "source": [
    "그림에서 diabetes 항목을 보면 pregnant 부터 age 까지 상관도가 숫자로 표시되어 있고 숫자가 높을수록 밝은 색상임을 알 수 있다.\n",
    "\n",
    "그래프를 통해서 plasma 항목(공복 혈당 농도)가 diabetes 항목과 가장 상관관계가 높다는 것을 알 수 있다.\n",
    "\n",
    "따라서, plasma가 결론을 만드는 가장 중요한 역할을 한다는 것을 예측할 수 있음."
   ]
  },
  {
   "cell_type": "code",
   "execution_count": 53,
   "metadata": {},
   "outputs": [],
   "source": [
    "# plasma 와 class 두 항목 간의 관계를 그래프로 확인"
   ]
  },
  {
   "cell_type": "code",
   "execution_count": 54,
   "metadata": {},
   "outputs": [
    {
     "data": {
      "image/png": "[encoded data removed]",
      "text/plain": [
       "<Figure size 432x216 with 2 Axes>"
      ]
     },
     "metadata": {
      "needs_background": "light"
     },
     "output_type": "display_data"
    }
   ],
   "source": [
    "grid = sns.FacetGrid(df, col='diabetes')\n",
    "grid.map(plt.hist, 'plasma', bins=10)\n",
    "plt.show()"
   ]
  },
  {
   "cell_type": "raw",
   "metadata": {},
   "source": [
    "# pandas 를 사용한 상관관계 분석 끝"
   ]
  },
  {
   "cell_type": "markdown",
   "metadata": {},
   "source": [
    "# 회귀분석\n",
    "## 가. 회귀분석(Regression) 이란?\n",
    "\n",
    "1) 독립변수(X)와 종속변수(Y)의 관계식을 구하는 기법\n",
    "- 독립변수가 한 단위 증가할 때 종속변수가 얼마나 영향을 받는지 분석하는 방법\n",
    "\n",
    "2) 추정 : 회귀식, 회귀계수\n",
    "\n",
    "3) 검정 : 독립변수의 영향력, 모형의 적합성(R2) 등\n",
    "\n",
    "예)\n",
    "\n",
    "학력이 높으면 소득 수준이 높다.\n",
    "공부하는 시간이 많으면 성적이 올라간다.\n",
    "\n",
    "또한\n",
    "\n",
    "* 소득수준이 같은 근로자 가구라도 소비지출액은 각각 다르게 나타난다.\n",
    "* 동일한 등고선에 위치한 두 지역의 기온은 같은 온도로 나타나지 않는다.\n",
    "* 동일한 아이큐를 지닌 학생들이라고해서 성적이 같게 나타나지 않는다.\n",
    "* 이와 같이 사회과학 현상이나 자연과학 현상은 변수 사이에 존재하는 관련성에 오차가 있어 대부분 통계적 관계로 나타난다.\n",
    "* 그러므로 변수 사이에 존재하는 관계식을 밝힐 때에는 통계적 분석이 이루어져야 한다.\n",
    "* 만약 두 변수 X, Y 사이에 통계적 관계가 존재한다면, <U>두 변수는 확률적으로 관련성이 있다는 뜻이다. 독립변수 X 값을 알면 종속변수 Y 값을 정확하게 알 수 있다는 뜻이 아니다.</U>\n",
    "\n",
    "* 종속변수와 독립변수가 어떠한 관계로 나타나는지 관련성 정도와 영향을 미치는 크기에 대하여 추정하고 가설 검정하는 내용을 다루는 것이 회귀분석이다."
   ]
  },
  {
   "cell_type": "markdown",
   "metadata": {},
   "source": [
    "# 선형회귀분석\n",
    "\n",
    "## 회귀분석 \n",
    "\n",
    "- 회귀 분석(Regression analysis)이란 통계적으로 데이터를 분석하는 방법 중 하나\n",
    "- 입력에 대해서 연속적인 값을 대응시키는 문제 \n",
    "- 회귀 분석이란 한 개 이상의 변수를 다룰 때 특정 변수가 다른 변수와 어떤 관계를 맺는지 분석하고, 이를 바탕으로 모델을 정의해 값을 예측하는 기법이다.\n",
    "- 단순 선형회귀분석 : stats.linregress(x,y)\n",
    "- 상관 분석(Correleation Analysis)\n",
    "> 상관관계의 값을 파악할 수 있는 정도의 값을 상관계수\n",
    "> (범위 -1 ~ 1 사이)\n",
    "\n",
    "예) \n",
    "\n",
    "발이 큰 사람이 실제로 키가 크다면 두 변수 사이에는 강한 양의 상관관계를 가진다. 상관계수는 1에 가까울 것이다.\n",
    "\n",
    "- 두 변수 사이에 상관관계가 없을 것이다.  ==>  0에 가깝다.  ==>  -1 음의 상관 관계를 말한다."
   ]
  },
  {
   "cell_type": "code",
   "execution_count": 57,
   "metadata": {},
   "outputs": [],
   "source": [
    "####################################################################\n",
    "# 1. 회귀분석 : 1. 전기생산량과 소비량\n",
    "# 독립변수(전기 생산량), 종속변수(전기소비량)\n",
    "# 독립변수가 1개 이므로 단순회귀분석(선형회귀분석)을 사용한다.\n",
    "# 귀무가설 : 전기 생산량과 전기소비량 사이에 상관관계가 없다.\n",
    "# 대립가설 : 전기 생산량과 전기소비량 사이에 상관관계가 있다.\n",
    "####################################################################"
   ]
  },
  {
   "cell_type": "code",
   "execution_count": 56,
   "metadata": {},
   "outputs": [],
   "source": [
    "from scipy import stats"
   ]
  },
  {
   "cell_type": "code",
   "execution_count": 58,
   "metadata": {},
   "outputs": [],
   "source": [
    "####################################################################\n",
    "# 월별 전기생산 금액(억원)을 변수 x,\n",
    "x = [3.52, 2.58, 3.31, 4.07, 4.62, 3.98, 4.29, 4.83, 3.71, 4.61, 3.90, 3.20]\n",
    "# 이 때 전기 사용량(백만 Kw) 을 y로 한다\n",
    "y = [2.48, 2.27, 2.47, 2.77, 2.98, 3.05, 3.18, 3.46, 3.03, 3.25, 2.67, 2.53]\n",
    "####################################################################"
   ]
  },
  {
   "cell_type": "code",
   "execution_count": 60,
   "metadata": {},
   "outputs": [],
   "source": [
    "# 독립변수 1, 종속변수가 1인데 연속형을 에측하려고 할 때, 단순 선형회귀 분석을 사용한다.\n",
    "# stats.lingress(x,y) 선형회귀분석을 호출하는 함수이다.\n",
    "# slope : 기울기, intercept : 절편, rvalue : 상관게수, pvalue : 예측기준(0.05), stderr : 에러 표준편차\n",
    "\n",
    "slope, intercept, r_value, p_value, stderr = stats.linregress(x,y)"
   ]
  },
  {
   "cell_type": "raw",
   "metadata": {},
   "source": [
    "두 변수 간에 어떤 선형적 관계가 있는지 분석 : 상관 분석(산점도) 분산정도확인\n",
    "\n",
    "상관 관계의 정도를 파악하는 값을 기준으로 양의 상관관계인지 음의 상관관계인지 분석\n",
    "\n",
    ": 상관 계수 : -1 ~ 0 1\n",
    "\n",
    "두 변수 사이에 상관관계가 존재한다면 통계적으로 모델을 작성 가능\n",
    "\n",
    "Yi = B0 + B1 * Xi + Ei\n",
    "\n",
    "시각화\n",
    "\n",
    "예측값 실행하기"
   ]
  },
  {
   "cell_type": "code",
   "execution_count": 61,
   "metadata": {},
   "outputs": [
    {
     "name": "stdout",
     "output_type": "stream",
     "text": [
      "r_value (상관계수):  0.8929235125385309\n"
     ]
    }
   ],
   "source": [
    "print('r_value (상관계수): ', r_value) # -1 ~ 1 사이\n",
    "# 0.89 ==> 두 변수 간에 양의 상관 관계가 있다. ==> 통계학적으로 유의미하다 ==> 전기 생산량이 늘어나면 전기 소비량도 늘어난다."
   ]
  },
  {
   "cell_type": "code",
   "execution_count": 63,
   "metadata": {},
   "outputs": [
    {
     "name": "stdout",
     "output_type": "stream",
     "text": [
      "------------------------------------------------------\n",
      "p_value:  9.238421943157766e-05\n",
      "유의미하다\n",
      "------------------------------------------------------\n"
     ]
    }
   ],
   "source": [
    "print(\"------------------------------------------------------\")\n",
    "print(\"p_value: \", p_value) # 0.05보다 적으면 유의미하다고 판정\n",
    "# 귀무가설 기각, 대립가설이 채택됨\n",
    "if p_value < 0.05:\n",
    "    print(\"유의미하다\")\n",
    "else:\n",
    "    print(\"유의미하지 않다\")\n",
    "print(\"------------------------------------------------------\")    \n",
    "\n",
    "# 9.238421943157766e-05 ==> e-05 10분의 5승분에 1, 아주 작은 수"
   ]
  },
  {
   "cell_type": "code",
   "execution_count": 64,
   "metadata": {},
   "outputs": [],
   "source": [
    "# 결론 : 전기생산량과 전기소비량 간에 상관관계가 있다.\n",
    "# 상관분석 : 두 변수간의 어떤 선형적인 관계가 있는지 분석"
   ]
  },
  {
   "cell_type": "code",
   "execution_count": 75,
   "metadata": {},
   "outputs": [
    {
     "data": {
      "text/plain": [
       "<matplotlib.collections.PathCollection at 0x7f1a789b7208>"
      ]
     },
     "execution_count": 75,
     "metadata": {},
     "output_type": "execute_result"
    },
    {
     "data": {
      "image/png": "[encoded data removed]",
      "text/plain": [
       "<Figure size 432x288 with 1 Axes>"
      ]
     },
     "metadata": {
      "needs_background": "light"
     },
     "output_type": "display_data"
    }
   ],
   "source": [
    "fig = plt.figure()\n",
    "ax = fig.add_subplot(1,1,1)\n",
    "ax.set_xlim([2.5, 5.0]) # X 축의 시작좌표, 마지막좌표\n",
    "ax.set_ylim([2.0, 3.7]) # Y 축의 시작좌표, 마지막좌표\n",
    "\n",
    "# 산점도 그리기\n",
    "plt.grid(True)\n",
    "plt.scatter(x, y)"
   ]
  },
  {
   "cell_type": "raw",
   "metadata": {},
   "source": [
    "그래프가 양의 상관관계가 있음을 보여주고 있다. (왼쪽 밑에서 오른쪽 위로 올라가는 모습)"
   ]
  },
  {
   "cell_type": "code",
   "execution_count": 76,
   "metadata": {},
   "outputs": [
    {
     "data": {
      "image/png": "[encoded data removed]",
      "text/plain": [
       "<Figure size 432x288 with 1 Axes>"
      ]
     },
     "metadata": {
      "needs_background": "light"
     },
     "output_type": "display_data"
    }
   ],
   "source": [
    "# 산점도 그리기\n",
    "plt.grid(True)\n",
    "plt.scatter(x, y)\n",
    "\n",
    "# 회귀선 그리기\n",
    "# 회귀선율 그리기 위해서는 numpy 배열로 변환 ****\n",
    "# 회귀선 : 가장 [손실이 적은 선] 을 그어서 그것을 분석하는 것을 의미한다.\n",
    "# 1차함수 : y = a(기울기)x + b(절편)\n",
    "x1 = np.array(x)\n",
    "#plot(x,y)\n",
    "plt.plot(x1, slope * x1 + intercept, c='red')\n",
    "plt.title('단순 선형회귀곡선 예제')\n",
    "plt.xlabel('전기생산량')\n",
    "plt.ylabel('전기사용량')\n",
    "plt.show()"
   ]
  },
  {
   "cell_type": "code",
   "execution_count": 77,
   "metadata": {},
   "outputs": [
    {
     "name": "stdout",
     "output_type": "stream",
     "text": [
      "월별 생산 금액에 따른 전기 사용량 3.3975976081603942\n"
     ]
    }
   ],
   "source": [
    "print('월별 생산 금액에 따른 전기 사용량', 5 * slope + intercept)"
   ]
  },
  {
   "cell_type": "code",
   "execution_count": 78,
   "metadata": {},
   "outputs": [
    {
     "name": "stdout",
     "output_type": "stream",
     "text": [
      "월별 생산 금액에 따른 전기 사용량 2.901994372142104\n"
     ]
    }
   ],
   "source": [
    "print('월별 생산 금액에 따른 전기 사용량', 4 * slope + intercept)"
   ]
  },
  {
   "cell_type": "markdown",
   "metadata": {},
   "source": [
    "### 연습문제1 \n",
    "\n",
    "기온과 아이스크림 판매량"
   ]
  },
  {
   "cell_type": "code",
   "execution_count": 79,
   "metadata": {},
   "outputs": [],
   "source": [
    "# 온도 X\n",
    "X = [24, 25, 26, 27, 28, 29, 30, 31, 35]\n",
    "\n",
    "# 아이스크림 판매량 Y\n",
    "Y = [22, 25, 28, 30, 33, 34, 36, 32, 38]\n",
    "\n",
    "# 단순 선형회귀분석\n",
    "# 상관계수\n",
    "# p_value 귀무가설, 대립가설\n",
    "# 산점도 및 회귀곡선을 그래프로 그리시오"
   ]
  },
  {
   "cell_type": "code",
   "execution_count": 84,
   "metadata": {},
   "outputs": [],
   "source": [
    "slope, intercept, r_value, p_value, stderr = stats.linregress(X,Y)"
   ]
  },
  {
   "cell_type": "code",
   "execution_count": 85,
   "metadata": {},
   "outputs": [
    {
     "name": "stdout",
     "output_type": "stream",
     "text": [
      "r_value (상관계수):  0.8984978897043424\n"
     ]
    }
   ],
   "source": [
    "print('r_value (상관계수): ', r_value) # -1 ~ 1 사이"
   ]
  },
  {
   "cell_type": "code",
   "execution_count": 86,
   "metadata": {},
   "outputs": [
    {
     "name": "stdout",
     "output_type": "stream",
     "text": [
      "------------------------------------------------------\n",
      "p_value:  0.000992076658523392\n",
      "유의미하다\n",
      "------------------------------------------------------\n"
     ]
    }
   ],
   "source": [
    "print(\"------------------------------------------------------\")\n",
    "print(\"p_value: \", p_value) # 0.05보다 적으면 유의미하다고 판정\n",
    "# 귀무가설 기각, 대립가설이 채택됨\n",
    "if p_value < 0.05:\n",
    "    print(\"유의미하다\")\n",
    "else:\n",
    "    print(\"유의미하지 않다\")\n",
    "print(\"------------------------------------------------------\")   "
   ]
  },
  {
   "cell_type": "code",
   "execution_count": 107,
   "metadata": {},
   "outputs": [
    {
     "name": "stdin",
     "output_type": "stream",
     "text": [
      "온도를 입력하세요 => 28.6\n"
     ]
    },
    {
     "name": "stdout",
     "output_type": "stream",
     "text": [
      "아이스크림 판매량 예측값 [31.25507246]\n"
     ]
    },
    {
     "data": {
      "image/png": "[encoded data removed]",
      "text/plain": [
       "<Figure size 432x288 with 1 Axes>"
      ]
     },
     "metadata": {
      "needs_background": "light"
     },
     "output_type": "display_data"
    }
   ],
   "source": [
    "fig = plt.figure()\n",
    "ax = fig.add_subplot(1,1,1)\n",
    "ax.set_xlim([23, 36]) # X 축의 시작좌표, 마지막좌표\n",
    "ax.set_ylim([24, 42]) # Y 축의 시작좌표, 마지막좌표\n",
    "\n",
    "# 산점도 그리기\n",
    "plt.grid(True)\n",
    "plt.scatter(X, Y)\n",
    "\n",
    "X1 = np.array(X)\n",
    "plt.plot(X1, slope * X1 + intercept, c='red')\n",
    "\n",
    "xx_input = float(input('온도를 입력하세요 =>')) # 콘솔 입력\n",
    "\n",
    "plt.title('기온과 아이스크림 판매량')\n",
    "plt.xlabel('온도')\n",
    "plt.ylabel('아이스크림 판매량')\n",
    "xx = np.array([xx_input])\n",
    "\n",
    "plt.scatter(xx, xx*slope+intercept)\n",
    "print(\"아이스크림 판매량 예측값\", xx*slope+intercept)\n",
    "plt.show()"
   ]
  },
  {
   "cell_type": "code",
   "execution_count": null,
   "metadata": {},
   "outputs": [],
   "source": []
  },
  {
   "cell_type": "markdown",
   "metadata": {},
   "source": [
    "### 연습문제 2"
   ]
  },
  {
   "cell_type": "raw",
   "metadata": {},
   "source": [
    "오존 데이터셋(온도에 따른 오존량 예측)\n",
    "1. Pandas 를 사용해서 csv 파일로 읽어 들인다.\n",
    "2. 단순회귀분석으로 사용하자.\n",
    "3. 독립변수: 온도  |||  종속변수: 오존량\n",
    "수치형 변수 - 회귀분석\n",
    "귀무가설 : \n",
    "대립가설 : \n",
    "4. 데이터 전처리 : 결측값이 있는지 없는지, 얼마나 있는지(시각화) => 결측값이 있는 행 제거\n",
    "5. 온도와 오존량의 상관관계가 있는지 없는지 출력, 시각화\n",
    "6. 단순회귀분석\n",
    "회귀곡선\n",
    "7. 서비스를 새로운 온도를 입력\n",
    "예) 화씨 80도 일때의 오존량을 예측"
   ]
  },
  {
   "cell_type": "code",
   "execution_count": null,
   "metadata": {},
   "outputs": [],
   "source": []
  }
 ],
 "metadata": {
  "kernelspec": {
   "display_name": "Python 3",
   "language": "python",
   "name": "python3"
  },
  "language_info": {
   "codemirror_mode": {
    "name": "ipython",
    "version": 3
   },
   "file_extension": ".py",
   "mimetype": "text/x-python",
   "name": "python",
   "nbconvert_exporter": "python",
   "pygments_lexer": "ipython3",
   "version": "3.7.3"
  }
 },
 "nbformat": 4,
 "nbformat_minor": 4
}
