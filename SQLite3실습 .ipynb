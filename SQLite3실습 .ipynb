{
 "cells": [
  {
   "cell_type": "markdown",
   "metadata": {},
   "source": [
    "# SQLite 개요\n",
    "\n",
    "## 1) 개발자\n",
    "\n",
    "가) 리처드 힙(Richard Hipp) 이란 사람이 2000년도 8월에 발표, C언어로 개발\n",
    "\n",
    "나) 2019년 10월 10일 버전 3.30 이 최신 버전\n",
    "\n",
    "## 2) 특징\n",
    "가) 파일 기반의 DBMS, 저메모리, 빠른 처리 속도\n",
    "\n",
    "나) 오픈소스\n",
    "\n",
    "다) 별도의 DB 서버가 없어도 쉽고 편하게 사용할 수 있는 Embedded SQL DB 엔진\n",
    "\n",
    "라) 안드로이드, 아이폰 등의 스마트폰에 내장된 DB\n",
    "\n",
    "마) 표준 SQL지원한다."
   ]
  },
  {
   "cell_type": "code",
   "execution_count": 1,
   "metadata": {},
   "outputs": [],
   "source": [
    "import sqlite3 as sqL"
   ]
  },
  {
   "cell_type": "code",
   "execution_count": 2,
   "metadata": {},
   "outputs": [
    {
     "name": "stdout",
     "output_type": "stream",
     "text": [
      "3.29.0\n"
     ]
    }
   ],
   "source": [
    "print(sqL.sqlite_version)"
   ]
  },
  {
   "cell_type": "code",
   "execution_count": 3,
   "metadata": {},
   "outputs": [],
   "source": [
    "def create_table():\n",
    "    # mybooks.db에 접속 , 신규일경우 새롭게 생성후에 접속 \n",
    "    conn = sqL.connect(\"mybooks.db\")\n",
    "    # 커서 오픈 (SQL구문 실행 하기 위한 객체)\n",
    "    cursor = conn.cursor()\n",
    "    cursor.execute(\"\"\"\n",
    "        create table if not exists books (\n",
    "         title text,\n",
    "         pub_date text,\n",
    "         publisher text,\n",
    "         pages integer,\n",
    "         recommend integer\n",
    "        )\n",
    "    \"\"\")\n",
    "    conn.commit()\n",
    "    conn.close()\n",
    "create_table()"
   ]
  },
  {
   "cell_type": "code",
   "execution_count": 4,
   "metadata": {},
   "outputs": [],
   "source": [
    "def insert_books1(tup):\n",
    "    conn=sqL.connect(\"mybooks.db\") #db 접속\n",
    "    cursor=conn.cursor() #커서 생성(sql 실행 객체)\n",
    "    # 매개변수를 이용한 쿼리에 튜플 데이터로 입력\n",
    "    sql=\"insert into books values (?,?,?,?,?)\"\n",
    "    cursor.execute(sql, tup)\n",
    "    #cursor.executemany(sql, items)\n",
    "    conn.commit() #db에 반영\n",
    "    conn.close() #db 접속 종료\n",
    "    \n",
    "query = (\"Python\",\"2018-03-04\",\"한빛\",584,20)\n",
    "insert_books1(query)"
   ]
  },
  {
   "cell_type": "code",
   "execution_count": 5,
   "metadata": {},
   "outputs": [],
   "source": [
    "def insert_books2(items):\n",
    "    conn=sqL.connect(\"mybooks.db\")\n",
    "    cursor=conn.cursor() \n",
    "    sql=\"insert into books values (?,?,?,?,?)\"\n",
    "    cursor.executemany(sql, items)\n",
    "    conn.commit() #db에 반영\n",
    "    conn.close() #db 접속 종료\n",
    "\n",
    "    # 리스트를 이용한 대량 insert\n",
    "items=[\n",
    "    (\"빅데이터2\",\"2019-12-08\",\"삼성\",296,50),\n",
    "    (\"안드로이드2\",\"2020-01-02\",\"코스모\",596,21),\n",
    "    (\"Spring2\",\"2020-01-02\",\"에이콘\",396,31),\n",
    "    (\"Linux\",\"2020-01-02\",\"에이콘\",396,31)\n",
    "]    \n",
    "insert_books2(items)"
   ]
  },
  {
   "cell_type": "code",
   "execution_count": 8,
   "metadata": {},
   "outputs": [
    {
     "name": "stdout",
     "output_type": "stream",
     "text": [
      "('Python', '2018-03-04', '한빛', 584, 20)\n",
      "('빅데이터2', '2019-12-08', '삼성', 296, 50)\n",
      "('안드로이드2', '2020-01-02', '코스모', 596, 21)\n",
      "('Spring2', '2020-01-02', '에이콘', 396, 31)\n",
      "('Linux', '2020-01-02', '에이콘', 396, 31)\n"
     ]
    }
   ],
   "source": [
    "def all_books():\n",
    "    conn=sqL.connect(\"mybooks.db\") #db 오픈\n",
    "    cursor=conn.cursor() #커서 생성\n",
    "    cursor.execute(\"select * from books\") #sql 실행\n",
    "    books=cursor.fetchall() #모든 레코드를 리스트로 리턴\n",
    "    #print(books)\n",
    "    for book in books:\n",
    "        print(book)\n",
    "    conn.close() # db 접속 종료\n",
    "\n",
    "all_books()"
   ]
  },
  {
   "cell_type": "code",
   "execution_count": 9,
   "metadata": {},
   "outputs": [
    {
     "name": "stdout",
     "output_type": "stream",
     "text": [
      "None\n"
     ]
    }
   ],
   "source": [
    "def one_book():\n",
    "    conn=sqL.connect(\"mybooks.db\")\n",
    "    cursor = conn.cursor()\n",
    "    cursor.execute(\"select * from books where title='빅데이터' \")\n",
    "    #레코드 1개만 선택 => 튜플로 리턴\n",
    "    print(cursor.fetchone()) \n",
    "    conn.close()\n",
    "\n",
    "one_book()"
   ]
  },
  {
   "cell_type": "code",
   "execution_count": 10,
   "metadata": {},
   "outputs": [],
   "source": [
    "def one_book2(title):\n",
    "    conn=sqL.connect(\"mybooks.db\")\n",
    "    cursor = conn.cursor()\n",
    "    sql = \"select * from books where title= :titlev\"\n",
    "    cursor.execute(sql, {\"titlev\": title})\n",
    "    #cursor.execute(sql, (\"빅데이터\"))\n",
    "    #레코드 1개만 선택 => 튜플로 리턴\n",
    "    print(cursor.fetchall()) \n",
    "    conn.close()"
   ]
  },
  {
   "cell_type": "code",
   "execution_count": 12,
   "metadata": {},
   "outputs": [
    {
     "name": "stdout",
     "output_type": "stream",
     "text": [
      "Title => Python\n",
      "[('Python', '2018-03-04', '한빛', 584, 20)]\n"
     ]
    }
   ],
   "source": [
    "title = input(\"Title => \")\n",
    "one_book2(title)"
   ]
  },
  {
   "cell_type": "code",
   "execution_count": 15,
   "metadata": {},
   "outputs": [
    {
     "name": "stdout",
     "output_type": "stream",
     "text": [
      "('Python', '2018-03-04', '한빛', 584, 777)\n",
      "('안드로이드2', '2020-01-02', '코스모', 596, 21)\n",
      "('Spring2', '2020-01-02', '에이콘', 396, 31)\n",
      "('Linux', '2020-01-02', '에이콘', 396, 31)\n"
     ]
    }
   ],
   "source": [
    "# 사용자로부터 타이틀과 recommend 받아서 처리하도록 해보기 \n",
    "def update_books(tup):\n",
    "    conn=sqL.connect(\"mybooks.db\")\n",
    "    cursor=conn.cursor()\n",
    "    sql = \"update books set recommend=? where title=?\"\n",
    "    # ? 위치에 튜플의 값이 대입됨 \n",
    "    cursor.execute(sql, tup)\n",
    "    conn.commit()\n",
    "    conn.close()\n",
    "query =(777, 'Python')\n",
    "update_books(query)\n",
    "all_books()"
   ]
  },
  {
   "cell_type": "code",
   "execution_count": 16,
   "metadata": {},
   "outputs": [
    {
     "name": "stdout",
     "output_type": "stream",
     "text": [
      "('Python', '2018-03-04', '한빛', 584, 777)\n",
      "('안드로이드2', '2020-01-02', '코스모', 596, 21)\n",
      "('Spring2', '2020-01-02', '에이콘', 396, 31)\n",
      "('Linux', '2020-01-02', '에이콘', 396, 31)\n"
     ]
    }
   ],
   "source": [
    "def delete_books(publisher):\n",
    "    conn=sqL.connect(\"mybooks.db\")\n",
    "    cursor=conn.cursor()\n",
    "    sql=\"delete from books where publisher=:publisherv\"\n",
    "    cursor.execute(sql, {\"publisherv\": publisher} )\n",
    "    conn.commit()\n",
    "    conn.close()\n",
    "publisherv = \"삼성\"   \n",
    "delete_books(publisherv)\n",
    "all_books()"
   ]
  },
  {
   "cell_type": "code",
   "execution_count": 17,
   "metadata": {},
   "outputs": [
    {
     "name": "stdout",
     "output_type": "stream",
     "text": [
      "('Python', '2018-03-04', '한빛', 584, 777)\n",
      "('안드로이드2', '2020-01-02', '코스모', 596, 21)\n",
      "**************************************************\n",
      "('Python', '2018-03-04', '한빛', 584, 777)\n",
      "('안드로이드2', '2020-01-02', '코스모', 596, 21)\n",
      "('Spring2', '2020-01-02', '에이콘', 396, 31)\n",
      "**************************************************\n",
      "('Python', '2018-03-04', '한빛', 584, 777)\n",
      "('안드로이드2', '2020-01-02', '코스모', 596, 21)\n",
      "('Spring2', '2020-01-02', '에이콘', 396, 31)\n",
      "('Linux', '2020-01-02', '에이콘', 396, 31)\n",
      "**************************************************\n"
     ]
    }
   ],
   "source": [
    "#일부 레코드 조회\n",
    "def some_books(number):\n",
    "    conn=sqL.connect(\"mybooks.db\")\n",
    "    cursor=conn.cursor()\n",
    "    cursor.execute(\"select * from books\")\n",
    "    #지정된 숫자만큼의 레코드를 리스트로 리턴\n",
    "    books = cursor.fetchmany(number)\n",
    "    for book in books:\n",
    "        print(book)\n",
    "    conn.close()\n",
    "    \n",
    "some_books(2)  \n",
    "print(\"*\"*50)\n",
    "some_books(3) \n",
    "print(\"*\"*50)\n",
    "some_books(5)\n",
    "print(\"*\"*50)"
   ]
  },
  {
   "cell_type": "code",
   "execution_count": null,
   "metadata": {},
   "outputs": [],
   "source": []
  }
 ],
 "metadata": {
  "kernelspec": {
   "display_name": "Python 3",
   "language": "python",
   "name": "python3"
  },
  "language_info": {
   "codemirror_mode": {
    "name": "ipython",
    "version": 3
   },
   "file_extension": ".py",
   "mimetype": "text/x-python",
   "name": "python",
   "nbconvert_exporter": "python",
   "pygments_lexer": "ipython3",
   "version": "3.7.3"
  }
 },
 "nbformat": 4,
 "nbformat_minor": 2
}
