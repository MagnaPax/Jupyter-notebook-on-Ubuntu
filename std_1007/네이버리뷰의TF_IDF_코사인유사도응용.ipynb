{
 "cells": [
  {
   "cell_type": "code",
   "execution_count": 1,
   "metadata": {},
   "outputs": [],
   "source": [
    "import numpy as np\n",
    "import matplotlib.pyplot as plt\n",
    "import pandas as pd\n",
    "from numpy.linalg import norm\n",
    "from sklearn.feature_extraction.text import TfidfVectorizer\n",
    "from sklearn.metrics.pairwise import cosine_similarity\n",
    "from konlpy.tag import Okt\n",
    "okt = Okt()"
   ]
  },
  {
   "cell_type": "code",
   "execution_count": 2,
   "metadata": {},
   "outputs": [],
   "source": [
    "train_data = pd.read_csv('dataset/MOVIEREV_DATA_TABLE.csv')"
   ]
  },
  {
   "cell_type": "code",
   "execution_count": 3,
   "metadata": {},
   "outputs": [],
   "source": [
    "# 정규 표현식을 통한 한글 외 문자 제거\n",
    "train_data['MCONTENT'] = train_data['MCONTENT'].str.replace(\"[^ㄱ-ㅎㅏ-ㅣ가-힣 ]\",\"\")"
   ]
  },
  {
   "cell_type": "code",
   "execution_count": 4,
   "metadata": {},
   "outputs": [],
   "source": [
    "stopword=['의','가','이','은','들','는','좀','잘','걍','과','도','를','으로','자']"
   ]
  },
  {
   "cell_type": "code",
   "execution_count": 5,
   "metadata": {},
   "outputs": [],
   "source": [
    "def tokenizer(raw,pos=[\"Noun\",\"Alpha\",\"Verb\",\"Number\"]):\n",
    "    return [\n",
    "        word for word, tag in okt.pos(raw,norm=True,stem=True)\n",
    "        if len(word) > 1 and tag in pos and word not in stopword\n",
    "    ]"
   ]
  },
  {
   "cell_type": "code",
   "execution_count": 6,
   "metadata": {},
   "outputs": [],
   "source": [
    "tfidf = TfidfVectorizer(tokenizer=tokenizer)\n",
    "tfidf_matrix = tfidf.fit_transform(train_data['MCONTENT'])"
   ]
  },
  {
   "cell_type": "code",
   "execution_count": 7,
   "metadata": {},
   "outputs": [],
   "source": [
    "from sklearn.metrics.pairwise import cosine_similarity\n",
    "cosine_sim = cosine_similarity(tfidf_matrix , tfidf_matrix)"
   ]
  },
  {
   "cell_type": "code",
   "execution_count": 8,
   "metadata": {},
   "outputs": [
    {
     "data": {
      "text/plain": [
       "array([[1.        , 0.03822345, 0.        , ..., 0.        , 0.        ,\n",
       "        0.02001549],\n",
       "       [0.03822345, 1.        , 0.        , ..., 0.        , 0.        ,\n",
       "        0.02303219],\n",
       "       [0.        , 0.        , 1.        , ..., 0.        , 0.        ,\n",
       "        0.        ],\n",
       "       ...,\n",
       "       [0.        , 0.        , 0.        , ..., 1.        , 0.        ,\n",
       "        0.        ],\n",
       "       [0.        , 0.        , 0.        , ..., 0.        , 1.        ,\n",
       "        0.        ],\n",
       "       [0.02001549, 0.02303219, 0.        , ..., 0.        , 0.        ,\n",
       "        1.        ]])"
      ]
     },
     "execution_count": 8,
     "metadata": {},
     "output_type": "execute_result"
    }
   ],
   "source": [
    "cosine_sim"
   ]
  },
  {
   "cell_type": "code",
   "execution_count": 9,
   "metadata": {},
   "outputs": [],
   "source": [
    "indexdata = pd.Series(train_data.index,index=train_data['MTITLE']).drop_duplicates()"
   ]
  },
  {
   "cell_type": "code",
   "execution_count": 10,
   "metadata": {},
   "outputs": [
    {
     "data": {
      "text/plain": [
       "MTITLE\n",
       "정직한 후보           0\n",
       "다만 악에서 구하소서      1\n",
       "오케이 마담           2\n",
       "오케이 마담           3\n",
       "강철비2: 정상회담       4\n",
       "들어는 봤니? 모건 부부    5\n",
       "반도               6\n",
       "강철비2: 정상회담       7\n",
       "다만 악에서 구하소서      8\n",
       "콰이어트 플레이스        9\n",
       "dtype: int64"
      ]
     },
     "execution_count": 10,
     "metadata": {},
     "output_type": "execute_result"
    }
   ],
   "source": [
    "indexdata.head(10)"
   ]
  },
  {
   "cell_type": "code",
   "execution_count": 11,
   "metadata": {},
   "outputs": [],
   "source": [
    "idx = indexdata['크로우']"
   ]
  },
  {
   "cell_type": "code",
   "execution_count": 12,
   "metadata": {},
   "outputs": [
    {
     "name": "stdout",
     "output_type": "stream",
     "text": [
      "6628\n"
     ]
    }
   ],
   "source": [
    "print(idx)"
   ]
  },
  {
   "cell_type": "code",
   "execution_count": 22,
   "metadata": {},
   "outputs": [],
   "source": [
    "def get_recommendations(title, cosine_sim=cosine_sim):\n",
    "    idx = pd.Series(indexdata[title])\n",
    "    \n",
    "    idx.index = range(len(idx))\n",
    "    sim_scores = list(enumerate(cosine_sim[idx[0]]))\n",
    "    sim_scores = sorted(sim_scores, key=lambda x: x[1], reverse=True)\n",
    "    #print(sim_scores)\n",
    "    #print('-'*35)\n",
    "    # 가장 유사도가 높은 10 개만 추출 \n",
    "    sim_scores = sim_scores[0:11]\n",
    "    # 인덱스 구하기\n",
    "    movie_indices = [i[0] for i in sim_scores]\n",
    "    # 구한 인덱스를 기반으로 데이터셋에서 찾아서 반환 \n",
    "    return train_data[['MTITLE','MCONTENT']].iloc[movie_indices]"
   ]
  },
  {
   "cell_type": "code",
   "execution_count": 21,
   "metadata": {},
   "outputs": [
    {
     "data": {
      "text/html": [
       "<div>\n",
       "<style scoped>\n",
       "    .dataframe tbody tr th:only-of-type {\n",
       "        vertical-align: middle;\n",
       "    }\n",
       "\n",
       "    .dataframe tbody tr th {\n",
       "        vertical-align: top;\n",
       "    }\n",
       "\n",
       "    .dataframe thead th {\n",
       "        text-align: right;\n",
       "    }\n",
       "</style>\n",
       "<table border=\"1\" class=\"dataframe\">\n",
       "  <thead>\n",
       "    <tr style=\"text-align: right;\">\n",
       "      <th></th>\n",
       "      <th>MTITLE</th>\n",
       "      <th>MCONTENT</th>\n",
       "    </tr>\n",
       "  </thead>\n",
       "  <tbody>\n",
       "    <tr>\n",
       "      <th>6628</th>\n",
       "      <td>크로우</td>\n",
       "      <td>음울한 간지 그 자체 브루스 리의 의문의 죽음과 그의 아들까지 의문의 죽음으로 영화...</td>\n",
       "    </tr>\n",
       "    <tr>\n",
       "      <th>4376</th>\n",
       "      <td>인베이젼</td>\n",
       "      <td>몇 번을 봐도 의문점만 가득하다</td>\n",
       "    </tr>\n",
       "    <tr>\n",
       "      <th>8352</th>\n",
       "      <td>인셉션</td>\n",
       "      <td>꿈일까 현실일까 아직도 남는 의문</td>\n",
       "    </tr>\n",
       "    <tr>\n",
       "      <th>9605</th>\n",
       "      <td>다만 악에서 구하소서</td>\n",
       "      <td>이게 점대라고 보는 내내 이 영화를 왜 만들었을까 라는 의문만 가득했다이 영화로 득...</td>\n",
       "    </tr>\n",
       "    <tr>\n",
       "      <th>797</th>\n",
       "      <td>더 홈즈맨</td>\n",
       "      <td>커디의 죽음이 너무 갑작스럽고 허망하다고 심리묘사가 부족해 좀 더 이해될수 있도록 ...</td>\n",
       "    </tr>\n",
       "    <tr>\n",
       "      <th>3442</th>\n",
       "      <td>업그레이드</td>\n",
       "      <td>주인공 빼고 다 죽음 잔인함 청불영화</td>\n",
       "    </tr>\n",
       "    <tr>\n",
       "      <th>5953</th>\n",
       "      <td>익스트랙션</td>\n",
       "      <td>주인공은 살짜리 아들이 죽고나서 하루하루가 지옥이었던 삶을 살았다가 끝에서 주인공이...</td>\n",
       "    </tr>\n",
       "    <tr>\n",
       "      <th>741</th>\n",
       "      <td>사도</td>\n",
       "      <td>애증에서 시작되어 감정의 골이 점점 깊어져가는 부모와 자식간의 갈등은 시대를 불문하...</td>\n",
       "    </tr>\n",
       "    <tr>\n",
       "      <th>6954</th>\n",
       "      <td>다만 악에서 구하소서</td>\n",
       "      <td>이정재 눈빛연기는 진짜 전설이다황정민 감정연기는 진짜 전설이다박정민 트젠연기는 진짜...</td>\n",
       "    </tr>\n",
       "    <tr>\n",
       "      <th>5247</th>\n",
       "      <td>#살아있다</td>\n",
       "      <td>감독이 뭐 하는 사람인지 궁금합니다 이딴영화가 흥행 성공했다는게 가장 의문 초반엔 ...</td>\n",
       "    </tr>\n",
       "    <tr>\n",
       "      <th>933</th>\n",
       "      <td>고지전</td>\n",
       "      <td>죽음밖에 없는 고지 그 안에서 살아가던 생명들 그리고 남겨진 우리</td>\n",
       "    </tr>\n",
       "  </tbody>\n",
       "</table>\n",
       "</div>"
      ],
      "text/plain": [
       "           MTITLE                                           MCONTENT\n",
       "6628          크로우  음울한 간지 그 자체 브루스 리의 의문의 죽음과 그의 아들까지 의문의 죽음으로 영화...\n",
       "4376         인베이젼                                  몇 번을 봐도 의문점만 가득하다\n",
       "8352          인셉션                                 꿈일까 현실일까 아직도 남는 의문\n",
       "9605  다만 악에서 구하소서  이게 점대라고 보는 내내 이 영화를 왜 만들었을까 라는 의문만 가득했다이 영화로 득...\n",
       "797         더 홈즈맨  커디의 죽음이 너무 갑작스럽고 허망하다고 심리묘사가 부족해 좀 더 이해될수 있도록 ...\n",
       "3442        업그레이드                               주인공 빼고 다 죽음 잔인함 청불영화\n",
       "5953        익스트랙션  주인공은 살짜리 아들이 죽고나서 하루하루가 지옥이었던 삶을 살았다가 끝에서 주인공이...\n",
       "741            사도  애증에서 시작되어 감정의 골이 점점 깊어져가는 부모와 자식간의 갈등은 시대를 불문하...\n",
       "6954  다만 악에서 구하소서  이정재 눈빛연기는 진짜 전설이다황정민 감정연기는 진짜 전설이다박정민 트젠연기는 진짜...\n",
       "5247        #살아있다  감독이 뭐 하는 사람인지 궁금합니다 이딴영화가 흥행 성공했다는게 가장 의문 초반엔 ...\n",
       "933           고지전               죽음밖에 없는 고지 그 안에서 살아가던 생명들 그리고 남겨진 우리"
      ]
     },
     "execution_count": 21,
     "metadata": {},
     "output_type": "execute_result"
    }
   ],
   "source": [
    "get_recommendations('크로우')"
   ]
  },
  {
   "cell_type": "code",
   "execution_count": 16,
   "metadata": {},
   "outputs": [],
   "source": [
    "# 아래에서 크로운 - 중복되지 않는 데이터, 오케이마담과 같은 타이틀은 중복이 됩니다.\n",
    "# 이것을 해결한 다음에 카페에 연습문제 게시 바랍니다"
   ]
  },
  {
   "cell_type": "code",
   "execution_count": 23,
   "metadata": {},
   "outputs": [
    {
     "data": {
      "text/html": [
       "<div>\n",
       "<style scoped>\n",
       "    .dataframe tbody tr th:only-of-type {\n",
       "        vertical-align: middle;\n",
       "    }\n",
       "\n",
       "    .dataframe tbody tr th {\n",
       "        vertical-align: top;\n",
       "    }\n",
       "\n",
       "    .dataframe thead th {\n",
       "        text-align: right;\n",
       "    }\n",
       "</style>\n",
       "<table border=\"1\" class=\"dataframe\">\n",
       "  <thead>\n",
       "    <tr style=\"text-align: right;\">\n",
       "      <th></th>\n",
       "      <th>MTITLE</th>\n",
       "      <th>MCONTENT</th>\n",
       "    </tr>\n",
       "  </thead>\n",
       "  <tbody>\n",
       "    <tr>\n",
       "      <th>2</th>\n",
       "      <td>오케이 마담</td>\n",
       "      <td>가족들이랑 보고왔는데 다들 넘 재미있데요</td>\n",
       "    </tr>\n",
       "    <tr>\n",
       "      <th>6239</th>\n",
       "      <td>오케이 마담</td>\n",
       "      <td>넘나 재미나게 보고왔어요  보세요 보세요</td>\n",
       "    </tr>\n",
       "    <tr>\n",
       "      <th>6594</th>\n",
       "      <td>오케이 마담</td>\n",
       "      <td>넘나 재밌엇어요</td>\n",
       "    </tr>\n",
       "    <tr>\n",
       "      <th>6035</th>\n",
       "      <td>강철비2: 정상회담</td>\n",
       "      <td>보고옴  알바라는건 오바 같고  그럭저럭  볼만하더만</td>\n",
       "    </tr>\n",
       "    <tr>\n",
       "      <th>7335</th>\n",
       "      <td>강철비2: 정상회담</td>\n",
       "      <td>이런영화눈 가족과함께</td>\n",
       "    </tr>\n",
       "    <tr>\n",
       "      <th>6121</th>\n",
       "      <td>반교: 디텐션</td>\n",
       "      <td>기대없이갔다가 너무 재밌게보고왔습니다</td>\n",
       "    </tr>\n",
       "    <tr>\n",
       "      <th>1749</th>\n",
       "      <td>다만 악에서 구하소서</td>\n",
       "      <td>배우들 연기만 보고왔음 그냥 저냥 했음</td>\n",
       "    </tr>\n",
       "    <tr>\n",
       "      <th>3503</th>\n",
       "      <td>오케이 마담</td>\n",
       "      <td>아무생각 없이 봤다 재밌게 기분좋게 보고왔습니다 ㅎㅎ</td>\n",
       "    </tr>\n",
       "    <tr>\n",
       "      <th>3741</th>\n",
       "      <td>오케이 마담</td>\n",
       "      <td>간만에 웃으면서 영화보고왔네용</td>\n",
       "    </tr>\n",
       "    <tr>\n",
       "      <th>8413</th>\n",
       "      <td>오케이 마담</td>\n",
       "      <td>재미있네요 가족이나 친구랑 가볍게 보고 오면 좋을 코미디 영화인 것 같아요 어제 보...</td>\n",
       "    </tr>\n",
       "    <tr>\n",
       "      <th>9861</th>\n",
       "      <td>오케이 마담</td>\n",
       "      <td>영화 넘넘 강추</td>\n",
       "    </tr>\n",
       "  </tbody>\n",
       "</table>\n",
       "</div>"
      ],
      "text/plain": [
       "           MTITLE                                           MCONTENT\n",
       "2          오케이 마담                            가족들이랑 보고왔는데 다들 넘 재미있데요 \n",
       "6239       오케이 마담                             넘나 재미나게 보고왔어요  보세요 보세요\n",
       "6594       오케이 마담                                           넘나 재밌엇어요\n",
       "6035   강철비2: 정상회담                      보고옴  알바라는건 오바 같고  그럭저럭  볼만하더만\n",
       "7335   강철비2: 정상회담                                        이런영화눈 가족과함께\n",
       "6121      반교: 디텐션                               기대없이갔다가 너무 재밌게보고왔습니다\n",
       "1749  다만 악에서 구하소서                              배우들 연기만 보고왔음 그냥 저냥 했음\n",
       "3503       오케이 마담                      아무생각 없이 봤다 재밌게 기분좋게 보고왔습니다 ㅎㅎ\n",
       "3741       오케이 마담                                   간만에 웃으면서 영화보고왔네용\n",
       "8413       오케이 마담  재미있네요 가족이나 친구랑 가볍게 보고 오면 좋을 코미디 영화인 것 같아요 어제 보...\n",
       "9861       오케이 마담                                           영화 넘넘 강추"
      ]
     },
     "execution_count": 23,
     "metadata": {},
     "output_type": "execute_result"
    }
   ],
   "source": [
    "get_recommendations('오케이 마담')"
   ]
  },
  {
   "cell_type": "code",
   "execution_count": null,
   "metadata": {},
   "outputs": [],
   "source": []
  }
 ],
 "metadata": {
  "kernelspec": {
   "display_name": "Python 3",
   "language": "python",
   "name": "python3"
  },
  "language_info": {
   "codemirror_mode": {
    "name": "ipython",
    "version": 3
   },
   "file_extension": ".py",
   "mimetype": "text/x-python",
   "name": "python",
   "nbconvert_exporter": "python",
   "pygments_lexer": "ipython3",
   "version": "3.7.3"
  }
 },
 "nbformat": 4,
 "nbformat_minor": 4
}
