{
 "cells": [
  {
   "cell_type": "markdown",
   "metadata": {},
   "source": [
    "### 사전설치\n",
    "\n",
    "https://konlpy.org/en/latest/install/#ubuntu\n",
    "\n",
    "```\n",
    "$ sudo apt-get install openjdk-8-jdk g++ python3-dev python-dev\n",
    "$ pip install konlpy\n",
    "```"
   ]
  },
  {
   "cell_type": "code",
   "execution_count": 1,
   "metadata": {},
   "outputs": [],
   "source": [
    "## 리눅스에서 한글 설정\n",
    "import pandas as pd\n",
    "import numpy as np\n",
    "import warnings as wr\n",
    "import matplotlib\n",
    "import matplotlib.font_manager\n",
    "import seaborn as sns\n",
    "#[f.name for f in matplotlib.font_manager.fontManager.ttflist if 'Nanum' in f.name]\n",
    "\n",
    "import matplotlib as mpl\n",
    "import matplotlib.pyplot as plt\n",
    "# 유니코드 깨짐현상 해결\n",
    "mpl.rcParams['axes.unicode_minus'] = False\n",
    "# 나눔고딕 폰트 적용\n",
    "plt.rcParams[\"font.family\"] = 'NanumGothic'\n",
    "wr.filterwarnings('ignore')"
   ]
  },
  {
   "cell_type": "code",
   "execution_count": 2,
   "metadata": {},
   "outputs": [],
   "source": [
    "from wordcloud import WordCloud\n",
    "import numpy as np\n",
    "from PIL import Image"
   ]
  },
  {
   "cell_type": "code",
   "execution_count": 3,
   "metadata": {},
   "outputs": [],
   "source": [
    "from konlpy.corpus import kolaw\n",
    "from konlpy.tag import Kkma\n",
    "from konlpy.utils import concordance"
   ]
  },
  {
   "cell_type": "markdown",
   "metadata": {},
   "source": [
    "### 말뭉치\n",
    "말뭉치는(corpus)는 자연어 분석 작업을 위해 만든 샘플 문서 집합을 말한다\n",
    "\n",
    "### 대한민국 헌법 말뭉치\n",
    "KoNLPy 에서는 대한민국 헌법 말뭉치인 kolaw 와 국회법안 말뭉치인 kobill 을 제공한다"
   ]
  },
  {
   "cell_type": "code",
   "execution_count": 4,
   "metadata": {},
   "outputs": [
    {
     "data": {
      "text/plain": [
       "'constitution.txt'"
      ]
     },
     "execution_count": 4,
     "metadata": {},
     "output_type": "execute_result"
    }
   ],
   "source": [
    "kolaw.fileids()[0]"
   ]
  },
  {
   "cell_type": "code",
   "execution_count": 6,
   "metadata": {},
   "outputs": [],
   "source": [
    "c = kolaw.open(kolaw.fileids()[0]).read()"
   ]
  },
  {
   "cell_type": "code",
   "execution_count": 7,
   "metadata": {},
   "outputs": [
    {
     "name": "stdout",
     "output_type": "stream",
     "text": [
      "대한민국헌법\n",
      "\n",
      "유구한 역사와 전통에 빛나는 우리 대한국민은 3·1운동으로 건립된 대한민국임\n"
     ]
    }
   ],
   "source": [
    "print(c[:50])"
   ]
  },
  {
   "cell_type": "code",
   "execution_count": 9,
   "metadata": {},
   "outputs": [
    {
     "name": "stdout",
     "output_type": "stream",
     "text": [
      "33\t불의를 타파하며, 자율과 조화를 바탕으로 자유민주적\n",
      "3646\t남용을 방지하며, 경제주체간의 조화를 통한 경제의\n"
     ]
    },
    {
     "data": {
      "text/plain": [
       "[33, 3646]"
      ]
     },
     "execution_count": 9,
     "metadata": {},
     "output_type": "execute_result"
    }
   ],
   "source": [
    "# konlpy.utils.concordance(찾을 단어, 전체문장, show=False)\n",
    "fword = concordance('조화', c, show=True)\n",
    "fword"
   ]
  },
  {
   "cell_type": "markdown",
   "metadata": {},
   "source": [
    "### 분석기 및 사전 라이브러리\n",
    "- Hannanum : KAIST 말뭉치를 이용해 생성된 사전\n",
    "- Kkma : 세종 말뭉치를 이용해 생성된 사전\n",
    "- Komoran : Java 로 쓰여진 오픈소스 한글 형태소 분석기\n",
    "\n",
    "### 공통사항\n",
    "- nouns : 명사 추출\n",
    "- morphs : 형태소 추출\n",
    "- pos : 품사 부착 - pos 명령을 사용하면 품사 부착을 한다"
   ]
  },
  {
   "cell_type": "code",
   "execution_count": 10,
   "metadata": {},
   "outputs": [],
   "source": [
    "from konlpy.tag import *\n",
    "\n",
    "hannanum = Hannanum()\n",
    "kkma = Kkma()\n",
    "komoran = Komoran()\n",
    "okt =Okt()"
   ]
  },
  {
   "cell_type": "code",
   "execution_count": 11,
   "metadata": {},
   "outputs": [
    {
     "data": {
      "text/plain": [
       "['대한민국헌법', '유구', '역사', '전통', '빛', '우리', '대한국민', '3·1운동']"
      ]
     },
     "execution_count": 11,
     "metadata": {},
     "output_type": "execute_result"
    }
   ],
   "source": [
    "### 명사 추출하기\n",
    "hannanum.nouns(c[:40])"
   ]
  },
  {
   "cell_type": "code",
   "execution_count": 12,
   "metadata": {},
   "outputs": [
    {
     "data": {
      "text/plain": [
       "['대한',\n",
       " '대한민국',\n",
       " '대한민국헌법',\n",
       " '민국',\n",
       " '헌법',\n",
       " '유구',\n",
       " '역사',\n",
       " '전통',\n",
       " '우리',\n",
       " '국민',\n",
       " '3',\n",
       " '1',\n",
       " '1운동',\n",
       " '운동']"
      ]
     },
     "execution_count": 12,
     "metadata": {},
     "output_type": "execute_result"
    }
   ],
   "source": [
    "kkma.nouns(c[:40])"
   ]
  },
  {
   "cell_type": "code",
   "execution_count": 13,
   "metadata": {},
   "outputs": [
    {
     "data": {
      "text/plain": [
       "['대한민국', '헌법', '역사', '전통', '국민', '운동']"
      ]
     },
     "execution_count": 13,
     "metadata": {},
     "output_type": "execute_result"
    }
   ],
   "source": [
    "komoran.nouns(c[:40])"
   ]
  },
  {
   "cell_type": "code",
   "execution_count": 14,
   "metadata": {},
   "outputs": [
    {
     "data": {
      "text/plain": [
       "['대한민국', '헌법', '유구', '역사', '전통', '우리', '국민', '운동']"
      ]
     },
     "execution_count": 14,
     "metadata": {},
     "output_type": "execute_result"
    }
   ],
   "source": [
    "okt.nouns(c[:40])"
   ]
  },
  {
   "cell_type": "code",
   "execution_count": 15,
   "metadata": {},
   "outputs": [],
   "source": [
    "word = '반갑습니다. 오늘은 텍스트 분석 수업입니다. 재미있네요~~'"
   ]
  },
  {
   "cell_type": "code",
   "execution_count": 16,
   "metadata": {},
   "outputs": [
    {
     "data": {
      "text/plain": [
       "['반갑습니다.', '오늘은 텍스트 분석 수업입니다.', '재미있네요~~']"
      ]
     },
     "execution_count": 16,
     "metadata": {},
     "output_type": "execute_result"
    }
   ],
   "source": [
    "# 문장 단위로 검색하기\n",
    "word_sentence = kkma.sentences(word) #문장 분석\n",
    "word_sentence"
   ]
  },
  {
   "cell_type": "code",
   "execution_count": 17,
   "metadata": {},
   "outputs": [
    {
     "data": {
      "text/plain": [
       "['오늘', '텍스트', '분석', '수업']"
      ]
     },
     "execution_count": 17,
     "metadata": {},
     "output_type": "execute_result"
    }
   ],
   "source": [
    "kkma.nouns(word)"
   ]
  },
  {
   "cell_type": "code",
   "execution_count": 18,
   "metadata": {},
   "outputs": [
    {
     "data": {
      "text/plain": [
       "['반갑',\n",
       " '습니다',\n",
       " '.',\n",
       " '오늘',\n",
       " '은',\n",
       " '텍스트',\n",
       " '분석',\n",
       " '수업',\n",
       " '이',\n",
       " 'ㅂ니다',\n",
       " '.',\n",
       " '재미있',\n",
       " '네요',\n",
       " '~~']"
      ]
     },
     "execution_count": 18,
     "metadata": {},
     "output_type": "execute_result"
    }
   ],
   "source": [
    "kkma.morphs(word,) #형태소 추출"
   ]
  },
  {
   "cell_type": "code",
   "execution_count": 19,
   "metadata": {},
   "outputs": [
    {
     "data": {
      "text/plain": [
       "[('반갑', 'VA'),\n",
       " ('습니다', 'EFN'),\n",
       " ('.', 'SF'),\n",
       " ('오늘', 'NNG'),\n",
       " ('은', 'JX'),\n",
       " ('텍스트', 'NNG'),\n",
       " ('분석', 'NNG'),\n",
       " ('수업', 'NNG'),\n",
       " ('이', 'VCP'),\n",
       " ('ㅂ니다', 'EFN'),\n",
       " ('.', 'SF'),\n",
       " ('재미있', 'VA'),\n",
       " ('네요', 'EFN'),\n",
       " ('~~', 'SW')]"
      ]
     },
     "execution_count": 19,
     "metadata": {},
     "output_type": "execute_result"
    }
   ],
   "source": [
    "kkma.pos(word)"
   ]
  },
  {
   "cell_type": "code",
   "execution_count": 20,
   "metadata": {},
   "outputs": [
    {
     "data": {
      "text/plain": [
       "['오늘', '텍스트', '분석', '수업']"
      ]
     },
     "execution_count": 20,
     "metadata": {},
     "output_type": "execute_result"
    }
   ],
   "source": [
    "# Hannanum 해보기\n",
    "hannanum.nouns(word)"
   ]
  },
  {
   "cell_type": "code",
   "execution_count": 21,
   "metadata": {},
   "outputs": [
    {
     "data": {
      "text/plain": [
       "[[[('반갑', 'paa'), ('습니다', 'ef')]],\n",
       " [[('.', 'sf')], [('.', 'sy')]],\n",
       " [],\n",
       " [[('오늘', 'ncn'), ('은', 'jxc')], [('오늘', 'ncn'), ('은', 'ncn')]],\n",
       " [[('텍스트', 'ncn')]],\n",
       " [[('분석', 'ncpa')]],\n",
       " [[('수업', 'ncpa'), ('이', 'jp'), ('ㅂ니다', 'ef')]],\n",
       " [[('.', 'sf')], [('.', 'sy')]],\n",
       " [],\n",
       " [[('재미있', 'pvg'), ('네요', 'ef'), ('~', 'sd'), ('~', 'sd')],\n",
       "  [('재미있', 'pvg'), ('네', 'ef'), ('요', 'jxf'), ('~', 'sd'), ('~', 'sd')],\n",
       "  [('재미', 'ncn'), ('있', 'xsmn'), ('네요', 'ef'), ('~', 'sd'), ('~', 'sd')],\n",
       "  [('재미', 'ncn'),\n",
       "   ('있', 'xsmn'),\n",
       "   ('네', 'ef'),\n",
       "   ('요', 'jxf'),\n",
       "   ('~', 'sd'),\n",
       "   ('~', 'sd')]]]"
      ]
     },
     "execution_count": 21,
     "metadata": {},
     "output_type": "execute_result"
    }
   ],
   "source": [
    "hannanum.analyze(word)"
   ]
  },
  {
   "cell_type": "code",
   "execution_count": 22,
   "metadata": {},
   "outputs": [
    {
     "data": {
      "text/plain": [
       "[('반갑', 'P'),\n",
       " ('습니다', 'E'),\n",
       " ('.', 'S'),\n",
       " ('오늘', 'N'),\n",
       " ('은', 'J'),\n",
       " ('텍스트', 'N'),\n",
       " ('분석', 'N'),\n",
       " ('수업', 'N'),\n",
       " ('이', 'J'),\n",
       " ('ㅂ니다', 'E'),\n",
       " ('.', 'S'),\n",
       " ('재미있', 'P'),\n",
       " ('네요', 'E'),\n",
       " ('~~', 'S')]"
      ]
     },
     "execution_count": 22,
     "metadata": {},
     "output_type": "execute_result"
    }
   ],
   "source": [
    "hannanum.pos(word)"
   ]
  },
  {
   "cell_type": "code",
   "execution_count": 26,
   "metadata": {},
   "outputs": [
    {
     "name": "stdout",
     "output_type": "stream",
     "text": [
      "['오늘', '텍스트', '분석', '수업']\n",
      "['반갑습니다', '.', '오늘', '은', '텍스트', '분석', '수업', '입니다', '.', '재미있네요', '~~']\n",
      "[('반갑습니다', 'Adjective'), ('.', 'Punctuation'), ('오늘', 'Noun'), ('은', 'Josa'), ('텍스트', 'Noun'), ('분석', 'Noun'), ('수업', 'Noun'), ('입니다', 'Adjective'), ('.', 'Punctuation'), ('재미있네요', 'Adjective'), ('~~', 'Punctuation')]\n"
     ]
    }
   ],
   "source": [
    "#Okt\n",
    "print(okt.nouns(word))\n",
    "print(okt.morphs(word))\n",
    "print(okt.pos(word))"
   ]
  },
  {
   "cell_type": "code",
   "execution_count": 28,
   "metadata": {},
   "outputs": [],
   "source": [
    "word2 = \"정말 재미가 있네욬ㅋㅋㅋㅋㅋㅋㅋ 이제정말로된나여ㅎㅎㅎㅎ?\""
   ]
  },
  {
   "cell_type": "code",
   "execution_count": 30,
   "metadata": {},
   "outputs": [
    {
     "data": {
      "text/plain": [
       "[('정말', 'Noun'),\n",
       " ('재미', 'Noun'),\n",
       " ('가', 'Josa'),\n",
       " ('있네욬', 'Noun'),\n",
       " ('ㅋㅋㅋㅋㅋㅋㅋ', 'KoreanParticle'),\n",
       " ('이제정', 'Noun'),\n",
       " ('말로', 'Noun'),\n",
       " ('된나여', 'Verb'),\n",
       " ('ㅎㅎㅎㅎ', 'KoreanParticle'),\n",
       " ('?', 'Punctuation')]"
      ]
     },
     "execution_count": 30,
     "metadata": {},
     "output_type": "execute_result"
    }
   ],
   "source": [
    "okt.pos(word2)"
   ]
  },
  {
   "cell_type": "code",
   "execution_count": 32,
   "metadata": {},
   "outputs": [
    {
     "data": {
      "text/plain": [
       "[('정말', 'Noun'),\n",
       " ('재미', 'Noun'),\n",
       " ('가', 'Josa'),\n",
       " ('있네요', 'Adjective'),\n",
       " ('ㅋㅋㅋ', 'KoreanParticle'),\n",
       " ('이제정', 'Noun'),\n",
       " ('말로', 'Noun'),\n",
       " ('된나여', 'Verb'),\n",
       " ('ㅎㅎㅎ', 'KoreanParticle'),\n",
       " ('?', 'Punctuation')]"
      ]
     },
     "execution_count": 32,
     "metadata": {},
     "output_type": "execute_result"
    }
   ],
   "source": [
    "okt.pos(word2, norm=True)\n",
    "# '있네욬'이 '있네요'로"
   ]
  },
  {
   "cell_type": "code",
   "execution_count": 34,
   "metadata": {},
   "outputs": [
    {
     "data": {
      "text/plain": [
       "[('정말', 'Noun'),\n",
       " ('재미', 'Noun'),\n",
       " ('가', 'Josa'),\n",
       " ('있다', 'Adjective'),\n",
       " ('ㅋㅋㅋ', 'KoreanParticle'),\n",
       " ('이제정', 'Noun'),\n",
       " ('말로', 'Noun'),\n",
       " ('되다', 'Verb'),\n",
       " ('ㅎㅎㅎ', 'KoreanParticle'),\n",
       " ('?', 'Punctuation')]"
      ]
     },
     "execution_count": 34,
     "metadata": {},
     "output_type": "execute_result"
    }
   ],
   "source": [
    "okt.pos(word2, norm=True, stem=True)"
   ]
  },
  {
   "cell_type": "code",
   "execution_count": 35,
   "metadata": {},
   "outputs": [
    {
     "data": {
      "text/plain": [
       "['정말/Noun',\n",
       " '재미/Noun',\n",
       " '가/Josa',\n",
       " '있다/Adjective',\n",
       " 'ㅋㅋㅋ/KoreanParticle',\n",
       " '이제정/Noun',\n",
       " '말로/Noun',\n",
       " '되다/Verb',\n",
       " 'ㅎㅎㅎ/KoreanParticle',\n",
       " '?/Punctuation']"
      ]
     },
     "execution_count": 35,
     "metadata": {},
     "output_type": "execute_result"
    }
   ],
   "source": [
    "okt.pos(word2, norm=True, stem=True, join=True) # 리스트로 변환"
   ]
  },
  {
   "cell_type": "code",
   "execution_count": 36,
   "metadata": {},
   "outputs": [
    {
     "data": {
      "text/plain": [
       "['정말', '재미', '가', '있다', 'ㅋㅋㅋ', '이제정', '말로', '되다', 'ㅎㅎㅎ', '?']"
      ]
     },
     "execution_count": 36,
     "metadata": {},
     "output_type": "execute_result"
    }
   ],
   "source": [
    "# morphs(구문, norm=False, stem=False)\n",
    "okt.morphs(word2 , norm=True, stem=True)"
   ]
  },
  {
   "cell_type": "code",
   "execution_count": 37,
   "metadata": {},
   "outputs": [],
   "source": [
    "c = kolaw.open(kolaw.fileids()[0]).read()"
   ]
  },
  {
   "cell_type": "code",
   "execution_count": 42,
   "metadata": {
    "collapsed": true,
    "jupyter": {
     "outputs_hidden": true
    }
   },
   "outputs": [
    {
     "data": {
      "text/plain": [
       "['대한민국',\n",
       " '헌법',\n",
       " '유구',\n",
       " '역사',\n",
       " '전통',\n",
       " '우리',\n",
       " '국민',\n",
       " '운동',\n",
       " '건립',\n",
       " '대한민국',\n",
       " '임시정부',\n",
       " '법',\n",
       " '통과',\n",
       " '불의',\n",
       " '항거',\n",
       " '민주',\n",
       " '이념',\n",
       " '계승',\n",
       " '조국',\n",
       " '민주',\n",
       " '개혁',\n",
       " '평화',\n",
       " '통일',\n",
       " '사명',\n",
       " '입',\n",
       " '각하',\n",
       " '정의',\n",
       " '인도',\n",
       " '동포',\n",
       " '애',\n",
       " '로써',\n",
       " '민족',\n",
       " '단결',\n",
       " '공고',\n",
       " '모든',\n",
       " '사회',\n",
       " '폐습',\n",
       " '불의',\n",
       " '타파',\n",
       " '자율',\n",
       " '조화',\n",
       " '바탕',\n",
       " '자유민주',\n",
       " '질서',\n",
       " '더욱',\n",
       " '정치',\n",
       " '경제',\n",
       " '사회',\n",
       " '문화',\n",
       " '모든',\n",
       " '영역',\n",
       " '각인',\n",
       " '기회',\n",
       " '능력',\n",
       " '최고',\n",
       " '도로',\n",
       " '발휘',\n",
       " '자유',\n",
       " '권리',\n",
       " '책임',\n",
       " '의무',\n",
       " '완수',\n",
       " '안',\n",
       " '국민',\n",
       " '생활',\n",
       " '향상',\n",
       " '기하',\n",
       " '밖',\n",
       " '항구',\n",
       " '세계',\n",
       " '평화',\n",
       " '인류',\n",
       " '공영',\n",
       " '이바지',\n",
       " '함',\n",
       " '우리',\n",
       " '우리',\n",
       " '자손',\n",
       " '안전',\n",
       " '자유',\n",
       " '행복',\n",
       " '확보',\n",
       " '것',\n",
       " '다짐',\n",
       " '제정',\n",
       " '차',\n",
       " '개정',\n",
       " '헌법',\n",
       " '이제',\n",
       " '국회',\n",
       " '의결',\n",
       " '국민투표',\n",
       " '개정',\n",
       " '제',\n",
       " '장',\n",
       " '강',\n",
       " '제',\n",
       " '대한민국',\n",
       " '민주공화국',\n",
       " '대한민국',\n",
       " '주권',\n",
       " '국민',\n",
       " '모든',\n",
       " '권력',\n",
       " '국민',\n",
       " '제',\n",
       " '대한민국',\n",
       " '국민',\n",
       " '요건',\n",
       " '법률',\n",
       " '정',\n",
       " '국가',\n",
       " '법률',\n",
       " '정',\n",
       " '바',\n",
       " '재외국민',\n",
       " '보호',\n",
       " '의무',\n",
       " '제',\n",
       " '대한민국',\n",
       " '영토',\n",
       " '한반도',\n",
       " '그',\n",
       " '부속',\n",
       " '도서',\n",
       " '제',\n",
       " '대한민국',\n",
       " '통일',\n",
       " '지향',\n",
       " '자유민주',\n",
       " '질서',\n",
       " '입각',\n",
       " '평화',\n",
       " '통일',\n",
       " '정책',\n",
       " '수립',\n",
       " '추진',\n",
       " '제',\n",
       " '대한민국',\n",
       " '국제',\n",
       " '평화',\n",
       " '유지',\n",
       " '노력',\n",
       " '침략',\n",
       " '전쟁',\n",
       " '부인',\n",
       " '국군',\n",
       " '국가',\n",
       " '안전보장',\n",
       " '국토',\n",
       " '방위',\n",
       " '의무',\n",
       " '수행',\n",
       " '함',\n",
       " '사명',\n",
       " '그',\n",
       " '정치',\n",
       " '중립성',\n",
       " '준수',\n",
       " '제',\n",
       " '헌법',\n",
       " '체결',\n",
       " '공포',\n",
       " '조약',\n",
       " '일반',\n",
       " '승인',\n",
       " '국제',\n",
       " '법규',\n",
       " '국내법',\n",
       " '효력',\n",
       " '외국인',\n",
       " '국제',\n",
       " '법',\n",
       " '조약',\n",
       " '정',\n",
       " '바',\n",
       " '그',\n",
       " '지위',\n",
       " '보장',\n",
       " '제',\n",
       " '공무원',\n",
       " '국민',\n",
       " '전체',\n",
       " '대한',\n",
       " '봉사자',\n",
       " '국민',\n",
       " '대하',\n",
       " '책임',\n",
       " '공무원',\n",
       " '신분',\n",
       " '정치',\n",
       " '중립성',\n",
       " '법률',\n",
       " '정',\n",
       " '바',\n",
       " '보장',\n",
       " '제',\n",
       " '정당',\n",
       " '설립',\n",
       " '자유',\n",
       " '복수정당제',\n",
       " '보장',\n",
       " '정당',\n",
       " '그',\n",
       " '목적',\n",
       " '조직',\n",
       " '활동',\n",
       " '민주',\n",
       " '국민',\n",
       " '정치',\n",
       " '의사',\n",
       " '형성',\n",
       " '참여',\n",
       " '조직',\n",
       " '정당',\n",
       " '법률',\n",
       " '정',\n",
       " '바',\n",
       " '국가',\n",
       " '보호',\n",
       " '국가',\n",
       " '법률',\n",
       " '정',\n",
       " '바',\n",
       " '정당',\n",
       " '운영',\n",
       " '자금',\n",
       " '보조',\n",
       " '수',\n",
       " '정당',\n",
       " '목적',\n",
       " '활동',\n",
       " '민주',\n",
       " '질서',\n",
       " '위배',\n",
       " '때',\n",
       " '정부',\n",
       " '헌법재판소',\n",
       " '그',\n",
       " '해산',\n",
       " '제소',\n",
       " '수',\n",
       " '정당',\n",
       " '헌법재판소',\n",
       " '심판',\n",
       " '해산',\n",
       " '제',\n",
       " '국가',\n",
       " '전통문화',\n",
       " '계승',\n",
       " '발전',\n",
       " '민족',\n",
       " '문화',\n",
       " '창달',\n",
       " '노력',\n",
       " '제',\n",
       " '장',\n",
       " '국민',\n",
       " '권리',\n",
       " '의무',\n",
       " '제',\n",
       " '모든',\n",
       " '국민',\n",
       " '인간',\n",
       " '존엄',\n",
       " '가치',\n",
       " '가지',\n",
       " '행복',\n",
       " '추구',\n",
       " '권리',\n",
       " '국가',\n",
       " '개인',\n",
       " '불가침',\n",
       " '기본',\n",
       " '인권',\n",
       " '확인',\n",
       " '보장',\n",
       " '의무',\n",
       " '제',\n",
       " '모든',\n",
       " '국민',\n",
       " '법',\n",
       " '앞',\n",
       " '누구',\n",
       " '성별',\n",
       " '종교',\n",
       " '사회',\n",
       " '신분',\n",
       " '정치',\n",
       " '경제',\n",
       " '사회',\n",
       " '문화',\n",
       " '생활',\n",
       " '모든',\n",
       " '영역',\n",
       " '차별',\n",
       " '사회',\n",
       " '특수',\n",
       " '계급',\n",
       " '제도',\n",
       " '인정',\n",
       " '형태',\n",
       " '도',\n",
       " '창설',\n",
       " '수',\n",
       " '훈장',\n",
       " '등',\n",
       " '영전',\n",
       " '자',\n",
       " '효력',\n",
       " '특권',\n",
       " '이',\n",
       " '제',\n",
       " '모든',\n",
       " '국민',\n",
       " '신체',\n",
       " '자유',\n",
       " '누구',\n",
       " '법률',\n",
       " '체포',\n",
       " '구속',\n",
       " '압수',\n",
       " '수색',\n",
       " '심문',\n",
       " '법률',\n",
       " '절차',\n",
       " '처벌',\n",
       " '보안처분',\n",
       " '강제',\n",
       " '노역',\n",
       " '모든',\n",
       " '국민',\n",
       " '고문',\n",
       " '형사',\n",
       " '자기',\n",
       " '진술',\n",
       " '강요',\n",
       " '체포',\n",
       " '구속',\n",
       " '압수',\n",
       " '수색',\n",
       " '때',\n",
       " '절차',\n",
       " '검사',\n",
       " '신청',\n",
       " '법관',\n",
       " '발부',\n",
       " '영장',\n",
       " '제시',\n",
       " '다만',\n",
       " '현행범인',\n",
       " '경우',\n",
       " '장기',\n",
       " '이상',\n",
       " '형',\n",
       " '해당',\n",
       " '죄',\n",
       " '범',\n",
       " '도피',\n",
       " '증거',\n",
       " '멸',\n",
       " '염려',\n",
       " '때',\n",
       " '사후',\n",
       " '영장',\n",
       " '청구',\n",
       " '수',\n",
       " '누구',\n",
       " '체포',\n",
       " '구속',\n",
       " '당한',\n",
       " '때',\n",
       " '즉시',\n",
       " '변호인',\n",
       " '조력',\n",
       " '권리',\n",
       " '다만',\n",
       " '형사',\n",
       " '피고인',\n",
       " '스스로',\n",
       " '변호인',\n",
       " '구',\n",
       " '수',\n",
       " '때',\n",
       " '법률',\n",
       " '정',\n",
       " '바',\n",
       " '국가',\n",
       " '변호인',\n",
       " '누구',\n",
       " '체포',\n",
       " '구속',\n",
       " '이유',\n",
       " '변호인',\n",
       " '조력',\n",
       " '권리',\n",
       " '음',\n",
       " '고지',\n",
       " '체포',\n",
       " '구속',\n",
       " '체포',\n",
       " '구속',\n",
       " '당한',\n",
       " '자의',\n",
       " '가족',\n",
       " '등',\n",
       " '법률',\n",
       " '정',\n",
       " '자',\n",
       " '그',\n",
       " '이유',\n",
       " '일시',\n",
       " '장소',\n",
       " '지체',\n",
       " '통지',\n",
       " '누구',\n",
       " '체포',\n",
       " '구속',\n",
       " '당한',\n",
       " '때',\n",
       " '적',\n",
       " '부의',\n",
       " '심사',\n",
       " '법원',\n",
       " '청구',\n",
       " '권리',\n",
       " '피고인',\n",
       " '자백',\n",
       " '고문',\n",
       " '폭행',\n",
       " '협박',\n",
       " '구속',\n",
       " '장기',\n",
       " '망',\n",
       " '기타',\n",
       " '방법',\n",
       " '자의',\n",
       " '진술',\n",
       " '것',\n",
       " '인정',\n",
       " '때',\n",
       " '정식',\n",
       " '재판',\n",
       " '피고인',\n",
       " '자백',\n",
       " '그',\n",
       " '증거',\n",
       " '일',\n",
       " '때',\n",
       " '유죄',\n",
       " '증거',\n",
       " '이유',\n",
       " '처벌',\n",
       " '수',\n",
       " '제',\n",
       " '모든',\n",
       " '국민',\n",
       " '행위',\n",
       " '시',\n",
       " '법률',\n",
       " '범죄',\n",
       " '구성',\n",
       " '행위',\n",
       " '추',\n",
       " '범죄',\n",
       " '대하',\n",
       " '거듭',\n",
       " '처벌',\n",
       " '모든',\n",
       " '국민',\n",
       " '소급입법',\n",
       " '참정권',\n",
       " '제한',\n",
       " '재산권',\n",
       " '박탈',\n",
       " '모든',\n",
       " '국민',\n",
       " '자기',\n",
       " '행위',\n",
       " '친족',\n",
       " '행위',\n",
       " '불이익',\n",
       " '처우',\n",
       " '제',\n",
       " '모든',\n",
       " '국민',\n",
       " '거주',\n",
       " '이전',\n",
       " '자유',\n",
       " '제',\n",
       " '모든',\n",
       " '국민',\n",
       " '직업',\n",
       " '선택',\n",
       " '자유',\n",
       " '제',\n",
       " '모든',\n",
       " '국민',\n",
       " '주거',\n",
       " '자유',\n",
       " '침해',\n",
       " '주거',\n",
       " '대한',\n",
       " '압수',\n",
       " '수색',\n",
       " '때',\n",
       " '검사',\n",
       " '신청',\n",
       " '법관',\n",
       " '발부',\n",
       " '영장',\n",
       " '제시',\n",
       " '제',\n",
       " '모든',\n",
       " '국민',\n",
       " '사생활',\n",
       " '비밀',\n",
       " '자유',\n",
       " '침해',\n",
       " '제',\n",
       " '모든',\n",
       " '국민',\n",
       " '통신',\n",
       " '비밀',\n",
       " '침해',\n",
       " '제',\n",
       " '모든',\n",
       " '국민',\n",
       " '양심',\n",
       " '자유',\n",
       " '제',\n",
       " '모든',\n",
       " '국민',\n",
       " '종교',\n",
       " '자유',\n",
       " '국교',\n",
       " '인정',\n",
       " '종교',\n",
       " '정치',\n",
       " '분리',\n",
       " '제',\n",
       " '모든',\n",
       " '국민',\n",
       " '언론',\n",
       " '출판',\n",
       " '자유',\n",
       " '집회',\n",
       " '결사',\n",
       " '자유',\n",
       " '언론',\n",
       " '출판',\n",
       " '대한',\n",
       " '허가',\n",
       " '검열',\n",
       " '집회',\n",
       " '결사',\n",
       " '대한',\n",
       " '허가',\n",
       " '인정',\n",
       " '통신',\n",
       " '방송',\n",
       " '시설',\n",
       " '기준',\n",
       " '신문',\n",
       " '기능',\n",
       " '보장',\n",
       " '위',\n",
       " '사항',\n",
       " '법률',\n",
       " '정',\n",
       " '언론',\n",
       " '출판',\n",
       " '타인',\n",
       " '명예',\n",
       " '권리',\n",
       " '공중도덕',\n",
       " '사회',\n",
       " '윤리',\n",
       " '침해',\n",
       " '언론',\n",
       " '출판',\n",
       " '타인',\n",
       " '명예',\n",
       " '권리',\n",
       " '침해',\n",
       " '때',\n",
       " '피해자',\n",
       " '이',\n",
       " '대한',\n",
       " '피해',\n",
       " '배상',\n",
       " '청구',\n",
       " '수',\n",
       " '제',\n",
       " '모든',\n",
       " '국민',\n",
       " '학문',\n",
       " '예술',\n",
       " '자유',\n",
       " '저작자',\n",
       " '발명가',\n",
       " '과학기술',\n",
       " '예술가',\n",
       " '권리',\n",
       " '법률',\n",
       " '로써',\n",
       " '보호',\n",
       " '제',\n",
       " '모든',\n",
       " '국민',\n",
       " '재산권',\n",
       " '보장',\n",
       " '그',\n",
       " '내용',\n",
       " '한계',\n",
       " '법률',\n",
       " '정',\n",
       " '재산권',\n",
       " '행사',\n",
       " '복리',\n",
       " '공공필요',\n",
       " '재산권',\n",
       " '수용',\n",
       " '사용',\n",
       " '제한',\n",
       " '및',\n",
       " '그',\n",
       " '대한',\n",
       " '보상',\n",
       " '법률',\n",
       " '로써',\n",
       " '보상',\n",
       " '지급',\n",
       " '제',\n",
       " '모든',\n",
       " '국민',\n",
       " '법률',\n",
       " '정',\n",
       " '바',\n",
       " '선거권',\n",
       " '제',\n",
       " '모든',\n",
       " '국민',\n",
       " '법률',\n",
       " '정',\n",
       " '바',\n",
       " '공무',\n",
       " '담임',\n",
       " '제',\n",
       " '모든',\n",
       " '국민',\n",
       " '법률',\n",
       " '정',\n",
       " '바',\n",
       " '국가',\n",
       " '기관',\n",
       " '문서',\n",
       " '청원',\n",
       " '권리',\n",
       " '국가',\n",
       " '청원',\n",
       " '대하',\n",
       " '심사',\n",
       " '의무',\n",
       " '제',\n",
       " '모든',\n",
       " '국민',\n",
       " '헌법',\n",
       " '법률',\n",
       " '정',\n",
       " '법관',\n",
       " '법률',\n",
       " '재판',\n",
       " '권리',\n",
       " '군인',\n",
       " '군무원',\n",
       " '국민',\n",
       " '대한민국',\n",
       " '영역',\n",
       " '안',\n",
       " '군사',\n",
       " '기밀',\n",
       " '초병',\n",
       " '초소',\n",
       " '유독',\n",
       " '음식물',\n",
       " '공급',\n",
       " '포로',\n",
       " '군용',\n",
       " '물',\n",
       " '관',\n",
       " '죄',\n",
       " '법률',\n",
       " '정',\n",
       " '경우',\n",
       " '비상계엄',\n",
       " '선포',\n",
       " '경우',\n",
       " '제외',\n",
       " '군사법원',\n",
       " '재판',\n",
       " '모든',\n",
       " '국민',\n",
       " '재판',\n",
       " '권리',\n",
       " '형사',\n",
       " '피고인',\n",
       " '이유',\n",
       " '지체',\n",
       " '공개',\n",
       " '재판',\n",
       " '권리',\n",
       " '형사',\n",
       " '피고인',\n",
       " '유죄',\n",
       " '판결',\n",
       " '확정',\n",
       " '때',\n",
       " '무죄',\n",
       " '추정',\n",
       " '형사',\n",
       " '피해자',\n",
       " '법률',\n",
       " '정',\n",
       " '바',\n",
       " '사건',\n",
       " '재판',\n",
       " '절차',\n",
       " '진술',\n",
       " '수',\n",
       " '제',\n",
       " '형사',\n",
       " '피의자',\n",
       " '형사',\n",
       " '피고인',\n",
       " '구금',\n",
       " '자가',\n",
       " '법률',\n",
       " '정',\n",
       " '불기소처분',\n",
       " '무죄판결',\n",
       " '때',\n",
       " '법률',\n",
       " '정',\n",
       " '바',\n",
       " '국가',\n",
       " '보상',\n",
       " '청구',\n",
       " '수',\n",
       " '제',\n",
       " '공무원',\n",
       " '직무',\n",
       " '불법행위',\n",
       " '손해',\n",
       " '국민',\n",
       " '법률',\n",
       " '정',\n",
       " '바',\n",
       " '국가',\n",
       " '단체',\n",
       " '배상',\n",
       " '청구',\n",
       " '수',\n",
       " '이',\n",
       " '경우',\n",
       " '공무원',\n",
       " '자신',\n",
       " '책임',\n",
       " '면제',\n",
       " '군인',\n",
       " '군무원',\n",
       " '경찰',\n",
       " '공무원',\n",
       " '기타',\n",
       " '법률',\n",
       " '정',\n",
       " '자가',\n",
       " '전투',\n",
       " '훈련',\n",
       " '등',\n",
       " '직무',\n",
       " '집행',\n",
       " '관련',\n",
       " '손해',\n",
       " '대하',\n",
       " '여',\n",
       " '법률',\n",
       " '정',\n",
       " '보상',\n",
       " '외',\n",
       " '국가',\n",
       " '단체',\n",
       " '공무원',\n",
       " '직무',\n",
       " '불법행위',\n",
       " '배상',\n",
       " '청구',\n",
       " '수',\n",
       " '제',\n",
       " '타인',\n",
       " '범죄',\n",
       " '행위',\n",
       " '생명',\n",
       " '신체',\n",
       " '대한',\n",
       " '피해',\n",
       " '국민',\n",
       " '법률',\n",
       " '정',\n",
       " '바',\n",
       " '국가',\n",
       " '로부터',\n",
       " '구조',\n",
       " '수',\n",
       " '제',\n",
       " '모든',\n",
       " '국민',\n",
       " '능력',\n",
       " '교육',\n",
       " '권리',\n",
       " '모든',\n",
       " '국민',\n",
       " '그',\n",
       " '보호',\n",
       " '자녀',\n",
       " '초등교육',\n",
       " '법률',\n",
       " '정',\n",
       " '교육',\n",
       " '의무',\n",
       " '의무교육',\n",
       " '무상',\n",
       " '교육',\n",
       " '자주성',\n",
       " '전문성',\n",
       " '정치',\n",
       " '중립성',\n",
       " '및',\n",
       " '대학',\n",
       " '자율성',\n",
       " '법률',\n",
       " '정',\n",
       " '바',\n",
       " '보장',\n",
       " '국가',\n",
       " '평생교육',\n",
       " '진흥',\n",
       " '학교',\n",
       " '교육',\n",
       " '및',\n",
       " '평생교육',\n",
       " '포함',\n",
       " '교육제도',\n",
       " '그',\n",
       " '운영',\n",
       " '교육재정',\n",
       " '및',\n",
       " '교원',\n",
       " '지위',\n",
       " '관',\n",
       " '기본',\n",
       " '사항',\n",
       " '법률',\n",
       " '정',\n",
       " '제',\n",
       " '모든',\n",
       " '국민',\n",
       " '근로',\n",
       " '권리',\n",
       " '국가',\n",
       " '사회',\n",
       " '경제',\n",
       " '방법',\n",
       " '근로자',\n",
       " '고용',\n",
       " '증진',\n",
       " '적정',\n",
       " '임금',\n",
       " '보장',\n",
       " '노력',\n",
       " '법률',\n",
       " '정',\n",
       " '바',\n",
       " '최저임금제',\n",
       " '시행',\n",
       " '모든',\n",
       " '국민',\n",
       " '근로',\n",
       " '의무',\n",
       " '국가',\n",
       " '근로',\n",
       " '의무',\n",
       " '내용',\n",
       " '조건',\n",
       " '민주주의',\n",
       " '원칙',\n",
       " '법률',\n",
       " '정',\n",
       " '근로',\n",
       " '조건',\n",
       " '기준',\n",
       " '인간',\n",
       " '존엄성',\n",
       " '보장',\n",
       " '법률',\n",
       " '정',\n",
       " '여자',\n",
       " '근로',\n",
       " '보호',\n",
       " '고용',\n",
       " '임금',\n",
       " '및',\n",
       " '근로',\n",
       " '조건',\n",
       " '차별',\n",
       " '연소자',\n",
       " '근로',\n",
       " '보호',\n",
       " '국가',\n",
       " '유공',\n",
       " '상이',\n",
       " '군경',\n",
       " '및',\n",
       " '전몰',\n",
       " '경의',\n",
       " '유가족',\n",
       " '법률',\n",
       " '정',\n",
       " '바',\n",
       " '우선',\n",
       " '근로',\n",
       " '기회',\n",
       " '부여',\n",
       " '제',\n",
       " '근로자',\n",
       " '근로',\n",
       " '조건',\n",
       " '향상',\n",
       " '위',\n",
       " '자주',\n",
       " '단결권',\n",
       " '단체교섭권',\n",
       " '및',\n",
       " '단체행동권',\n",
       " '공무원',\n",
       " '근로자',\n",
       " '법률',\n",
       " '정',\n",
       " '자',\n",
       " '단결권',\n",
       " '단체교섭권',\n",
       " '및',\n",
       " '단체행동권',\n",
       " '법률',\n",
       " '정',\n",
       " '방위산업',\n",
       " '체',\n",
       " '종사',\n",
       " '근로자',\n",
       " '단체행동권',\n",
       " '법률',\n",
       " '정',\n",
       " '바',\n",
       " '제한',\n",
       " '거나',\n",
       " '인정',\n",
       " '수',\n",
       " '제',\n",
       " '모든',\n",
       " '국민',\n",
       " '인간',\n",
       " '다운',\n",
       " '생활',\n",
       " '권리',\n",
       " '국가',\n",
       " '사회보장',\n",
       " '사회',\n",
       " '복지',\n",
       " '증진',\n",
       " '노력',\n",
       " '의무',\n",
       " '국가',\n",
       " '여자',\n",
       " '복지',\n",
       " '권익',\n",
       " '향상',\n",
       " '위',\n",
       " '노력',\n",
       " '국가',\n",
       " '노인',\n",
       " '청소년',\n",
       " '복지',\n",
       " '향상',\n",
       " '위',\n",
       " '정책',\n",
       " '실시',\n",
       " '의무',\n",
       " '신체',\n",
       " '장애자',\n",
       " '및',\n",
       " ...]"
      ]
     },
     "execution_count": 42,
     "metadata": {},
     "output_type": "execute_result"
    }
   ],
   "source": [
    "okt.nouns(c)"
   ]
  },
  {
   "cell_type": "code",
   "execution_count": 38,
   "metadata": {},
   "outputs": [
    {
     "data": {
      "text/plain": [
       "nltk.text.Text"
      ]
     },
     "execution_count": 38,
     "metadata": {},
     "output_type": "execute_result"
    }
   ],
   "source": [
    "from nltk import Text\n",
    "kolaw = Text(okt.nouns(c), name='Kolaw')\n",
    "type(kolaw)"
   ]
  },
  {
   "cell_type": "code",
   "execution_count": 39,
   "metadata": {},
   "outputs": [
    {
     "data": {
      "text/plain": [
       "FreqDist({'제': 175, '법률': 127, '정': 89, '수': 88, '대통령': 83, '국가': 73, '국회': 68, '국민': 61, '관': 58, '때': 55, ...})"
      ]
     },
     "execution_count": 39,
     "metadata": {},
     "output_type": "execute_result"
    }
   ],
   "source": [
    "kolaw.vocab()"
   ]
  },
  {
   "cell_type": "code",
   "execution_count": 41,
   "metadata": {},
   "outputs": [
    {
     "data": {
      "image/png": "[encoded data removed]",
      "text/plain": [
       "<Figure size 432x288 with 1 Axes>"
      ]
     },
     "metadata": {
      "needs_background": "light"
     },
     "output_type": "display_data"
    }
   ],
   "source": [
    "kolaw.plot(30)\n",
    "plt.show()"
   ]
  },
  {
   "cell_type": "code",
   "execution_count": 45,
   "metadata": {},
   "outputs": [],
   "source": [
    "# 불용어 처리하기\n",
    "stop_words = ['제', '정', '수', '관', '때', '를', '위', '바', '및', '입', '그', '이', '.', '(', ')', '-']\n",
    "\n",
    "ko = okt.nouns(c)"
   ]
  },
  {
   "cell_type": "code",
   "execution_count": 46,
   "metadata": {},
   "outputs": [
    {
     "data": {
      "text/plain": [
       "['대한민국', '헌법', '유구', '역사', '전통', '우리', '국민', '운동', '건립', '대한민국']"
      ]
     },
     "execution_count": 46,
     "metadata": {},
     "output_type": "execute_result"
    }
   ],
   "source": [
    "ko = [x for x in ko if x not in stop_words]\n",
    "ko[:10]"
   ]
  },
  {
   "cell_type": "code",
   "execution_count": 47,
   "metadata": {},
   "outputs": [
    {
     "data": {
      "image/png": "[encoded data removed]",
      "text/plain": [
       "<Figure size 432x288 with 1 Axes>"
      ]
     },
     "metadata": {
      "needs_background": "light"
     },
     "output_type": "display_data"
    }
   ],
   "source": [
    "from nltk import Text\n",
    "kolaw = Text(ko, name ='Kolaw')\n",
    "type(kolaw)\n",
    "kolaw.plot(30)\n",
    "plt.show()"
   ]
  },
  {
   "cell_type": "code",
   "execution_count": 52,
   "metadata": {},
   "outputs": [
    {
     "data": {
      "image/png": "[encoded data removed]",
      "text/plain": [
       "<Figure size 432x288 with 1 Axes>"
      ]
     },
     "metadata": {
      "needs_background": "light"
     },
     "output_type": "display_data"
    }
   ],
   "source": [
    "from wordcloud import WordCloud\n",
    "import matplotlib.pyplot as plt\n",
    "\n",
    "# 자신의 컴퓨터 환경에 맞는 한글 폰트 경로를 설정\n",
    "font_path = '/usr/share/fonts/truetype/nanum/NanumGothic.ttf'\n",
    "\n",
    "wc = WordCloud(width = 1000, height = 600, background_color=\"white\", \n",
    "font_path=font_path)\n",
    "plt.imshow(wc.generate_from_frequencies(kolaw.vocab()))\n",
    "plt.axis(\"off\")\n",
    "plt.show()"
   ]
  },
  {
   "cell_type": "code",
   "execution_count": null,
   "metadata": {},
   "outputs": [],
   "source": []
  }
 ],
 "metadata": {
  "kernelspec": {
   "display_name": "Python 3",
   "language": "python",
   "name": "python3"
  },
  "language_info": {
   "codemirror_mode": {
    "name": "ipython",
    "version": 3
   },
   "file_extension": ".py",
   "mimetype": "text/x-python",
   "name": "python",
   "nbconvert_exporter": "python",
   "pygments_lexer": "ipython3",
   "version": "3.7.3"
  }
 },
 "nbformat": 4,
 "nbformat_minor": 4
}
