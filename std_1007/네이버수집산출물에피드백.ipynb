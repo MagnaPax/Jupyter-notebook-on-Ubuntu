{
 "cells": [
  {
   "cell_type": "code",
   "execution_count": 1,
   "metadata": {},
   "outputs": [],
   "source": [
    "import requests\n",
    "import threading,time\n",
    "from bs4 import BeautifulSoup\n",
    "import pandas as pd\n",
    "import math\n",
    "\n",
    "#from konlpy.tag import Okt"
   ]
  },
  {
   "cell_type": "code",
   "execution_count": 4,
   "metadata": {},
   "outputs": [
    {
     "name": "stdout",
     "output_type": "stream",
     "text": [
      "total_score: 17444\n"
     ]
    }
   ],
   "source": [
    "# 댓글 수집 자동화\n",
    "\n",
    "url =\"https://movie.naver.com/movie/bi/mi/pointWriteFormList.nhn?code=188909&type=after&isActualPointWriteExecute=false&isMileageSubscriptionAlready=false&isMileageSubscriptionReject=false&page={}\"\n",
    "\n",
    "response = requests.get(url.format(1))\n",
    "soup = BeautifulSoup(response.text,\"html.parser\")\n",
    "total_score = soup.select_one(\"body > div > div > div.score_total > strong > em\").text\n",
    "total_score =total_score.replace(',','')\n",
    "print('total_score:',total_score)\n",
    "totalPage = math.ceil(int(total_score)/ 10) # 네이버 페이지를 10페이지를 기준으로 나눔\n",
    "\n",
    "#############################################################\n",
    "\n",
    "def find_comment(page = 1):\n",
    "    response = requests.get(url.format(page))\n",
    "    soup = BeautifulSoup(response.text,\"html.parser\")\n",
    "    tag = soup.find(\"div\",class_='score_result')\n",
    "    tagli = tag.find_all(\"li\")\n",
    "    \n",
    "    #평점과 댓글을 입력할 리스트를 생성한다.\n",
    "    score,text = [],[]\n",
    "    for e in tagli:\n",
    "        if int(e.em.text) >= 8:\n",
    "            score.append(1)\n",
    "            text.append(e.p.get_text(\" \",strip=True))\n",
    "        elif int(e.em.text) <= 5:\n",
    "            score.append(0)\n",
    "            text.append(e.p.get_text(\" \", strip=True))\n",
    "\n",
    "    return score,text    "
   ]
  },
  {
   "cell_type": "code",
   "execution_count": 9,
   "metadata": {},
   "outputs": [],
   "source": [
    "def searchNaver(totalPage):\n",
    "    # 1페이지부터\n",
    "    sv, tv = [], []\n",
    "    for i in range(1, totalPage):\n",
    "        time.sleep(0.1)\n",
    "        print(\"Count :\", i, end=\"\\r\")\n",
    "        s, t = find_comment(i)\n",
    "\n",
    "        # 파이썬에서는 배열끼리 덧셈 연산을 하면 두개가 하나로 합쳐진다.\n",
    "        sv += s\n",
    "        tv += t\n",
    "    \n",
    "    df = pd.DataFrame([sv, tv]).T\n",
    "    \n",
    "    # 컬럼 지정\n",
    "    df.columns = ['score', 'text']\n",
    "    print(df)\n",
    "    \n",
    "    # CSV파일로 저장하기\n",
    "    df.to_csv('comment.csv')"
   ]
  },
  {
   "cell_type": "code",
   "execution_count": 10,
   "metadata": {},
   "outputs": [
    {
     "name": "stdout",
     "output_type": "stream",
     "text": [
      "Test Code!\n",
      "      score                                               text\n",
      "0         0  관람객 배우들 연기는 참 좋은데, 스토리 개연성이 전혀 없고, 미국 대통령을 누굴 ...\n",
      "1         0                                      보지마세요.. 진심입니다\n",
      "2         0                          관람객 기대한것보다는 너무 하네요 실망 대실망\n",
      "3         1                               관람객 진짜 부함장님이 젤 멋짐 ^^\n",
      "4         0                        관람객 그냥그랬어요.올해본영화중엔 제일별로였어요.\n",
      "5         0                                        너무한다는생각밖ㅇ니ㅣ\n",
      "6         0                                진짜 시간낭비함 나만 당할 수 없다\n",
      "7         0  어떻게 이런 영화를 만들었는ㅈ진짜 재미없음 돈아까움영화 보는중에 졸다가 폰들어 글쓰...\n",
      "8         0  이야..영화를 이렇게 못만드나..마지막부분에 신정근배우 활약하는 부분 외에는 진짜 ...\n",
      "9         0  관람객 한미 두 대통령이 북한에 있더라도 그렇게 쉽게 납치됨장르가 드라마 액션인데 ...\n",
      "10        0                                    시대착오적인 반일 영화 ㅠㅠ\n",
      "11        0                              개연성이 1도없고 장르가 뭔지 모르겠음\n",
      "12        0                                  양심있는 박평식씨는 평을 안했음\n",
      "13        0  ㅋㅋ그래도 명색이 정치가 가미된 액션인데 정치와 세계정세를 1도 모르는 애가 너무 ...\n",
      "14        0                                 이거 만든놈들..걍 다 북으로가라\n",
      "15        0  연기력 0점 연출 스토리 0점 무엇보다 미스캐스팅; 진짜 뭐하나 제대로 된게 없는 ...\n",
      "16        0                                       무슨 내용인지 모르겠음\n",
      "17        0                                      속보이는 반미 반일 영화\n",
      "18        0                                쓰고 갔던 마스크 한장이 아깝습니다\n",
      "19        0  한숨만 나온다.이 배우들로 굳이 이렇게 만들었어야했을까!시나리오 보고 투자했다고! ...\n",
      "20        0                                    진짜 왜 이러는 걸까요???\n",
      "21        0  처음쓰는 리뷰 별점더 낮게 못줘서 1개라도 주고갑니다. 기억나는건 롯데시네마 의자는...\n",
      "22        0                              영화 평점 처음 남겨봅니다 진짜 개노잼\n",
      "23        0                    한국 배우들 연기 잘 하는 거 빼고는 아주 볼폼없는 영화\n",
      "24        0  한국은 정우성, 북한은 유연석인데 미국대통령은  브래드피트 써야되는거 아님? 의도가...\n",
      "25        0  관람객 스포일러가 포함된 감상평입니다. 감상평 보기 진짜 미화가 너무 심할 정도 미...\n",
      "26        0                애초에 후속작이 나올만한 영화도 아닌데.. 어휴 유치찬란 그자체\n",
      "27        0  아니 강철비 1이랑 이어지는 내용인줄알고 봤는데 정우성이 갑자기 대통령이되고 곽도원...\n",
      "28        0                          정말 말도 안되는 개그코드 어울리지 않는 배역\n",
      "29        0                             이런영화 만들면 안됨 정치성향이 너무세다\n",
      "...     ...                                                ...\n",
      "16349     0                스토리를 보고도 이딴 걸 35만명이나 쳐보고 있네.대단하다 진짜\n",
      "16350     0  관람객 아무리 영화라 하지만, 현 정권을 옹호하는 듯한 억지 스런연기와 지나친 정치...\n",
      "16351     0                                     좌빨 빨갱이 영화 ㅋㅋ ㅋ\n",
      "16352     0              좌파대통령우상화, 반일,반미, 남북은한민족, 세뇌영화를본것같다...\n",
      "16353     0        한국영화의 질이 갈수록 낮아진다. 감독은 시나리오 작법서 부터 다시 공부하시길\n",
      "16354     0                             관람객 낚였다~억측난무, 정치 다큐 영화\n",
      "16355     0  참나... 북한에서 선전방송하듯이... 남한 선전방송 영화를 만드는 듯 함.... ...\n",
      "16356     0  진심 여기 10점 주는 사람들 다 알바가 아닐까 함. 생애 태어나서 본영화중 최악중...\n",
      "16357     0                                관람객 대통령들의 노잼인 반상회 ㅋ\n",
      "16358     0                   관람객 지금 강의하십니까? 보고 나서 무척 기분 안좋습니다\n",
      "16359     0              좌파의 3대 배우 중  한놈이 자유민주주의 국가 대통력 역할.ㅋㅋㅋ\n",
      "16360     0                          관람객 노잼 영화입니다.잠만자고왔습니다.하하하\n",
      "16361     0                                       정치병자들을 위한 영화\n",
      "16362     0  주적은 북한입니다. 국뽕들이 말하는 근현대사도 일제강점기때보다 625한국전쟁이 가깝...\n",
      "16363     0  관람객 스포일러가 포함된 감상평입니다. 감상평 보기 솔직히 캐스팅도 좀 형편없고 내...\n",
      "16364     0                             관람객 이게 무슨.. 재미도 감동도 없음\n",
      "16365     0  관람객 개그콘서트느낌..?  웃길라고 시도 하는 장면들 많은데 웃는 사람 아무도 없...\n",
      "16366     0                          일본이 미국한국북한 지도자를 납치한다? 에라이\n",
      "16367     0           아직도 국뽕에 기대어 관람객 돈 등 처 먹는 한국영화계는 반성해야 한다.\n",
      "16368     0                    요즘 한국 영화 판 보면 나치  선전선동물 보는 것 같다\n",
      "16369     0                          관람객 개인적으로 사회주의를 옹호하는 영화였다\n",
      "16370     0                   쓰레기 영화. 역사왜곡. 선동질. 정말 해도해도 너무하다.\n",
      "16371     0                    관람객 북에서 개봉하면 인기많을듯 ㅋㅋㅋ 김정은 미화영화\n",
      "16372     0  관람객 북한 그리고 김정은 미화, 북한의 핵 정당화. 미국 대통령을 우습게(멍청하게...\n",
      "16373     0  현재 우리나라, 북한, 미국 정상들의 행태가 꼴보기 싫은 사람은 보지 않을것을 추천...\n",
      "16374     0                        별점 한개도아까움. 보다 나옴 ㅡㅡ역대급최악의영화\n",
      "16375     0                      하... 그래서 좌빨나라 광고하냐 진짜 손발오그라드네\n",
      "16376     0  완전 정치적 영화 김대중,노문현 정권시절 북한 빨고 일본 적대 영화만 나오더니 문재...\n",
      "16377     0  이거 볼 돈으로 영화관 매점에서 팝콘 사서 두시간동안 멍때리는게 더 의미있습니다. ...\n",
      "16378     0                                       나라망치는 최악의 영화\n",
      "\n",
      "[16379 rows x 2 columns]\n"
     ]
    }
   ],
   "source": [
    "t1 = threading.Thread(target=searchNaver,args=(totalPage,))\n",
    "t1.start()\n",
    "print(\"Test Code!\")"
   ]
  },
  {
   "cell_type": "code",
   "execution_count": null,
   "metadata": {},
   "outputs": [],
   "source": []
  }
 ],
 "metadata": {
  "kernelspec": {
   "display_name": "Python 3",
   "language": "python",
   "name": "python3"
  },
  "language_info": {
   "codemirror_mode": {
    "name": "ipython",
    "version": 3
   },
   "file_extension": ".py",
   "mimetype": "text/x-python",
   "name": "python",
   "nbconvert_exporter": "python",
   "pygments_lexer": "ipython3",
   "version": "3.7.3"
  }
 },
 "nbformat": 4,
 "nbformat_minor": 4
}
